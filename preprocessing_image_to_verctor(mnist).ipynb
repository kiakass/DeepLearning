{
 "cells": [
  {
   "cell_type": "code",
   "execution_count": 3,
   "metadata": {},
   "outputs": [],
   "source": [
    "import numpy as np\n",
    "import pandas as pd\n",
    "import matplotlib.pyplot as plt\n",
    "import keras "
   ]
  },
  {
   "cell_type": "code",
   "execution_count": 4,
   "metadata": {},
   "outputs": [],
   "source": [
    "img_path = 'C:\\\\03.DATA\\\\archive\\\\trainingSet\\\\trainingSet\\\\0\\\\'\n",
    "img_name = 'img_1.jpg'\n",
    "img_nm=img_path+img_name"
   ]
  },
  {
   "cell_type": "code",
   "execution_count": 11,
   "metadata": {
    "scrolled": true
   },
   "outputs": [
    {
     "data": {
      "text/plain": [
       "<matplotlib.image.AxesImage at 0x1a25c8e18d0>"
      ]
     },
     "execution_count": 11,
     "metadata": {},
     "output_type": "execute_result"
    },
    {
     "data": {
      "image/png": "[encoded data removed]",
      "text/plain": [
       "<Figure size 432x288 with 1 Axes>"
      ]
     },
     "metadata": {
      "needs_background": "light"
     },
     "output_type": "display_data"
    }
   ],
   "source": [
    "import matplotlib.pyplot as plt\n",
    "import matplotlib.image as img\n",
    "\n",
    "img_view = img.imread(img_path+img_name)\n",
    "plt.imshow(img_view)"
   ]
  },
  {
   "cell_type": "code",
   "execution_count": 24,
   "metadata": {},
   "outputs": [
    {
     "data": {
      "text/plain": [
       "(27, 27, 3)"
      ]
     },
     "execution_count": 24,
     "metadata": {},
     "output_type": "execute_result"
    }
   ],
   "source": [
    " # Preprocess the image into a 4D tensor using keras.preprocessing\n",
    "\n",
    "from keras.preprocessing import image\n",
    "\n",
    "img = image.load_img(img_nm, target_size=(27,27))\n",
    "\n",
    "img_tensor = image.img_to_array(img)\n",
    "img_tensor.shape"
   ]
  },
  {
   "cell_type": "code",
   "execution_count": 19,
   "metadata": {},
   "outputs": [],
   "source": [
    "np.set_printoptions(linewidth=np.inf) # 동일 라인에 출력하기"
   ]
  },
  {
   "cell_type": "code",
   "execution_count": 20,
   "metadata": {
    "scrolled": false
   },
   "outputs": [
    {
     "name": "stdout",
     "output_type": "stream",
     "text": [
      "[[  3.   0.   0.   3.   7.   3.   0.   3.   0.  11.   0.   0.   3.   0.   3.   8.   0.   0.   3.   0.   0.   0.   2.   0.   0.   0.   0.]\n",
      " [  0.   0.   0.   0.   0.   0.   0.   1.   5.   0.  12.   0.  16.   0.   4.   0.   2.   8.   3.   0.   4.   8.   0.   0.   0.   0.   0.]\n",
      " [  0.   0.   2.   0.   0.   0.   1.   2.   1.  12.   0.   8.   0.   0.   0.  11.   0.   0.   6.   7.   2.   0.   0.   0.   0.   0.   0.]\n",
      " [  0.   1.   3.   0.   0.   2.   3.   0.   0.   0.  12.   0.   0.  23.   0.   0.   0.  11.   3.   0.   0.   4.   0.   0.   0.   0.   0.]\n",
      " [  0.   1.   1.   0.   0.   2.   0.   0.   6.   0.  25.  27. 136. 135.  89.  84.  25.   0.   0.   3.   1.   0.   0.   0.   0.   0.   0.]\n",
      " [  4.   0.   0.   0.   0.   0.   0.   0.   3.  88. 247. 236. 255. 249. 227. 240. 136.  37.   1.   0.   2.   2.   0.   0.   0.   0.   0.]\n",
      " [  2.   0.   0.   3.   0.   0.   4.  27. 193. 251. 253. 255. 255. 255. 240. 254. 255. 213.  89.   0.   0.  14.   1.   0.   0.   0.   0.]\n",
      " [  0.   0.   0.   6.   0.   0.  18.  56. 246. 255. 253. 243. 251. 255. 255. 255. 254. 255. 231. 119.   7.   0.   5.   0.   0.   0.   0.]\n",
      " [  4.   0.   0.  12.  13.   0.  65. 190. 246. 255. 255. 251. 255. 109. 199. 255. 247. 250. 255. 234.  92.   0.   0.   0.   0.   0.   0.]\n",
      " [  0.  10.   1.   0.   0.  18. 163. 248. 255. 235. 216. 150. 128.  45.   8.  22. 212. 255. 255. 252. 172.   0.  15.   0.   0.   0.   0.]\n",
      " [  0.   1.   4.   5.   0.   0. 187. 255. 254.  94.  57.   7.   1.   0.   0.   0. 139. 242. 255. 255. 218.  62.   0.   0.   0.   0.   0.]\n",
      " [  5.   2.   0.   0.  11.  56. 252. 235. 253.  20.   5.   2.   5.   1.   1.   2.   0.  97. 249. 248. 249. 166.   8.   0.   0.   0.   0.]\n",
      " [  0.   0.   2.   0.   0.  70. 255. 255. 245.  25.  10.   0.   0.   1.   4.  10.   0.  10. 255. 246. 250. 155.   0.   0.   0.   0.   0.]\n",
      " [  2.   0.   7.  12.   0.  87. 226. 255. 184.   0.   3.   0.  10.   5.   0.   0.   9.   0. 183. 251. 255. 222.  15.   0.   0.   0.   0.]\n",
      " [  0.   4.   3.   0.  19. 251. 239. 255. 247.  30.   1.   0.   4.   4.   0.   0.   2.   0.  47. 255. 255. 247.  21.   0.   0.   0.   0.]\n",
      " [  6.   0.   2.   2.   0. 173. 247. 252. 250.  28.  10.   0.   0.   8.   0.   0.   8.   0.  67. 249. 255. 255.  12.   0.   0.   0.   0.]\n",
      " [  0.   0.   6.   3.   0.  88. 255. 251. 255. 188.  21.   0.  15.   0.   2.  16.   0.  35. 200. 247. 251. 134.   4.   0.   0.   0.   0.]\n",
      " [  0.   3.   3.   1.   0.  11. 211. 247. 249. 255. 189.  76.   0.   0.   0.   2.   0. 169. 255. 255. 247.  47.   0.   0.   0.   0.   0.]\n",
      " [  0.   6.   0.   0.   2.   0.  59. 205. 255. 240. 255. 182.  41.  56.  33.  42. 239. 246. 251. 238. 157.   0.   1.   0.   0.   0.   0.]\n",
      " [  2.   1.   0.   0.   2.  10.   0. 104. 239. 255. 240. 255. 253. 247. 255. 255. 250. 255. 239. 255. 100.   0.   1.   0.   0.   0.   0.]\n",
      " [  1.   0.   3.   0.   0.   7.   0.   4. 114. 255. 255. 255. 255. 247. 253. 251. 254. 237. 251.  89.   0.   0.   1.   0.   0.   0.   0.]\n",
      " [  0.   0.   9.   0.   0.   1.  13.   0.  14. 167. 255. 246. 253. 255. 254. 242. 255. 244.  61.   0.  19.   0.   1.   0.   0.   0.   0.]\n",
      " [  2.   1.   7.   0.   0.   4.   0.  14.   0.  27.  61. 143. 255. 255. 255. 149.  21.   6.  16.   0.   0.   7.   0.   0.   0.   0.   0.]\n",
      " [  0.   0.   0.   0.   0.   0.   0.   0.   0.   0.   0.   0.   0.   0.   0.   0.   0.   0.   0.   0.   0.   0.   0.   0.   0.   0.   0.]\n",
      " [  0.   0.   0.   0.   0.   0.   0.   0.   0.   0.   0.   0.   0.   0.   0.   0.   0.   0.   0.   0.   0.   0.   0.   0.   0.   0.   0.]\n",
      " [  0.   0.   0.   0.   0.   0.   0.   0.   0.   0.   0.   0.   0.   0.   0.   0.   0.   0.   0.   0.   0.   0.   0.   0.   0.   0.   0.]\n",
      " [  0.   0.   0.   0.   0.   0.   0.   0.   0.   0.   0.   0.   0.   0.   0.   0.   0.   0.   0.   0.   0.   0.   0.   0.   0.   0.   0.]]\n"
     ]
    }
   ],
   "source": [
    "print(img_tensor[:,:,1])  #0,1,2 동일함"
   ]
  },
  {
   "cell_type": "code",
   "execution_count": 21,
   "metadata": {},
   "outputs": [],
   "source": [
    "# expand a dimension (3D -> 4D)\n",
    "\n",
    "#img_tensor = np.expand_dims(img_tensor, axis=0)\n",
    "img_tensor.shape\n"
   ]
  },
  {
   "cell_type": "code",
   "execution_count": 25,
   "metadata": {
    "scrolled": true
   },
   "outputs": [
    {
     "data": {
      "text/plain": [
       "<matplotlib.image.AxesImage at 0x1a25ca05978>"
      ]
     },
     "execution_count": 25,
     "metadata": {},
     "output_type": "execute_result"
    },
    {
     "data": {
      "image/png": "[encoded data removed]",
      "text/plain": [
       "<Figure size 432x288 with 1 Axes>"
      ]
     },
     "metadata": {
      "needs_background": "light"
     },
     "output_type": "display_data"
    }
   ],
   "source": [
    "# scaling into [0, 1]\n",
    "img_tensor /= 255.\n",
    "\n",
    "# Image show\n",
    "import matplotlib.pyplot as plt\n",
    "#plt.rcParams['figure.figsize'] = (10, 10) # set figure size\n",
    "plt.imshow(img_tensor)"
   ]
  },
  {
   "cell_type": "code",
   "execution_count": 26,
   "metadata": {},
   "outputs": [],
   "source": [
    "# Pre-processing image into a 4D tensor(여러이미지를담기위해), Scaling\n",
    "\n",
    "def preprocess_img(img_nm, target_size):\n",
    "\n",
    "  img = image.load_img(img_nm, target_size=(target_size, target_size))\n",
    "\n",
    "  img_tensor = image.img_to_array(img)\n",
    "  if img_nm == 'img_1.jpg':\n",
    "    print(img_tensor[0]) \n",
    "\n",
    "  # expand a dimension\n",
    "\n",
    "  img_tensor = np.expand_dims(img_tensor, axis=0)\n",
    "  \n",
    "  # scaling into [0, 1]\n",
    "  img_tensor /= 255.\n",
    "\n",
    "  return img_tensor"
   ]
  },
  {
   "cell_type": "code",
   "execution_count": 28,
   "metadata": {},
   "outputs": [],
   "source": [
    "# file 을 읽어들여 배열로 저장함\n",
    "\n",
    "img_cnt=30\n",
    "target_size = 20\n",
    "image_num = 5\n",
    "img_path = 'C:\\\\03.DATA\\\\archive\\\\trainingSet\\\\trainingSet\\\\0\\\\'\n",
    "img_nm=img_path+img_name\n",
    "\n",
    "total=np.zeros((image_num,target_size,target_size,3))\n",
    "\n",
    "for i in range(1,image_num):\n",
    "  Img_name = 'img_{}.jpg'.format(i)\n",
    "  img_nm = img_path + Img_name\n",
    "\n",
    "  img_tensor = preprocess_img(img_nm, target_size)\n",
    "  total[i]=img_tensor"
   ]
  },
  {
   "cell_type": "code",
   "execution_count": 29,
   "metadata": {},
   "outputs": [
    {
     "data": {
      "image/png": "[encoded data removed]",
      "text/plain": [
       "<Figure size 720x1080 with 4 Axes>"
      ]
     },
     "metadata": {
      "needs_background": "light"
     },
     "output_type": "display_data"
    }
   ],
   "source": [
    "plt.figure(figsize=(10,15))\n",
    "\n",
    "for i in range(1,image_num):\n",
    "    plt.subplot(1,4,i)\n",
    "    plt.imshow(total[i])"
   ]
  },
  {
   "cell_type": "code",
   "execution_count": null,
   "metadata": {},
   "outputs": [],
   "source": []
  }
 ],
 "metadata": {
  "kernelspec": {
   "display_name": "Python 3",
   "language": "python",
   "name": "python3"
  },
  "language_info": {
   "codemirror_mode": {
    "name": "ipython",
    "version": 3
   },
   "file_extension": ".py",
   "mimetype": "text/x-python",
   "name": "python",
   "nbconvert_exporter": "python",
   "pygments_lexer": "ipython3",
   "version": "3.6.9"
  }
 },
 "nbformat": 4,
 "nbformat_minor": 4
}
