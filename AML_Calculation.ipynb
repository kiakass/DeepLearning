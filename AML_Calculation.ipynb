{
  "nbformat": 4,
  "nbformat_minor": 0,
  "metadata": {
    "colab": {
      "name": "AML_Calculation.ipynb",
      "provenance": [],
      "collapsed_sections": [],
      "authorship_tag": "ABX9TyNmBVbvfLUIr+iwzeNgciyl",
      "include_colab_link": true
    },
    "kernelspec": {
      "name": "python3",
      "display_name": "Python 3"
    },
    "language_info": {
      "name": "python"
    }
  },
  "cells": [
    {
      "cell_type": "markdown",
      "metadata": {
        "id": "view-in-github",
        "colab_type": "text"
      },
      "source": [
        "<a href=\"https://colab.research.google.com/github/kiakass/DeepLearning/blob/master/AML_Calculation.ipynb\" target=\"_parent\"><img src=\"https://colab.research.google.com/assets/colab-badge.svg\" alt=\"Open In Colab\"/></a>"
      ]
    },
    {
      "cell_type": "code",
      "metadata": {
        "colab": {
          "base_uri": "https://localhost:8080/",
          "height": 69
        },
        "id": "8Rm_1ffifwf9",
        "outputId": "682e27f6-014e-4198-f8d6-5c8538b8ffb1"
      },
      "source": [
        "'''\n",
        "from google.colab import files\n",
        "uploaded = files.upload() # 파일 업로드 기능 실행\n",
        "\n",
        "for fn in uploaded.keys(): # 업로드된 파일 정보 출력\n",
        "    print('User uploaded file \"{name}\" with length {length} bytes'.format(\n",
        "        name=fn, length=len(uploaded[fn])))\n",
        "'''"
      ],
      "execution_count": 2,
      "outputs": [
        {
          "output_type": "execute_result",
          "data": {
            "application/vnd.google.colaboratory.intrinsic+json": {
              "type": "string"
            },
            "text/plain": [
              "'\\nfrom google.colab import files\\nuploaded = files.upload() # 파일 업로드 기능 실행\\n\\nfor fn in uploaded.keys(): # 업로드된 파일 정보 출력\\n    print(\\'User uploaded file \"{name}\" with length {length} bytes\\'.format(\\n        name=fn, length=len(uploaded[fn])))\\n'"
            ]
          },
          "metadata": {
            "tags": []
          },
          "execution_count": 2
        }
      ]
    },
    {
      "cell_type": "code",
      "metadata": {
        "colab": {
          "base_uri": "https://localhost:8080/",
          "height": 617
        },
        "id": "Rop4c2Nsd4ss",
        "outputId": "0305770d-b306-4998-9107-7bdfb3adf4df"
      },
      "source": [
        "from IPython.display import Image\n",
        "Image(\"mle.jpg\",width = 400, height = 600)"
      ],
      "execution_count": 3,
      "outputs": [
        {
          "output_type": "execute_result",
          "data": {
            "image/png": "mle.jpg",
            "text/plain": [
              "<IPython.core.display.Image object>"
            ]
          },
          "metadata": {
            "tags": [],
            "image/png": {
              "width": 400,
              "height": 600
            }
          },
          "execution_count": 3
        }
      ]
    },
    {
      "cell_type": "code",
      "metadata": {
        "id": "IFFTZAngfBdR"
      },
      "source": [
        "import numpy as np\n",
        "import matplotlib.pyplot as plt\n",
        "import scipy as sp, scipy.stats\n",
        "import pandas as pd\n",
        "np.set_printoptions(linewidth=100)  # line 길이를 늘임\n",
        "\n",
        "def Generate_input_x( x, M):\n",
        "    '''\n",
        "    : covert x to polynomial value\n",
        "    '''\n",
        "    return np.matrix([[x**i] for i in range(M+1)])\n",
        "\n",
        "\n",
        "def Generate_matrix_x( x, M):\n",
        "    '''\n",
        "    : create x matrix  \n",
        "    '''\n",
        "    pi_x=None\n",
        "    #basis_func=np.matrix([M + 1, num])\n",
        "    for x in X:\n",
        "        if np.where(X==x)[0][0] == 0 :\n",
        "            pi_x = Generate_input_x(x, M)\n",
        "        else: \n",
        "            conn_x = Generate_input_x(x, M)\n",
        "            pi_x = np.concatenate((pi_x, conn_x),axis=1)\n",
        "            \n",
        "    return pi_x\n",
        "\n",
        "def Generate_target_t(x,m,beta,num):\n",
        "    '''\n",
        "    : generate target t \n",
        "    '''\n",
        "    np.random.seed(1234)\n",
        "    epsilon = sp.stats.norm(m,beta**-1).rvs(num)\n",
        "    return np.sin(2*np.pi*x) + epsilon\n",
        "\n",
        "def Calculate_w( X,T,M, alpha=None, est=None):\n",
        "    '''\n",
        "    : MLE : w = (x.T*x)^-1 * x.T * t :  w value\n",
        "    : MAP : w = (x.T*x + alpha*I)^-1 * x.T * t :  w value\n",
        "    '''\n",
        "    A = np.matrix(np.zeros((M + 1, M + 1)))\n",
        "    b = np.matrix(np.zeros((M + 1,     1)))\n",
        "\n",
        "    for x, t in zip(X,T):\n",
        "\n",
        "        x_power = Generate_input_x(x,M)\n",
        "        A += np.dot(x_power, x_power.T) \n",
        "        b += t * x_power\n",
        "        #print('X:',x,'\\n','T:',t,'\\n','x_power:',x_power,'\\n','A:',A,'\\n','b:',b,'\\n####')\n",
        "\n",
        "    if est == \"MAP\":\n",
        "        A += alpha * np.identity(M + 1)\n",
        "        \n",
        "    #print(A,'\\n','b :',b)\n",
        "\n",
        "    return np.dot(A.I, b)"
      ],
      "execution_count": 42,
      "outputs": []
    },
    {
      "cell_type": "code",
      "metadata": {
        "colab": {
          "base_uri": "https://localhost:8080/",
          "height": 578
        },
        "id": "NaSDO8-rf4OM",
        "outputId": "632cf242-3384-4601-b1d5-b32bd7f8ecd2"
      },
      "source": [
        "# init value\n",
        "mean = 0\n",
        "beta = 11.1\n",
        "\n",
        "num = 100  # number of input x\n",
        "M = 9      # polynomial order\n",
        "\n",
        "alpha = 5*10**(-3) #learning rate is indicated in advance \n",
        "\n",
        "\n",
        "X = np.linspace(-1,1,num)\n",
        "Y = np.sin(2*np.pi*X)\n",
        "T = Generate_target_t(X,mean,beta,num)\n",
        "#print('T:',T,'\\n')\n",
        "# plot X,Y,T\n",
        "plt.figure(figsize=(20,10))\n",
        "plt.plot(X,T,'o')\n",
        "plt.plot(X,Y,'-')\n",
        "# w for pandas index \n",
        "col = [ 'w'+str(i) for i in range(M+1) ]\n",
        "\n",
        "# get MLE\n",
        "est='MLE' \n",
        "# get w model parameter\n",
        "w= Calculate_w(X,T,M,alpha,est) #; \n",
        "print(w)\n",
        "#Baysian_V = pd.DataFrame(w, index=col, columns=[est])\n",
        "# prediction\n",
        "#MLE_prediction = estimator.predict(w,X,M)\n",
        "# plot MLE\n",
        "#estimator.make_plot(X,MLE_prediction,'-',est)  "
      ],
      "execution_count": 5,
      "outputs": [
        {
          "output_type": "stream",
          "text": [
            "[[-1.28238522e-02]\n",
            " [ 6.18357232e+00]\n",
            " [ 4.74344616e-01]\n",
            " [-3.99106598e+01]\n",
            " [-2.20028880e+00]\n",
            " [ 7.35408125e+01]\n",
            " [ 3.43776836e+00]\n",
            " [-5.56208312e+01]\n",
            " [-1.73474346e+00]\n",
            " [ 1.57868384e+01]]\n"
          ],
          "name": "stdout"
        },
        {
          "output_type": "display_data",
          "data": {
            "image/png": "[encoded data removed]",
            "text/plain": [
              "<Figure size 1440x720 with 1 Axes>"
            ]
          },
          "metadata": {
            "tags": [],
            "needs_background": "light"
          }
        }
      ]
    },
    {
      "cell_type": "code",
      "metadata": {
        "colab": {
          "base_uri": "https://localhost:8080/"
        },
        "id": "XN2Rgysnf6uh",
        "outputId": "9562e9ae-d2af-4630-ace3-2a176af9cade"
      },
      "source": [
        "# X = pi_x.T\n",
        "pi_x = Generate_matrix_x(X,M)\n",
        "print(pi_x.shape)"
      ],
      "execution_count": 6,
      "outputs": [
        {
          "output_type": "stream",
          "text": [
            "(10, 100)\n"
          ],
          "name": "stdout"
        }
      ]
    },
    {
      "cell_type": "code",
      "metadata": {
        "colab": {
          "base_uri": "https://localhost:8080/"
        },
        "id": "zauAVcNVf9AS",
        "outputId": "543f1b85-9942-4128-e6c8-3bb85f461d09"
      },
      "source": [
        "pi_x.shape "
      ],
      "execution_count": 7,
      "outputs": [
        {
          "output_type": "execute_result",
          "data": {
            "text/plain": [
              "(10, 100)"
            ]
          },
          "metadata": {
            "tags": []
          },
          "execution_count": 7
        }
      ]
    },
    {
      "cell_type": "markdown",
      "metadata": {
        "id": "81b3eW1ff-sy"
      },
      "source": [
        "1) MLE :  (X = pi_x.T) \n",
        "\n",
        "    - LOSS function:  $\\; { L(w) = \\frac{1}{2} \\{y({x_n}, w) - t_n\\}^2 }$ \n",
        "    - derivative: ${ \\frac{\\partial L(w)}{\\partial w} = (XW - t_n)^t X = 0 }$ \n",
        "    - W val: $\\; { W = (X^TX)^{-1} X^T t_n}$"
      ]
    },
    {
      "cell_type": "markdown",
      "metadata": {
        "id": "ymwmMKNmgAUK"
      },
      "source": [
        "### TEST"
      ]
    },
    {
      "cell_type": "code",
      "metadata": {
        "colab": {
          "base_uri": "https://localhost:8080/"
        },
        "id": "7ZsuzvyIiL_a",
        "outputId": "6ba78176-d0b9-4804-c616-57cd27789e02"
      },
      "source": [
        "np.dot(np.linalg.inv(np.dot(pi_x, pi_x.T)),np.dot(pi_x,np.array(T).reshape(100,-1))).reshape(10,-1)"
      ],
      "execution_count": 8,
      "outputs": [
        {
          "output_type": "execute_result",
          "data": {
            "text/plain": [
              "matrix([[-1.28238522e-02],\n",
              "        [ 6.18357232e+00],\n",
              "        [ 4.74344616e-01],\n",
              "        [-3.99106598e+01],\n",
              "        [-2.20028880e+00],\n",
              "        [ 7.35408125e+01],\n",
              "        [ 3.43776836e+00],\n",
              "        [-5.56208312e+01],\n",
              "        [-1.73474346e+00],\n",
              "        [ 1.57868384e+01]])"
            ]
          },
          "metadata": {
            "tags": []
          },
          "execution_count": 8
        }
      ]
    },
    {
      "cell_type": "code",
      "metadata": {
        "colab": {
          "base_uri": "https://localhost:8080/"
        },
        "id": "6C2Xtd7kjQ2r",
        "outputId": "8d318da7-04c9-478d-90f4-efea4d980f5d"
      },
      "source": [
        "w"
      ],
      "execution_count": 9,
      "outputs": [
        {
          "output_type": "execute_result",
          "data": {
            "text/plain": [
              "matrix([[-1.28238522e-02],\n",
              "        [ 6.18357232e+00],\n",
              "        [ 4.74344616e-01],\n",
              "        [-3.99106598e+01],\n",
              "        [-2.20028880e+00],\n",
              "        [ 7.35408125e+01],\n",
              "        [ 3.43776836e+00],\n",
              "        [-5.56208312e+01],\n",
              "        [-1.73474346e+00],\n",
              "        [ 1.57868384e+01]])"
            ]
          },
          "metadata": {
            "tags": []
          },
          "execution_count": 9
        }
      ]
    },
    {
      "cell_type": "markdown",
      "metadata": {
        "id": "hFp10cJvjT1g"
      },
      "source": [
        "2) MAP :  <br><br>\n",
        "    - LOSS function:  $\\; { L(w) = \\frac{1}{2} \\{y({x_n}, w) - t_n\\}^2 + \\frac{\\alpha}{2}W^TW}$ <br>\n",
        "    - derivative: ${ \\frac{\\partial L(w)}{\\partial w} = (XW - t_n)^t X + \\alpha W^T= 0 }$ <br>\n",
        "    - W val: $\\; { W = (X^TX+\\alpha I)^{-1} X^T t_n}$"
      ]
    },
    {
      "cell_type": "code",
      "metadata": {
        "colab": {
          "base_uri": "https://localhost:8080/"
        },
        "id": "cRz4GoBkjYDA",
        "outputId": "67df59b5-5272-4688-bb72-37c9cda8edc8"
      },
      "source": [
        "np.dot(np.linalg.inv(np.dot(pi_x, pi_x.T)+alpha*np.identity(10)),np.dot(pi_x,np.array(T).reshape(100,-1))).reshape(10,-1)"
      ],
      "execution_count": 10,
      "outputs": [
        {
          "output_type": "execute_result",
          "data": {
            "text/plain": [
              "matrix([[-1.18058095e-03],\n",
              "        [ 4.04087763e+00],\n",
              "        [ 9.61567432e-02],\n",
              "        [-1.87389639e+01],\n",
              "        [-2.59571330e-01],\n",
              "        [ 1.38946645e+01],\n",
              "        [ 2.46856655e-01],\n",
              "        [ 8.46125680e+00],\n",
              "        [-9.77895471e-02],\n",
              "        [-7.54497482e+00]])"
            ]
          },
          "metadata": {
            "tags": []
          },
          "execution_count": 10
        }
      ]
    },
    {
      "cell_type": "code",
      "metadata": {
        "colab": {
          "base_uri": "https://localhost:8080/"
        },
        "id": "WYoUVSeIjaiJ",
        "outputId": "6ac21a24-e395-432a-e516-8014a4ec4ef2"
      },
      "source": [
        "# get MAP \n",
        "est='MAP'\n",
        "# get w model parameter\n",
        "w = Calculate_w(X, T, M,alpha, est)\n",
        "w"
      ],
      "execution_count": 11,
      "outputs": [
        {
          "output_type": "execute_result",
          "data": {
            "text/plain": [
              "matrix([[-1.18058095e-03],\n",
              "        [ 4.04087763e+00],\n",
              "        [ 9.61567432e-02],\n",
              "        [-1.87389639e+01],\n",
              "        [-2.59571330e-01],\n",
              "        [ 1.38946645e+01],\n",
              "        [ 2.46856655e-01],\n",
              "        [ 8.46125680e+00],\n",
              "        [-9.77895471e-02],\n",
              "        [-7.54497482e+00]])"
            ]
          },
          "metadata": {
            "tags": []
          },
          "execution_count": 11
        }
      ]
    },
    {
      "cell_type": "markdown",
      "metadata": {
        "id": "wv3hyADmpYzZ"
      },
      "source": [
        "3) FULLY BAYESIAN"
      ]
    },
    {
      "cell_type": "code",
      "metadata": {
        "colab": {
          "base_uri": "https://localhost:8080/",
          "height": 417
        },
        "id": "jG9SMEFRsFq3",
        "outputId": "68d92c88-cf5e-4e8d-fbca-fe60d82a5d45"
      },
      "source": [
        "from IPython.display import Image\n",
        "Image(\"fully_bayesian.png\",width = 600, height = 400)"
      ],
      "execution_count": 12,
      "outputs": [
        {
          "output_type": "execute_result",
          "data": {
            "image/png": "fully_bayesian.png",
            "text/plain": [
              "<IPython.core.display.Image object>"
            ]
          },
          "metadata": {
            "tags": [],
            "image/png": {
              "width": 600,
              "height": 400
            }
          },
          "execution_count": 12
        }
      ]
    },
    {
      "cell_type": "code",
      "metadata": {
        "id": "3cGg_7vxsimf"
      },
      "source": [
        "def Calculate_fully_bayes(pi_x,T,M, alpha, beta):\n",
        "    '''\n",
        "    : fully bayesian calculate\n",
        "    : p(t|x,w,alpha,beta) = N(t|m(x),var)\n",
        "    '''\n",
        "    SN_1 = alpha*np.identity(10) + beta * np.matmul(pi_x,np.transpose(pi_x))\n",
        "    mN = np.matmul(np.linalg.inv(SN_1),(beta*np.matmul(pi_x,T.reshape(-1,1))))\n",
        "\n",
        "    FB_predict = []\n",
        "    mu_acc = []\n",
        "    var_acc = []\n",
        "    for h_pi_x in np.hsplit(pi_x,100):\n",
        "        mu = np.matmul(np.transpose(mN),h_pi_x)\n",
        "        var_term1 = np.matmul(np.transpose(h_pi_x),np.linalg.inv(SN_1))\n",
        "        var = (1/beta) + np.matmul(var_term1,h_pi_x)\n",
        "        #print(mu,var,i)\n",
        "        prob_t = np.random.normal(mu,var)[0][0]\n",
        "        FB_predict.append(prob_t)\n",
        "        mu_acc.append(mu.item())\n",
        "        var_acc.append(var.item())\n",
        "\n",
        "    return  FB_predict, mu_acc,   var_acc"
      ],
      "execution_count": 13,
      "outputs": []
    },
    {
      "cell_type": "code",
      "metadata": {
        "id": "0ei6c013tG9X"
      },
      "source": [
        "predict, mu, var = Calculate_fully_bayes(pi_x,T,M, alpha, beta)"
      ],
      "execution_count": 14,
      "outputs": []
    },
    {
      "cell_type": "code",
      "metadata": {
        "id": "l_ifXLSotJs2"
      },
      "source": [
        "predict"
      ],
      "execution_count": null,
      "outputs": []
    },
    {
      "cell_type": "code",
      "metadata": {
        "id": "ZL7kCL-ctZ6Z"
      },
      "source": [
        "est='FULL'\n",
        "sigma=np.average(np.sqrt(var))\n",
        "up = [i+sigma for i in mu]\n",
        "down = [i-sigma for i in mu]"
      ],
      "execution_count": 16,
      "outputs": []
    },
    {
      "cell_type": "code",
      "metadata": {
        "colab": {
          "base_uri": "https://localhost:8080/",
          "height": 285
        },
        "id": "3qW1BVqvtLgH",
        "outputId": "5a564ea1-0d87-40c5-c976-e271261ee89c"
      },
      "source": [
        "plt.plot(X,mu,'r-',label=est)\n",
        "plt.fill_between(X,up,down,facecolor='yellow',alpha=0.2,color='pink',label=est)\n",
        "    \n",
        "plt.legend()"
      ],
      "execution_count": 17,
      "outputs": [
        {
          "output_type": "execute_result",
          "data": {
            "text/plain": [
              "<matplotlib.legend.Legend at 0x7fb99d000950>"
            ]
          },
          "metadata": {
            "tags": []
          },
          "execution_count": 17
        },
        {
          "output_type": "display_data",
          "data": {
            "image/png": "[encoded data removed]",
            "text/plain": [
              "<Figure size 432x288 with 1 Axes>"
            ]
          },
          "metadata": {
            "tags": [],
            "needs_background": "light"
          }
        }
      ]
    },
    {
      "cell_type": "code",
      "metadata": {
        "id": "OjXyfiW-tcJ-"
      },
      "source": [
        "mu #np.array(mu).shape"
      ],
      "execution_count": null,
      "outputs": []
    },
    {
      "cell_type": "code",
      "metadata": {
        "id": "-7bbm4KcKYjF"
      },
      "source": [
        "var"
      ],
      "execution_count": null,
      "outputs": []
    },
    {
      "cell_type": "code",
      "metadata": {
        "colab": {
          "base_uri": "https://localhost:8080/"
        },
        "id": "uZ3eLSNR4yNV",
        "outputId": "a0368755-a169-4ab0-d4c5-ba167a763623"
      },
      "source": [
        "S_1 = alpha*np.identity(10) + beta*np.dot(pi_x,pi_x.T);S_1"
      ],
      "execution_count": 110,
      "outputs": [
        {
          "output_type": "execute_result",
          "data": {
            "text/plain": [
              "matrix([[1.11000500e+03, 7.14761583e-14, 3.77474747e+02, 7.51732010e-14, 2.31029489e+02,\n",
              "         9.98201521e-14, 1.68309926e+02, 5.42232925e-14, 1.33498904e+02, 6.65467681e-14],\n",
              "        [7.14761583e-14, 3.77479747e+02, 1.09678933e-13, 2.31029489e+02, 8.99613717e-14,\n",
              "         1.68309926e+02, 5.66879876e-14, 1.33498904e+02, 6.65467681e-14, 1.11373554e+02],\n",
              "        [3.77474747e+02, 1.09678933e-13, 2.31034489e+02, 8.99613717e-14, 1.68309926e+02,\n",
              "         6.03850303e-14, 1.33498904e+02, 6.65467681e-14, 1.11373554e+02, 7.02438108e-14],\n",
              "        [7.51732010e-14, 2.31029489e+02, 8.99613717e-14, 1.68314926e+02, 5.66879876e-14,\n",
              "         1.33498904e+02, 5.91526828e-14, 1.11373554e+02, 7.14761583e-14, 9.60789187e+01],\n",
              "        [2.31029489e+02, 8.99613717e-14, 1.68309926e+02, 5.66879876e-14, 1.33503904e+02,\n",
              "         6.65467681e-14, 1.11373554e+02, 7.02438108e-14, 9.60789187e+01, 6.16173779e-14],\n",
              "        [9.98201521e-14, 1.68309926e+02, 6.03850303e-14, 1.33498904e+02, 6.65467681e-14,\n",
              "         1.11378554e+02, 7.14761583e-14, 9.60789187e+01, 5.79203352e-14, 8.48826777e+01],\n",
              "        [1.68309926e+02, 5.66879876e-14, 1.33498904e+02, 5.91526828e-14, 1.11373554e+02,\n",
              "         7.14761583e-14, 9.60839187e+01, 5.79203352e-14, 8.48826777e+01, 6.65467681e-14],\n",
              "        [5.42232925e-14, 1.33498904e+02, 6.65467681e-14, 1.11373554e+02, 7.02438108e-14,\n",
              "         9.60789187e+01, 5.79203352e-14, 8.48876777e+01, 5.91526828e-14, 7.63383034e+01],\n",
              "        [1.33498904e+02, 6.65467681e-14, 1.11373554e+02, 7.14761583e-14, 9.60789187e+01,\n",
              "         5.79203352e-14, 8.48826777e+01, 5.91526828e-14, 7.63433034e+01, 7.51732010e-14],\n",
              "        [6.65467681e-14, 1.11373554e+02, 7.02438108e-14, 9.60789187e+01, 6.16173779e-14,\n",
              "         8.48826777e+01, 6.65467681e-14, 7.63383034e+01, 7.51732010e-14, 6.96133273e+01]])"
            ]
          },
          "metadata": {
            "tags": []
          },
          "execution_count": 110
        }
      ]
    },
    {
      "cell_type": "code",
      "metadata": {
        "id": "TZKZW7ZZ6fqy"
      },
      "source": [
        "# 평균값\n",
        "m_x = beta*np.dot(np.dot(pi_x.T,np.linalg.inv(S_1)),np.dot(pi_x,T.reshape(100,-1)))"
      ],
      "execution_count": 111,
      "outputs": []
    },
    {
      "cell_type": "code",
      "metadata": {
        "colab": {
          "base_uri": "https://localhost:8080/"
        },
        "id": "LZUDYzAnG7SQ",
        "outputId": "e43d9969-97d5-4a5c-b5fd-4a1766ecad20"
      },
      "source": [
        "x = np.array([[[0], [1], [2]]])\n",
        "x.shape\n",
        "(1, 3, 1)\n",
        "np.squeeze(x)"
      ],
      "execution_count": 103,
      "outputs": [
        {
          "output_type": "execute_result",
          "data": {
            "text/plain": [
              "array([0, 1, 2])"
            ]
          },
          "metadata": {
            "tags": []
          },
          "execution_count": 103
        }
      ]
    },
    {
      "cell_type": "code",
      "metadata": {
        "id": "eOdJ_ieo7_3i"
      },
      "source": [
        "m_x_d=np.squeeze(m_x.reshape(-1).tolist())  # matrix를 list로 만들고 차원을 1차원으로 낮추기"
      ],
      "execution_count": 112,
      "outputs": []
    },
    {
      "cell_type": "code",
      "metadata": {
        "id": "rzI6LpcW9-Eq"
      },
      "source": [
        "s_x = 1/beta + np.dot(np.dot(pi_x.T,np.linalg.inv(S_1)),pi_x); s_x"
      ],
      "execution_count": 44,
      "outputs": []
    },
    {
      "cell_type": "code",
      "metadata": {
        "id": "I_qN49LI_D6R"
      },
      "source": [
        "s_x_d = np.diag(s_x) # iid 가정이므로 diagonal 값만 뽑아내야됨, "
      ],
      "execution_count": 59,
      "outputs": []
    },
    {
      "cell_type": "code",
      "metadata": {
        "id": "gyDo2OML_HHB"
      },
      "source": [
        "t_x = [ np.random.normal(i,j)[0][0] for i,j in zip(m_x, s_x_d) ] ; t_x"
      ],
      "execution_count": 60,
      "outputs": []
    },
    {
      "cell_type": "code",
      "metadata": {
        "colab": {
          "base_uri": "https://localhost:8080/",
          "height": 339
        },
        "id": "AJmemd8SBY1Z",
        "outputId": "53704417-e5c9-4771-e07a-d04e53bdc383"
      },
      "source": [
        "sigma=np.average(np.sqrt(s_x_d))\n",
        "up = [i+sigma for i in m_x_d]\n",
        "down = [i-sigma for i in m_x_d]\n",
        "\n",
        "plt.figure(figsize=(10,5))\n",
        "plt.plot(X,m_x,'r-',label=\"mean\")\n",
        "plt.plot(X,t_x,'bo',label=\"predict_t\")\n",
        "plt.fill_between(X,up,down,facecolor='yellow',alpha=0.2,color='pink',label='fully')\n",
        "plt.legend()"
      ],
      "execution_count": 114,
      "outputs": [
        {
          "output_type": "execute_result",
          "data": {
            "text/plain": [
              "<matplotlib.legend.Legend at 0x7fb9966da390>"
            ]
          },
          "metadata": {
            "tags": []
          },
          "execution_count": 114
        },
        {
          "output_type": "display_data",
          "data": {
            "image/png": "[encoded data removed]",
            "text/plain": [
              "<Figure size 720x360 with 1 Axes>"
            ]
          },
          "metadata": {
            "tags": [],
            "needs_background": "light"
          }
        }
      ]
    }
  ]
}