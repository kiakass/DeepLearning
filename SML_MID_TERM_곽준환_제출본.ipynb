{
  "nbformat": 4,
  "nbformat_minor": 0,
  "metadata": {
    "colab": {
      "name": "SML_MID-TERM_곽준환_제출본.ipynb",
      "provenance": [],
      "collapsed_sections": [],
      "toc_visible": true,
      "authorship_tag": "ABX9TyNLE1O1fNf8OahvcD9VdFsx",
      "include_colab_link": true
    },
    "kernelspec": {
      "name": "python3",
      "display_name": "Python 3"
    },
    "language_info": {
      "name": "python"
    },
    "accelerator": "GPU"
  },
  "cells": [
    {
      "cell_type": "markdown",
      "metadata": {
        "id": "view-in-github",
        "colab_type": "text"
      },
      "source": [
        "<a href=\"https://colab.research.google.com/github/kiakass/DeepLearning/blob/master/SML_MID_TERM_%EA%B3%BD%EC%A4%80%ED%99%98_%EC%A0%9C%EC%B6%9C%EB%B3%B8.ipynb\" target=\"_parent\"><img src=\"https://colab.research.google.com/assets/colab-badge.svg\" alt=\"Open In Colab\"/></a>"
      ]
    },
    {
      "cell_type": "markdown",
      "metadata": {
        "id": "SuP4I6-JSB0t"
      },
      "source": [
        "# MID-TERM PROJECT: FACIAL EXPRESSION CLASSIFICATION<br>\n",
        "\n",
        "BDC114: INTRODUCTION TO STATISTICS AND MACHINE LEARNING<br>\n",
        "\n",
        "> Given the samples of three facial expression classes, you are asked to build your own classfication model. <br>\n",
        "> To enhance performance, you need to explore various steps of data exploration, preprocessing, model selection, and model tuning. <br>\n",
        "> Your implementation should be concrete and complete.<br>\n",
        "> - 22 features: extracted from an image<br>\n",
        "> - 3 classes: angry, happy, and surprised<br><br>\n"
      ]
    },
    {
      "cell_type": "markdown",
      "metadata": {
        "id": "JWDSX87MUbXj"
      },
      "source": [
        "Submission: Google Colab file (*.ipynb)\n",
        "- For every step, you should make reasonable explanations and descriptions in\n",
        "markdown format.\n",
        "- Steps: data loading, data exploration, data cleaning/preprocessing, data split\n",
        "(train-validation-test), model training (selection, tuning), performance evalu-\n",
        "ation\n",
        "- The experimental results need to be reported in various metrics (accuracy,\n",
        "precision, recall, macro-F1).\n",
        "- The evaluation will be conducted on an independent test set in terms of the\n",
        "macro-F1 score.\n",
        "- You need to de\fne a method of \\accuracy, mF1 = test evaluation(test samples,\n",
        "test labels)\" that automatically processes every step in a test phase.\n",
        "> "
      ]
    },
    {
      "cell_type": "markdown",
      "metadata": {
        "id": "PUT-bEH5RPUv"
      },
      "source": [
        "# ■ Model Design"
      ]
    },
    {
      "cell_type": "markdown",
      "metadata": {
        "id": "S4H4iBkwReBz"
      },
      "source": [
        "> $ {\\color{royalblue} {1.\\, Data\\, Load}}$\n",
        ">> - facial_expression_train_dataset 을 github에 upload 하여 get 함 <br>\n",
        ">> - column 을 X#, Y 로 변경 <br>\n",
        "\n",
        "> $ {\\color{royalblue} {2.\\, EDA\\, : Exploratory\\, Data\\, Analysis}} $<br>\n",
        ">> - Data는 22개의 feature, Y label 1개(3개의 class) 로 구성되어 있음 <br>\n",
        ">> - Data는 numerical 하고, missing value 및 outlier 는 보이지 않음 <br>\n",
        "\n",
        "> $ {\\color{royalblue} {3.\\, 전처리}} $\n",
        ">> -  X data :  standardization <br>\n",
        ">> - Y label에 대해 onehot encoding 수행 <br>\n",
        "\n",
        "> $ {\\color{royalblue} {4.\\, Model}} $ - Classfication 처리를 위해 아래 3가지 모델을 사용함\n",
        ">> - SDGRegressor : 교재\n",
        ">> - RandomForest : 교재\n",
        ">> - Deel Learing : My_model\n",
        "\n",
        "> $ {\\color{royalblue} {5.\\, Launch\\, Model}} $ [모델 테스트 및 검증]\n",
        ">> - Deep Learning Model 에서 최종적으로 얻은 model 을 hdf5 로 저장\n",
        ">> - $ {\\color{salmon} {이\\, 위치에 \\,test할\\, file\\, or\\, url 을\\, 업로드하고\\, 저장한\\, 모델을\\, load 하여\\, 테스트하도록\\, 코딩하였음}}$"
      ]
    },
    {
      "cell_type": "code",
      "metadata": {
        "colab": {
          "base_uri": "https://localhost:8080/"
        },
        "id": "bwClD7MaKvMH",
        "outputId": "1b47f431-eeb2-4a2b-faf0-a80d70f079f4"
      },
      "source": [
        "from google.colab import drive\n",
        "drive.mount('/content/drive')"
      ],
      "execution_count": 1,
      "outputs": [
        {
          "output_type": "stream",
          "name": "stdout",
          "text": [
            "Drive already mounted at /content/drive; to attempt to forcibly remount, call drive.mount(\"/content/drive\", force_remount=True).\n"
          ]
        }
      ]
    },
    {
      "cell_type": "markdown",
      "metadata": {
        "id": "T_Ov-Qe9SlRx"
      },
      "source": [
        "## 1.Data Prepration"
      ]
    },
    {
      "cell_type": "markdown",
      "metadata": {
        "id": "eOCiBLompQTG"
      },
      "source": [
        "### 1.Data loading"
      ]
    },
    {
      "cell_type": "markdown",
      "metadata": {
        "id": "sQYgN9TGOxUy"
      },
      "source": [
        "- Data 를 github 로 업로드하고, Column 명을 X#n, Y 로 변경"
      ]
    },
    {
      "cell_type": "code",
      "metadata": {
        "id": "KqbjyGWUOGu6"
      },
      "source": [
        "import os\n",
        "import pandas as pd\n",
        "import numpy as np\n",
        "import matplotlib.pyplot as plt\n",
        "from sklearn.utils import resample\n",
        "\n",
        "data_path = 'https://raw.githubusercontent.com/kiakass/share/master/facial_expression_train_dataset.csv'\n",
        "\n",
        "def load_facial_data(data_path):\n",
        "    ''' cloumn name 을 X#n, Y로 변경 '''    \n",
        "    return pd.read_csv(data_path,skiprows=[0],names=np.r_[['Y'],['X'+str(x) for x in range(0,22)]].tolist())\n",
        "\n",
        "facial = load_facial_data(data_path)"
      ],
      "execution_count": 2,
      "outputs": []
    },
    {
      "cell_type": "markdown",
      "metadata": {
        "id": "eqKL3QQhTRsa"
      },
      "source": [
        "### 2.EDA"
      ]
    },
    {
      "cell_type": "markdown",
      "metadata": {
        "id": "Zan1eTb1e3Nt"
      },
      "source": [
        "Boodstraping / resampling 기법 사용"
      ]
    },
    {
      "cell_type": "code",
      "metadata": {
        "id": "b_Z-juHsJ-LF"
      },
      "source": [
        "facial= resample(facial,n_samples=200)"
      ],
      "execution_count": 3,
      "outputs": []
    },
    {
      "cell_type": "markdown",
      "metadata": {
        "id": "GmrTcovHetXl"
      },
      "source": [
        "> 데이터수가 적어서 bootstrapping 기법을 사용하여 데이터를 증식하였음"
      ]
    },
    {
      "cell_type": "code",
      "metadata": {
        "id": "cWosqrsVWWQY"
      },
      "source": [
        "X=facial.iloc[:,1:]\n",
        "y=facial.iloc[:,:1]"
      ],
      "execution_count": 4,
      "outputs": []
    },
    {
      "cell_type": "code",
      "metadata": {
        "colab": {
          "base_uri": "https://localhost:8080/"
        },
        "id": "ACToSy55LdMO",
        "outputId": "c6668557-6c54-4353-c23a-e7dd782c2984"
      },
      "source": [
        "y.Y.value_counts() # 값의 범위 확인"
      ],
      "execution_count": 5,
      "outputs": [
        {
          "output_type": "execute_result",
          "data": {
            "text/plain": [
              "1    73\n",
              "3    67\n",
              "2    60\n",
              "Name: Y, dtype: int64"
            ]
          },
          "metadata": {},
          "execution_count": 5
        }
      ]
    },
    {
      "cell_type": "code",
      "metadata": {
        "colab": {
          "base_uri": "https://localhost:8080/"
        },
        "id": "jUpc5zlTVF9D",
        "outputId": "321be373-9955-4714-a13c-a88c0bc60eef"
      },
      "source": [
        "facial.info() #결측치 확인"
      ],
      "execution_count": 6,
      "outputs": [
        {
          "output_type": "stream",
          "name": "stdout",
          "text": [
            "<class 'pandas.core.frame.DataFrame'>\n",
            "Int64Index: 200 entries, 1 to 53\n",
            "Data columns (total 23 columns):\n",
            " #   Column  Non-Null Count  Dtype  \n",
            "---  ------  --------------  -----  \n",
            " 0   Y       200 non-null    int64  \n",
            " 1   X0      200 non-null    float64\n",
            " 2   X1      200 non-null    float64\n",
            " 3   X2      200 non-null    float64\n",
            " 4   X3      200 non-null    float64\n",
            " 5   X4      200 non-null    float64\n",
            " 6   X5      200 non-null    float64\n",
            " 7   X6      200 non-null    float64\n",
            " 8   X7      200 non-null    float64\n",
            " 9   X8      200 non-null    float64\n",
            " 10  X9      200 non-null    float64\n",
            " 11  X10     200 non-null    float64\n",
            " 12  X11     200 non-null    float64\n",
            " 13  X12     200 non-null    float64\n",
            " 14  X13     200 non-null    float64\n",
            " 15  X14     200 non-null    float64\n",
            " 16  X15     200 non-null    float64\n",
            " 17  X16     200 non-null    float64\n",
            " 18  X17     200 non-null    float64\n",
            " 19  X18     200 non-null    float64\n",
            " 20  X19     200 non-null    float64\n",
            " 21  X20     200 non-null    float64\n",
            " 22  X21     200 non-null    float64\n",
            "dtypes: float64(22), int64(1)\n",
            "memory usage: 37.5 KB\n"
          ]
        }
      ]
    },
    {
      "cell_type": "code",
      "metadata": {
        "colab": {
          "base_uri": "https://localhost:8080/",
          "height": 314
        },
        "id": "e9LtECrbBauo",
        "outputId": "150d2707-ad80-423b-b20f-0c19e25a4ea9"
      },
      "source": [
        "facial.describe()"
      ],
      "execution_count": 7,
      "outputs": [
        {
          "output_type": "execute_result",
          "data": {
            "text/html": [
              "<div>\n",
              "<style scoped>\n",
              "    .dataframe tbody tr th:only-of-type {\n",
              "        vertical-align: middle;\n",
              "    }\n",
              "\n",
              "    .dataframe tbody tr th {\n",
              "        vertical-align: top;\n",
              "    }\n",
              "\n",
              "    .dataframe thead th {\n",
              "        text-align: right;\n",
              "    }\n",
              "</style>\n",
              "<table border=\"1\" class=\"dataframe\">\n",
              "  <thead>\n",
              "    <tr style=\"text-align: right;\">\n",
              "      <th></th>\n",
              "      <th>Y</th>\n",
              "      <th>X0</th>\n",
              "      <th>X1</th>\n",
              "      <th>X2</th>\n",
              "      <th>X3</th>\n",
              "      <th>X4</th>\n",
              "      <th>X5</th>\n",
              "      <th>X6</th>\n",
              "      <th>X7</th>\n",
              "      <th>X8</th>\n",
              "      <th>X9</th>\n",
              "      <th>X10</th>\n",
              "      <th>X11</th>\n",
              "      <th>X12</th>\n",
              "      <th>X13</th>\n",
              "      <th>X14</th>\n",
              "      <th>X15</th>\n",
              "      <th>X16</th>\n",
              "      <th>X17</th>\n",
              "      <th>X18</th>\n",
              "      <th>X19</th>\n",
              "      <th>X20</th>\n",
              "      <th>X21</th>\n",
              "    </tr>\n",
              "  </thead>\n",
              "  <tbody>\n",
              "    <tr>\n",
              "      <th>count</th>\n",
              "      <td>200.00000</td>\n",
              "      <td>200.000000</td>\n",
              "      <td>200.000000</td>\n",
              "      <td>200.000000</td>\n",
              "      <td>200.000000</td>\n",
              "      <td>200.000000</td>\n",
              "      <td>200.000000</td>\n",
              "      <td>200.000000</td>\n",
              "      <td>200.000000</td>\n",
              "      <td>200.000000</td>\n",
              "      <td>200.000000</td>\n",
              "      <td>200.000000</td>\n",
              "      <td>200.000000</td>\n",
              "      <td>200.000000</td>\n",
              "      <td>200.000000</td>\n",
              "      <td>200.000000</td>\n",
              "      <td>200.000000</td>\n",
              "      <td>200.000000</td>\n",
              "      <td>200.000000</td>\n",
              "      <td>200.000000</td>\n",
              "      <td>200.000000</td>\n",
              "      <td>200.000000</td>\n",
              "      <td>200.000000</td>\n",
              "    </tr>\n",
              "    <tr>\n",
              "      <th>mean</th>\n",
              "      <td>1.97000</td>\n",
              "      <td>8.780809</td>\n",
              "      <td>10.491683</td>\n",
              "      <td>10.888326</td>\n",
              "      <td>11.139320</td>\n",
              "      <td>5.621951</td>\n",
              "      <td>4.816418</td>\n",
              "      <td>6.040695</td>\n",
              "      <td>5.249942</td>\n",
              "      <td>5.203198</td>\n",
              "      <td>5.360502</td>\n",
              "      <td>5.429407</td>\n",
              "      <td>5.908956</td>\n",
              "      <td>7.770602</td>\n",
              "      <td>8.003834</td>\n",
              "      <td>13.165250</td>\n",
              "      <td>16.917705</td>\n",
              "      <td>20.649955</td>\n",
              "      <td>17.450084</td>\n",
              "      <td>13.274929</td>\n",
              "      <td>10.258689</td>\n",
              "      <td>9.005149</td>\n",
              "      <td>10.086448</td>\n",
              "    </tr>\n",
              "    <tr>\n",
              "      <th>std</th>\n",
              "      <td>0.83822</td>\n",
              "      <td>7.103497</td>\n",
              "      <td>7.566094</td>\n",
              "      <td>7.999349</td>\n",
              "      <td>8.641409</td>\n",
              "      <td>3.781555</td>\n",
              "      <td>3.802550</td>\n",
              "      <td>4.094981</td>\n",
              "      <td>3.756165</td>\n",
              "      <td>4.161532</td>\n",
              "      <td>3.948170</td>\n",
              "      <td>4.015869</td>\n",
              "      <td>4.671016</td>\n",
              "      <td>4.426723</td>\n",
              "      <td>4.752543</td>\n",
              "      <td>6.916312</td>\n",
              "      <td>12.805328</td>\n",
              "      <td>18.995754</td>\n",
              "      <td>13.442027</td>\n",
              "      <td>6.985000</td>\n",
              "      <td>5.406999</td>\n",
              "      <td>4.808108</td>\n",
              "      <td>5.425479</td>\n",
              "    </tr>\n",
              "    <tr>\n",
              "      <th>min</th>\n",
              "      <td>1.00000</td>\n",
              "      <td>0.000000</td>\n",
              "      <td>0.000000</td>\n",
              "      <td>1.000000</td>\n",
              "      <td>1.000000</td>\n",
              "      <td>1.000000</td>\n",
              "      <td>0.000000</td>\n",
              "      <td>1.000000</td>\n",
              "      <td>0.000000</td>\n",
              "      <td>0.000000</td>\n",
              "      <td>1.000000</td>\n",
              "      <td>0.000000</td>\n",
              "      <td>1.000000</td>\n",
              "      <td>0.000000</td>\n",
              "      <td>1.000000</td>\n",
              "      <td>1.414200</td>\n",
              "      <td>0.000000</td>\n",
              "      <td>0.000000</td>\n",
              "      <td>2.000000</td>\n",
              "      <td>4.123100</td>\n",
              "      <td>1.414200</td>\n",
              "      <td>1.000000</td>\n",
              "      <td>2.000000</td>\n",
              "    </tr>\n",
              "    <tr>\n",
              "      <th>25%</th>\n",
              "      <td>1.00000</td>\n",
              "      <td>3.605600</td>\n",
              "      <td>5.000000</td>\n",
              "      <td>5.385200</td>\n",
              "      <td>5.000000</td>\n",
              "      <td>2.828400</td>\n",
              "      <td>2.236100</td>\n",
              "      <td>3.605600</td>\n",
              "      <td>3.000000</td>\n",
              "      <td>2.236100</td>\n",
              "      <td>3.000000</td>\n",
              "      <td>2.236100</td>\n",
              "      <td>3.000000</td>\n",
              "      <td>4.212725</td>\n",
              "      <td>4.212725</td>\n",
              "      <td>7.615800</td>\n",
              "      <td>8.000000</td>\n",
              "      <td>7.071100</td>\n",
              "      <td>8.602300</td>\n",
              "      <td>7.176100</td>\n",
              "      <td>6.383475</td>\n",
              "      <td>5.099000</td>\n",
              "      <td>5.385200</td>\n",
              "    </tr>\n",
              "    <tr>\n",
              "      <th>50%</th>\n",
              "      <td>2.00000</td>\n",
              "      <td>7.175600</td>\n",
              "      <td>8.000000</td>\n",
              "      <td>8.944300</td>\n",
              "      <td>8.602300</td>\n",
              "      <td>5.000000</td>\n",
              "      <td>4.123100</td>\n",
              "      <td>5.000000</td>\n",
              "      <td>4.242600</td>\n",
              "      <td>4.472100</td>\n",
              "      <td>4.242600</td>\n",
              "      <td>4.472100</td>\n",
              "      <td>4.472100</td>\n",
              "      <td>7.141100</td>\n",
              "      <td>7.071100</td>\n",
              "      <td>11.553250</td>\n",
              "      <td>13.000000</td>\n",
              "      <td>12.649100</td>\n",
              "      <td>12.000000</td>\n",
              "      <td>12.041600</td>\n",
              "      <td>9.434000</td>\n",
              "      <td>7.936250</td>\n",
              "      <td>9.055400</td>\n",
              "    </tr>\n",
              "    <tr>\n",
              "      <th>75%</th>\n",
              "      <td>3.00000</td>\n",
              "      <td>12.041600</td>\n",
              "      <td>14.142100</td>\n",
              "      <td>13.490575</td>\n",
              "      <td>15.385950</td>\n",
              "      <td>7.071100</td>\n",
              "      <td>5.385200</td>\n",
              "      <td>8.062300</td>\n",
              "      <td>6.082800</td>\n",
              "      <td>5.385200</td>\n",
              "      <td>6.324600</td>\n",
              "      <td>6.403100</td>\n",
              "      <td>7.615800</td>\n",
              "      <td>11.045400</td>\n",
              "      <td>10.295600</td>\n",
              "      <td>16.124500</td>\n",
              "      <td>23.349050</td>\n",
              "      <td>32.871725</td>\n",
              "      <td>24.515600</td>\n",
              "      <td>18.727075</td>\n",
              "      <td>14.376050</td>\n",
              "      <td>13.038225</td>\n",
              "      <td>14.317800</td>\n",
              "    </tr>\n",
              "    <tr>\n",
              "      <th>max</th>\n",
              "      <td>3.00000</td>\n",
              "      <td>35.128300</td>\n",
              "      <td>36.013900</td>\n",
              "      <td>40.162200</td>\n",
              "      <td>40.025000</td>\n",
              "      <td>18.439100</td>\n",
              "      <td>18.439100</td>\n",
              "      <td>20.396100</td>\n",
              "      <td>19.924900</td>\n",
              "      <td>19.646900</td>\n",
              "      <td>20.099800</td>\n",
              "      <td>18.110800</td>\n",
              "      <td>24.515300</td>\n",
              "      <td>18.439100</td>\n",
              "      <td>20.248500</td>\n",
              "      <td>30.265500</td>\n",
              "      <td>53.084800</td>\n",
              "      <td>64.124900</td>\n",
              "      <td>51.088200</td>\n",
              "      <td>29.000000</td>\n",
              "      <td>20.591300</td>\n",
              "      <td>21.587000</td>\n",
              "      <td>21.587000</td>\n",
              "    </tr>\n",
              "  </tbody>\n",
              "</table>\n",
              "</div>"
            ],
            "text/plain": [
              "               Y          X0          X1  ...         X19         X20         X21\n",
              "count  200.00000  200.000000  200.000000  ...  200.000000  200.000000  200.000000\n",
              "mean     1.97000    8.780809   10.491683  ...   10.258689    9.005149   10.086448\n",
              "std      0.83822    7.103497    7.566094  ...    5.406999    4.808108    5.425479\n",
              "min      1.00000    0.000000    0.000000  ...    1.414200    1.000000    2.000000\n",
              "25%      1.00000    3.605600    5.000000  ...    6.383475    5.099000    5.385200\n",
              "50%      2.00000    7.175600    8.000000  ...    9.434000    7.936250    9.055400\n",
              "75%      3.00000   12.041600   14.142100  ...   14.376050   13.038225   14.317800\n",
              "max      3.00000   35.128300   36.013900  ...   20.591300   21.587000   21.587000\n",
              "\n",
              "[8 rows x 23 columns]"
            ]
          },
          "metadata": {},
          "execution_count": 7
        }
      ]
    },
    {
      "cell_type": "markdown",
      "metadata": {
        "id": "dnFL4QpZhXhO"
      },
      "source": [
        "> Data를 확인한 결과 결측치, Outlier등 데이터에 특이 사항은 없어 보임"
      ]
    },
    {
      "cell_type": "code",
      "metadata": {
        "colab": {
          "base_uri": "https://localhost:8080/",
          "height": 844
        },
        "id": "sy45kt3NVgZg",
        "outputId": "aab2ec5e-eb74-4a4e-845c-98321d38e966"
      },
      "source": [
        "_=facial.hist(bins=50, figsize=(20,15))"
      ],
      "execution_count": 8,
      "outputs": [
        {
          "output_type": "display_data",
          "data": {
            "image/png": "[encoded data removed]",
            "text/plain": [
              "<Figure size 1440x1080 with 25 Axes>"
            ]
          },
          "metadata": {
            "needs_background": "light"
          }
        }
      ]
    },
    {
      "cell_type": "markdown",
      "metadata": {
        "id": "rV1neqW4CSE3"
      },
      "source": [
        "### 3.Preprocessing"
      ]
    },
    {
      "cell_type": "markdown",
      "metadata": {
        "id": "jhvrabQsB7P4"
      },
      "source": [
        "#### 1) Split train/test"
      ]
    },
    {
      "cell_type": "code",
      "metadata": {
        "id": "pFyB5EWnVdXn"
      },
      "source": [
        "from sklearn.model_selection import train_test_split\n",
        "from keras.utils import np_utils\n",
        "from sklearn.preprocessing import StandardScaler\n",
        "from sklearn.preprocessing import OneHotEncoder"
      ],
      "execution_count": 9,
      "outputs": []
    },
    {
      "cell_type": "code",
      "metadata": {
        "id": "-U7VtuZ4WOPM"
      },
      "source": [
        "facial = load_facial_data(data_path)\n",
        "train_set, test_set = train_test_split(facial, test_size=0.2, random_state=2)\n",
        "X_train = train_set.drop(['Y'], axis=1)\n",
        "Y_train = np.array(train_set.Y.copy())\n",
        "X_test = test_set.drop(['Y'], axis=1)\n",
        "Y_test = np.array(test_set.Y.copy())"
      ],
      "execution_count": 10,
      "outputs": []
    },
    {
      "cell_type": "markdown",
      "metadata": {
        "id": "Ps5TXlhjB68w"
      },
      "source": [
        "#### 2) Y label Onehot Encoding"
      ]
    },
    {
      "cell_type": "code",
      "metadata": {
        "id": "D2qpmUC6YI0-"
      },
      "source": [
        "oe=OneHotEncoder(sparse=False)\n",
        "Y_train_oe = oe.fit_transform(np.array(Y_train).reshape(-1,1))\n",
        "Y_test_oe = oe.fit_transform(np.array(Y_test).reshape(-1,1))"
      ],
      "execution_count": 11,
      "outputs": []
    },
    {
      "cell_type": "code",
      "metadata": {
        "colab": {
          "base_uri": "https://localhost:8080/"
        },
        "id": "fArEjqbOV4X-",
        "outputId": "1a349e39-4b44-42e1-9cff-0efc6b7c9ba1"
      },
      "source": [
        "np.c_[Y_test[:10],Y_test_oe[:10]]"
      ],
      "execution_count": 12,
      "outputs": [
        {
          "output_type": "execute_result",
          "data": {
            "text/plain": [
              "array([[2., 0., 1., 0.],\n",
              "       [2., 0., 1., 0.],\n",
              "       [3., 0., 0., 1.],\n",
              "       [1., 1., 0., 0.],\n",
              "       [1., 1., 0., 0.],\n",
              "       [1., 1., 0., 0.],\n",
              "       [2., 0., 1., 0.],\n",
              "       [3., 0., 0., 1.],\n",
              "       [2., 0., 1., 0.],\n",
              "       [3., 0., 0., 1.]])"
            ]
          },
          "metadata": {},
          "execution_count": 12
        }
      ]
    },
    {
      "cell_type": "code",
      "metadata": {
        "colab": {
          "base_uri": "https://localhost:8080/"
        },
        "id": "JiarqO3zlMGE",
        "outputId": "3d8d6788-0e8b-4546-a420-34252d287758"
      },
      "source": [
        "# inverse value 확인\n",
        "oe.inverse_transform(Y_train_oe).reshape(-1)"
      ],
      "execution_count": 13,
      "outputs": [
        {
          "output_type": "execute_result",
          "data": {
            "text/plain": [
              "array([3, 1, 1, 3, 3, 3, 2, 3, 3, 3, 2, 3, 1, 2, 2, 3, 3, 2, 2, 2, 2, 1,\n",
              "       3, 1, 2, 2, 3, 1, 3, 3, 1, 3, 1, 3, 1, 1, 2, 1, 3, 1, 2, 3, 1, 1,\n",
              "       1, 3, 3, 2, 2, 2, 2, 1, 3, 2, 2, 1, 2, 3, 2, 3, 2, 2, 1, 3, 2, 1,\n",
              "       3, 1, 2])"
            ]
          },
          "metadata": {},
          "execution_count": 13
        }
      ]
    },
    {
      "cell_type": "markdown",
      "metadata": {
        "id": "XWw_DyTkCb-5"
      },
      "source": [
        "#### 3) Standardization"
      ]
    },
    {
      "cell_type": "code",
      "metadata": {
        "id": "CX-XB8PgVZAR"
      },
      "source": [
        "from sklearn.preprocessing import StandardScaler\n",
        "\n",
        "std = StandardScaler()\n",
        "X_train_prepared = std.fit_transform(X_train)\n",
        "X_test_prepared = std.fit_transform(X_test)"
      ],
      "execution_count": 14,
      "outputs": []
    },
    {
      "cell_type": "markdown",
      "metadata": {
        "id": "dpWtrca8cJbn"
      },
      "source": [
        "## 2.Model"
      ]
    },
    {
      "cell_type": "markdown",
      "metadata": {
        "id": "DVLVEXmUPcWY"
      },
      "source": [
        "Function - Metric"
      ]
    },
    {
      "cell_type": "code",
      "metadata": {
        "id": "M9M8cY92i4Kx"
      },
      "source": [
        "from sklearn.metrics import accuracy_score, confusion_matrix, mean_squared_error\n",
        "from sklearn.metrics import precision_score, recall_score, f1_score\n",
        "from sklearn.model_selection import cross_val_score\n",
        "\n",
        "class Metric():\n",
        "    def __init__(self,average=None):\n",
        "        print('# model result...\\n') \n",
        "        pass\n",
        "    \n",
        "    def confusion_metric(self, y, y_pred):\n",
        "        print('confustion_matrix : \\n',confusion_matrix(y, y_pred),'\\n')\n",
        "\n",
        "    def metric(self, y, y_pred):\n",
        "\n",
        "        a_score=accuracy_score(y, y_pred)\n",
        "        p_score=precision_score(y, y_pred, average=average)\n",
        "        r_score=recall_score(y, y_pred, average=average)\n",
        "        f_score=f1_score(y, y_pred, average=average)\n",
        "        print('accuracy  :', p_score,'\\n', \n",
        "              '\\bprecision :', p_score,'\\n', \n",
        "              '\\brecall    :', r_score,'\\n\\n',\n",
        "              '\\bf1_score  :', f_score,'\\n')\n",
        "        \n",
        "def mse(y,y_hat):\n",
        "  return np.sqrt(mean_squared_error(y,y_hat))\n",
        "\n",
        "def cross_val(model, y, y_hat):\n",
        "  return np.sqrt(-cross_val_score(model, y, y_hat, scoring=\"accuracy\", cv=5))\n",
        "\n",
        "def display_scores(scores):\n",
        "    print(\"Scores :\", scores)\n",
        "    print(\"Mean :\", scores.mean())\n",
        "    print(\"Standard deviation:\", scores.std())"
      ],
      "execution_count": 15,
      "outputs": []
    },
    {
      "cell_type": "markdown",
      "metadata": {
        "id": "Rq6TydjAPFkh"
      },
      "source": [
        "Function - Data Preprocessing : spilit, standardization, onehot encoding"
      ]
    },
    {
      "cell_type": "code",
      "metadata": {
        "id": "DKcSvihXGanK"
      },
      "source": [
        "# Model package.module import\n",
        "from keras.optimizers import rmsprop_v2 \n",
        "from sklearn.model_selection import RepeatedKFold\n",
        "from sklearn.preprocessing import StandardScaler\n",
        "# bootstrap\n",
        "from sklearn.utils import resample\n",
        "# metrics\n",
        "from sklearn.metrics import accuracy_score, confusion_matrix\n",
        "\n",
        "\n",
        "# train/test split\n",
        "def make_train_test(df, sp_sizpe, type=None):\n",
        "    train_set, test_set = train_test_split(facial, test_size=sp_sizpe, random_state=2)\n",
        "    X_train = train_set.drop(['Y'], axis=1)\n",
        "    Y_train = train_set.Y.copy()\n",
        "    X_test = test_set.drop(['Y'], axis=1)\n",
        "    Y_test = test_set.Y.copy()\n",
        "\n",
        "    if type == None :\n",
        "\n",
        "      #onehot encoding\n",
        "      oe=OneHotEncoder(sparse=False)\n",
        "      Y_train = oe.fit_transform(np.array(Y_train).reshape(-1,1))\n",
        "      Y_test = oe.fit_transform(np.array(Y_test).reshape(-1,1))\n",
        "\n",
        "    return X_train, Y_train, X_test, Y_test\n",
        "\n",
        "def make_test(df):\n",
        "    X_test = df.drop(['Y'], axis=1)\n",
        "    Y_test = df.Y.copy()\n",
        "\n",
        "    #onehot encoding\n",
        "    oe=OneHotEncoder(sparse=False)\n",
        "    Y_test = oe.fit_transform(np.array(Y_test).reshape(-1,1))\n",
        "\n",
        "    return X_test, Y_test\n",
        "\n",
        "def standardization(X):\n",
        "\n",
        "    std = StandardScaler()\n",
        "    x_std = std.fit_transform(X)\n",
        "    return x_std\n",
        "\n",
        "def inverse_trans(y):\n",
        "    '''\n",
        "    : onehot covert to label\n",
        "    '''\n",
        "    return oe.inverse_transform(y).reshape(-1)"
      ],
      "execution_count": 16,
      "outputs": []
    },
    {
      "cell_type": "markdown",
      "metadata": {
        "id": "24LkggbZC6hA"
      },
      "source": [
        "### 1.SDGRegressor"
      ]
    },
    {
      "cell_type": "markdown",
      "metadata": {
        "id": "1mbWIh-eOQCS"
      },
      "source": [
        "##### (1) Model Training, Grid Search"
      ]
    },
    {
      "cell_type": "code",
      "metadata": {
        "colab": {
          "base_uri": "https://localhost:8080/"
        },
        "id": "YCUkcx3mZMO8",
        "outputId": "bae82442-04a3-4967-faae-891a64418e77"
      },
      "source": [
        "from sklearn.linear_model import SGDClassifier\n",
        "\n",
        "# data load\n",
        "facial = load_facial_data(data_path)\n",
        "facial = resample(facial,n_samples=500).reset_index(drop=True) #bootstrap\n",
        "# spilt train/test & onehot y\n",
        "X_train, Y_train, X_test, Y_test = make_train_test(facial,0.2,1)\n",
        "print(X_train.shape, Y_train.shape,X_test.shape,Y_test.shape)\n",
        "# starndadization\n",
        "std = StandardScaler()\n",
        "X_train_prepared = std.fit_transform(X_train)\n",
        "X_test_prepared = std.fit_transform(X_test)\n",
        "\n",
        "#model run\n",
        "sgd_clf = SGDClassifier(max_iter=1000, tol=1e-3, random_state=42)\n",
        "sgd_clf.fit(X_train_prepared,Y_train)"
      ],
      "execution_count": 17,
      "outputs": [
        {
          "output_type": "stream",
          "name": "stdout",
          "text": [
            "(400, 22) (400,) (100, 22) (100,)\n"
          ]
        },
        {
          "output_type": "execute_result",
          "data": {
            "text/plain": [
              "SGDClassifier(alpha=0.0001, average=False, class_weight=None,\n",
              "              early_stopping=False, epsilon=0.1, eta0=0.0, fit_intercept=True,\n",
              "              l1_ratio=0.15, learning_rate='optimal', loss='hinge',\n",
              "              max_iter=1000, n_iter_no_change=5, n_jobs=None, penalty='l2',\n",
              "              power_t=0.5, random_state=42, shuffle=True, tol=0.001,\n",
              "              validation_fraction=0.1, verbose=0, warm_start=False)"
            ]
          },
          "metadata": {},
          "execution_count": 17
        }
      ]
    },
    {
      "cell_type": "code",
      "metadata": {
        "colab": {
          "base_uri": "https://localhost:8080/"
        },
        "id": "Xz1o2uRQbKtc",
        "outputId": "d15a110a-bec8-4ad0-dd22-834499cc0095"
      },
      "source": [
        "# cross validataion\n",
        "from sklearn.model_selection import cross_val_score\n",
        "cross_val_score(sgd_clf,X_train_prepared,Y_train, cv=3, scoring=\"accuracy\")"
      ],
      "execution_count": 18,
      "outputs": [
        {
          "output_type": "execute_result",
          "data": {
            "text/plain": [
              "array([1., 1., 1.])"
            ]
          },
          "metadata": {},
          "execution_count": 18
        }
      ]
    },
    {
      "cell_type": "code",
      "metadata": {
        "id": "dDMlfS7KhaBv"
      },
      "source": [
        "# prediction\n",
        "from sklearn.model_selection import cross_val_predict\n",
        "y_train_pred = cross_val_predict(sgd_clf, X_train_prepared, Y_train, cv=3)"
      ],
      "execution_count": 19,
      "outputs": []
    },
    {
      "cell_type": "markdown",
      "metadata": {
        "id": "hu7CitCMObj5"
      },
      "source": [
        "##### (2) Scores(CF,ACC, PRE, REC, F1)"
      ]
    },
    {
      "cell_type": "code",
      "metadata": {
        "colab": {
          "base_uri": "https://localhost:8080/"
        },
        "id": "FPLQgRsThsBv",
        "outputId": "2fe8c430-6b14-48c9-b61a-5278361d2fd9"
      },
      "source": [
        "# train\n",
        "average=\"macro\"\n",
        "metric = Metric(average)\n",
        "metric.confusion_metric(Y_train, y_train_pred)\n",
        "## precision, recall, f1 scores\n",
        "metric.metric(Y_train, y_train_pred)"
      ],
      "execution_count": 20,
      "outputs": [
        {
          "output_type": "stream",
          "name": "stdout",
          "text": [
            "# model result...\n",
            "\n",
            "confustion_matrix : \n",
            " [[134   0   0]\n",
            " [  0 130   0]\n",
            " [  0   0 136]] \n",
            "\n",
            "accuracy  : 1.0 \n",
            " \bprecision : 1.0 \n",
            " \brecall    : 1.0 \n",
            "\n",
            " \bf1_score  : 1.0 \n",
            "\n"
          ]
        }
      ]
    },
    {
      "cell_type": "code",
      "metadata": {
        "colab": {
          "base_uri": "https://localhost:8080/"
        },
        "id": "s6_lE6XYszzf",
        "outputId": "356f50a9-e322-4561-86c0-a7a2f3700a2f"
      },
      "source": [
        "# Test set \n",
        "y_test_pred = sgd_clf.predict(X_test_prepared)\n",
        "metric.confusion_metric(Y_test, y_test_pred)\n",
        "metric.metric(Y_test, y_test_pred)"
      ],
      "execution_count": 21,
      "outputs": [
        {
          "output_type": "stream",
          "name": "stdout",
          "text": [
            "confustion_matrix : \n",
            " [[27  0  0]\n",
            " [ 0 34  0]\n",
            " [ 0  0 39]] \n",
            "\n",
            "accuracy  : 1.0 \n",
            " \bprecision : 1.0 \n",
            " \brecall    : 1.0 \n",
            "\n",
            " \bf1_score  : 1.0 \n",
            "\n"
          ]
        }
      ]
    },
    {
      "cell_type": "markdown",
      "metadata": {
        "id": "bP8AeUKCBKSf"
      },
      "source": [
        "### 2.Randomforest"
      ]
    },
    {
      "cell_type": "markdown",
      "metadata": {
        "id": "fKzX6cs8sMOf"
      },
      "source": [
        "G"
      ]
    },
    {
      "cell_type": "markdown",
      "metadata": {
        "id": "SbFz3OPMOBkI"
      },
      "source": [
        "##### (1) Model Training, Grid Search"
      ]
    },
    {
      "cell_type": "code",
      "metadata": {
        "colab": {
          "base_uri": "https://localhost:8080/"
        },
        "id": "uCjpHhZVNciO",
        "outputId": "1403455f-f47d-4784-e842-612aa101ab4b"
      },
      "source": [
        "#Data loading, bootstraping\n",
        "facial = load_facial_data(data_path)\n",
        "facial = resample(facial,n_samples=500) #bootstrap\n",
        "\n",
        "# spilt train/test & onehot y\n",
        "X_train, Y_train, X_test, Y_test = make_train_test(facial,0.2)\n",
        "print(X_train.shape, Y_train.shape,X_test.shape,Y_test.shape)\n",
        "\n",
        "# starndadization\n",
        "std = StandardScaler()\n",
        "X_train_prepared = std.fit_transform(X_train)\n",
        "X_test_prepared = std.fit_transform(X_test)"
      ],
      "execution_count": 22,
      "outputs": [
        {
          "output_type": "stream",
          "name": "stdout",
          "text": [
            "(400, 22) (400, 3) (100, 22) (100, 3)\n"
          ]
        }
      ]
    },
    {
      "cell_type": "code",
      "metadata": {
        "colab": {
          "base_uri": "https://localhost:8080/"
        },
        "id": "o968PwdAEEBF",
        "outputId": "13dc6f1e-e6ac-405e-baa7-499dfc031850"
      },
      "source": [
        "from sklearn.ensemble import RandomForestClassifier \n",
        "from sklearn.model_selection import GridSearchCV, RandomizedSearchCV\n",
        "\n",
        "param_grid = [\n",
        "              {'n_estimators':[3,10,30,35,40], 'max_features':[2,4,6,8,10,12]},\n",
        "              {'bootstrap':[False],'n_estimators':[3,5,10], 'max_features':[2,3,4]}\n",
        "]\n",
        "\n",
        "forest_reg = RandomForestClassifier()\n",
        "\n",
        "grid_search = GridSearchCV(forest_reg, param_grid, cv=5,\n",
        "                           scoring='accuracy',\n",
        "                           verbose=1,\n",
        "                           return_train_score=True)\n",
        "\n",
        "grid_search.fit(X_train_prepared, Y_train)"
      ],
      "execution_count": 23,
      "outputs": [
        {
          "output_type": "stream",
          "name": "stdout",
          "text": [
            "Fitting 5 folds for each of 39 candidates, totalling 195 fits\n"
          ]
        },
        {
          "output_type": "stream",
          "name": "stderr",
          "text": [
            "[Parallel(n_jobs=1)]: Using backend SequentialBackend with 1 concurrent workers.\n",
            "[Parallel(n_jobs=1)]: Done 195 out of 195 | elapsed:    7.1s finished\n"
          ]
        },
        {
          "output_type": "execute_result",
          "data": {
            "text/plain": [
              "GridSearchCV(cv=5, error_score=nan,\n",
              "             estimator=RandomForestClassifier(bootstrap=True, ccp_alpha=0.0,\n",
              "                                              class_weight=None,\n",
              "                                              criterion='gini', max_depth=None,\n",
              "                                              max_features='auto',\n",
              "                                              max_leaf_nodes=None,\n",
              "                                              max_samples=None,\n",
              "                                              min_impurity_decrease=0.0,\n",
              "                                              min_impurity_split=None,\n",
              "                                              min_samples_leaf=1,\n",
              "                                              min_samples_split=2,\n",
              "                                              min_weight_fraction_leaf=0.0,\n",
              "                                              n_estimators=100, n_jobs=None,\n",
              "                                              oob_score=False,\n",
              "                                              random_state=None, verbose=0,\n",
              "                                              warm_start=False),\n",
              "             iid='deprecated', n_jobs=None,\n",
              "             param_grid=[{'max_features': [2, 4, 6, 8, 10, 12],\n",
              "                          'n_estimators': [3, 10, 30, 35, 40]},\n",
              "                         {'bootstrap': [False], 'max_features': [2, 3, 4],\n",
              "                          'n_estimators': [3, 5, 10]}],\n",
              "             pre_dispatch='2*n_jobs', refit=True, return_train_score=True,\n",
              "             scoring='accuracy', verbose=1)"
            ]
          },
          "metadata": {},
          "execution_count": 23
        }
      ]
    },
    {
      "cell_type": "code",
      "metadata": {
        "colab": {
          "base_uri": "https://localhost:8080/"
        },
        "id": "npEa0nhZEPGE",
        "outputId": "4aaef58b-cafa-41c5-9999-42eae729eed8"
      },
      "source": [
        "for r, _ in enumerate(grid_search.cv_results_['mean_test_score']):\n",
        "    print('Accuracy')\n",
        "    print(\"%0.3f +/- %0.3f %r\"\n",
        "          % (grid_search.cv_results_['mean_test_score'][r], \n",
        "             grid_search.cv_results_['std_test_score'][r] / 2.0, \n",
        "             grid_search.cv_results_['params'][r]))"
      ],
      "execution_count": 24,
      "outputs": [
        {
          "output_type": "stream",
          "name": "stdout",
          "text": [
            "0.985 +/- 0.010 {'max_features': 2, 'n_estimators': 3}\n",
            "0.995 +/- 0.005 {'max_features': 2, 'n_estimators': 10}\n",
            "0.995 +/- 0.005 {'max_features': 2, 'n_estimators': 30}\n",
            "0.995 +/- 0.005 {'max_features': 2, 'n_estimators': 35}\n",
            "0.995 +/- 0.005 {'max_features': 2, 'n_estimators': 40}\n",
            "0.990 +/- 0.007 {'max_features': 4, 'n_estimators': 3}\n",
            "1.000 +/- 0.000 {'max_features': 4, 'n_estimators': 10}\n",
            "0.995 +/- 0.005 {'max_features': 4, 'n_estimators': 30}\n",
            "0.995 +/- 0.005 {'max_features': 4, 'n_estimators': 35}\n",
            "1.000 +/- 0.000 {'max_features': 4, 'n_estimators': 40}\n",
            "0.997 +/- 0.002 {'max_features': 6, 'n_estimators': 3}\n",
            "1.000 +/- 0.000 {'max_features': 6, 'n_estimators': 10}\n",
            "0.995 +/- 0.005 {'max_features': 6, 'n_estimators': 30}\n",
            "1.000 +/- 0.000 {'max_features': 6, 'n_estimators': 35}\n",
            "0.995 +/- 0.005 {'max_features': 6, 'n_estimators': 40}\n",
            "0.990 +/- 0.006 {'max_features': 8, 'n_estimators': 3}\n",
            "0.997 +/- 0.002 {'max_features': 8, 'n_estimators': 10}\n",
            "1.000 +/- 0.000 {'max_features': 8, 'n_estimators': 30}\n",
            "1.000 +/- 0.000 {'max_features': 8, 'n_estimators': 35}\n",
            "0.992 +/- 0.005 {'max_features': 8, 'n_estimators': 40}\n",
            "0.988 +/- 0.006 {'max_features': 10, 'n_estimators': 3}\n",
            "0.997 +/- 0.002 {'max_features': 10, 'n_estimators': 10}\n",
            "1.000 +/- 0.000 {'max_features': 10, 'n_estimators': 30}\n",
            "1.000 +/- 0.000 {'max_features': 10, 'n_estimators': 35}\n",
            "0.995 +/- 0.005 {'max_features': 10, 'n_estimators': 40}\n",
            "0.997 +/- 0.002 {'max_features': 12, 'n_estimators': 3}\n",
            "0.997 +/- 0.002 {'max_features': 12, 'n_estimators': 10}\n",
            "0.995 +/- 0.005 {'max_features': 12, 'n_estimators': 30}\n",
            "0.995 +/- 0.005 {'max_features': 12, 'n_estimators': 35}\n",
            "1.000 +/- 0.000 {'max_features': 12, 'n_estimators': 40}\n",
            "0.990 +/- 0.006 {'bootstrap': False, 'max_features': 2, 'n_estimators': 3}\n",
            "1.000 +/- 0.000 {'bootstrap': False, 'max_features': 2, 'n_estimators': 5}\n",
            "0.993 +/- 0.005 {'bootstrap': False, 'max_features': 2, 'n_estimators': 10}\n",
            "1.000 +/- 0.000 {'bootstrap': False, 'max_features': 3, 'n_estimators': 3}\n",
            "0.995 +/- 0.005 {'bootstrap': False, 'max_features': 3, 'n_estimators': 5}\n",
            "0.990 +/- 0.006 {'bootstrap': False, 'max_features': 3, 'n_estimators': 10}\n",
            "0.990 +/- 0.006 {'bootstrap': False, 'max_features': 4, 'n_estimators': 3}\n",
            "0.995 +/- 0.005 {'bootstrap': False, 'max_features': 4, 'n_estimators': 5}\n",
            "0.993 +/- 0.005 {'bootstrap': False, 'max_features': 4, 'n_estimators': 10}\n"
          ]
        }
      ]
    },
    {
      "cell_type": "code",
      "metadata": {
        "colab": {
          "base_uri": "https://localhost:8080/"
        },
        "id": "Hm2p2AsrFJqV",
        "outputId": "2a2c1dae-be3b-4f9a-b80f-424cad2941c6"
      },
      "source": [
        "print(grid_search.best_params_)\n",
        "final_model = grid_search.best_estimator_"
      ],
      "execution_count": 25,
      "outputs": [
        {
          "output_type": "stream",
          "name": "stdout",
          "text": [
            "{'max_features': 4, 'n_estimators': 10}\n"
          ]
        }
      ]
    },
    {
      "cell_type": "markdown",
      "metadata": {
        "id": "1rJIFtteNy3u"
      },
      "source": [
        "##### (2) Scores(CF, ACC, PRE, REC, F1)"
      ]
    },
    {
      "cell_type": "code",
      "metadata": {
        "colab": {
          "base_uri": "https://localhost:8080/"
        },
        "id": "uL4BMyiOFpLl",
        "outputId": "e8d2ec26-1e2a-4fe2-8b73-de87212bb2bb"
      },
      "source": [
        "from sklearn.metrics import classification_report, confusion_matrix\n",
        "\n",
        "y_test_pred = final_model.predict(X_test_prepared)\n",
        "test_rmse=mse(Y_test, y_test_pred)\n",
        "print('test rmse :',test_rmse,'\\n')\n",
        "\n",
        "metric = Metric(\"macro\")\n",
        "inverse_y = inverse_trans(Y_test)\n",
        "inverse_y_pred = inverse_trans(y_test_pred)\n",
        "metric.confusion_metric(inverse_y, inverse_y_pred)\n",
        "metric.metric(inverse_y, inverse_y_pred)"
      ],
      "execution_count": 26,
      "outputs": [
        {
          "output_type": "stream",
          "name": "stdout",
          "text": [
            "test rmse : 0.0 \n",
            "\n",
            "# model result...\n",
            "\n",
            "confustion_matrix : \n",
            " [[32  0  0]\n",
            " [ 0 36  0]\n",
            " [ 0  0 32]] \n",
            "\n",
            "accuracy  : 1.0 \n",
            " \bprecision : 1.0 \n",
            " \brecall    : 1.0 \n",
            "\n",
            " \bf1_score  : 1.0 \n",
            "\n"
          ]
        }
      ]
    },
    {
      "cell_type": "markdown",
      "metadata": {
        "id": "aKDdmhZRm1CD"
      },
      "source": [
        "### 3.Deep Learning"
      ]
    },
    {
      "cell_type": "markdown",
      "metadata": {
        "id": "0kLwP0SeDFNK"
      },
      "source": [
        "##### (1) Model Traing, Evaluation"
      ]
    },
    {
      "cell_type": "markdown",
      "metadata": {
        "id": "z8BzuQjbiIeN"
      },
      "source": [
        "모델 및 파라미터 구성\n",
        "- keras Deep learning 모델을 구성하여 여러 depth layer 의 구성 및 hyper parameter 를 조정하여 테스트 하였음 <br>\n",
        "- layer 를 여러층으로 구성, dense output dim 의 값을 다양하게 변경<br>\n",
        "- overfitting을 막기위해 dropout을 사용하였고, rate 를 0.1~0.5 변경 <br>"
      ]
    },
    {
      "cell_type": "code",
      "metadata": {
        "id": "1N-RcL9ym7Mk"
      },
      "source": [
        "# Model package.module import\n",
        "import keras\n",
        "from keras.models import Sequential,load_model\n",
        "import keras.layers as layers\n",
        "from keras.layers import Dense, Activation, Dropout\n",
        "from keras.callbacks import EarlyStopping\n",
        "from keras.utils import np_utils\n",
        "from keras.optimizers import rmsprop_v2 \n",
        "from sklearn.model_selection import RepeatedKFold\n",
        "from sklearn.preprocessing import StandardScaler\n",
        "# bootstrap\n",
        "from sklearn.utils import resample\n",
        "# metrics\n",
        "from sklearn.metrics import accuracy_score, confusion_matrix\n",
        "\n",
        "# model 구성\n",
        "def get_model(n_inputs, n_outputs):\n",
        "    model = Sequential()\n",
        "    model.add(Dense(20,input_dim=n_inputs))\n",
        "    model.add(Dense(3))\n",
        "    model.add(Dropout(0.2))\n",
        "    model.add(Dense(10))\n",
        "    model.add(Dropout(0.1))\n",
        "    model.add(Dense(5))\n",
        "    model.add(Dense(n_outputs, activation='softmax'))\n",
        "\n",
        "    #model compile\n",
        "    model.compile(loss='mse', optimizer='adam',metrics=['accuracy']) # adam , rmsprop = RMSprop(lr=0.01)\n",
        "    return model\n",
        "\n",
        "# evaluate a model using repeated k-fold cross-validation\n",
        "def evaluate_model_cv(X, y):\n",
        "    results = list()\n",
        "    n_inputs, n_outputs = X.shape[1], y.shape[1]\n",
        "    # define evaluation procedure\n",
        "    cv = RepeatedKFold(n_splits=10, n_repeats=3, random_state=1)\n",
        "    # enumerate folds\n",
        "    for train_ix, test_ix in cv.split(X):\n",
        "      # prepare data\n",
        "      X_train, X_test = X[train_ix], X[test_ix]\n",
        "      y_train, y_test = y[train_ix], y[test_ix]\n",
        "      # define model\n",
        "      model = get_model(n_inputs, n_outputs)\n",
        "      # fit model\n",
        "      history=model.fit(X_train, y_train, verbose=0, epochs=100)\n",
        "      # make a prediction on the test set\n",
        "      yhat = model.predict(X_test)\n",
        "      yhat=inverse_trans(yhat)\n",
        "      y_test=inverse_trans(y_test)\n",
        "      # round probabilities to class labels\n",
        "      yhat = yhat.round()#;print(yhat,y_test)\n",
        "      # calculate accuracy\n",
        "      acc = accuracy_score(y_test, yhat)\n",
        "      # store result\n",
        "      print('>%.3f' % acc)\n",
        "      results.append(acc)\n",
        "    return model, results\n",
        "\n",
        "def evaluate_model(model, X_train_prepared, Y_train, X_test_prepared, Y_test):\n",
        "\n",
        "    n_inputs, n_outputs = X_train_prepared.shape[1], Y_train.shape[1]\n",
        "    model=get_model(n_inputs, n_outputs)\n",
        "\n",
        "    # Early Stop : patience #n 회 이상 val_loss 가 변화가 없으면 중단\n",
        "    es = EarlyStopping(monitor='val_loss', patience=50, min_delta=0.01)\n",
        "    # model fit\n",
        "    history = model.fit(X_train_prepared, Y_train, batch_size=50, epochs=1000,verbose=0,\n",
        "                        validation_data=(X_test_prepared, Y_test), callbacks=[es])\n",
        "    return model, history"
      ],
      "execution_count": 27,
      "outputs": []
    },
    {
      "cell_type": "markdown",
      "metadata": {
        "id": "vUvPVq4kgHYU"
      },
      "source": [
        "◆ Original Data : n = 87"
      ]
    },
    {
      "cell_type": "code",
      "metadata": {
        "colab": {
          "base_uri": "https://localhost:8080/"
        },
        "id": "c77JmiwYgBQa",
        "outputId": "b5972901-b533-49c5-8c36-5c5b909a229f"
      },
      "source": [
        "if __name__ == '__main__':\n",
        "\n",
        "    # load data\n",
        "    facial = load_facial_data(data_path)\n",
        "    #facial = resample(facial,n_samples=500) #bootstrap\n",
        "    # spilt train/test & onehot y\n",
        "    X_train, Y_train, X_test, Y_test = make_train_test(facial,0.2)\n",
        "    print(X_train.shape, Y_train.shape,X_test.shape,Y_test.shape)\n",
        "    # starndadization\n",
        "    std = StandardScaler()\n",
        "    X_train_prepared = std.fit_transform(X_train)\n",
        "    X_test_prepared = std.fit_transform(X_test)\n",
        "    # evaluate model - cross validation for train data\n",
        "    model, results = evaluate_model_cv(X_train_prepared, Y_train)\n",
        "    # evaluate model - test data\n",
        "    model, history = evaluate_model(model, X_train_prepared, Y_train, X_test_prepared, Y_test)\n",
        "    # get model\n",
        "    #model=get_model(X_test_prepared.shape[1], Y_test.shape[1])\n",
        "\n",
        "    # summarize performance\n",
        "    print('Train Accuracy: %.3f (%.3f)' % (np.mean(results), np.std(results)))\n",
        "\n",
        "    loss, acc = model.evaluate(X_test_prepared,  Y_test, verbose=2)\n",
        "    print('Test Accuracy: %.3f loss : %.3f' % (acc, loss))"
      ],
      "execution_count": 28,
      "outputs": [
        {
          "output_type": "stream",
          "name": "stdout",
          "text": [
            "(69, 22) (69, 3) (18, 22) (18, 3)\n",
            ">1.000\n",
            ">1.000\n",
            ">0.857\n",
            ">1.000\n",
            "WARNING:tensorflow:5 out of the last 5 calls to <function Model.make_predict_function.<locals>.predict_function at 0x7f1f2044e950> triggered tf.function retracing. Tracing is expensive and the excessive number of tracings could be due to (1) creating @tf.function repeatedly in a loop, (2) passing tensors with different shapes, (3) passing Python objects instead of tensors. For (1), please define your @tf.function outside of the loop. For (2), @tf.function has experimental_relax_shapes=True option that relaxes argument shapes that can avoid unnecessary retracing. For (3), please refer to https://www.tensorflow.org/guide/function#controlling_retracing and https://www.tensorflow.org/api_docs/python/tf/function for  more details.\n",
            ">1.000\n",
            "WARNING:tensorflow:6 out of the last 6 calls to <function Model.make_predict_function.<locals>.predict_function at 0x7f1f7ebf2290> triggered tf.function retracing. Tracing is expensive and the excessive number of tracings could be due to (1) creating @tf.function repeatedly in a loop, (2) passing tensors with different shapes, (3) passing Python objects instead of tensors. For (1), please define your @tf.function outside of the loop. For (2), @tf.function has experimental_relax_shapes=True option that relaxes argument shapes that can avoid unnecessary retracing. For (3), please refer to https://www.tensorflow.org/guide/function#controlling_retracing and https://www.tensorflow.org/api_docs/python/tf/function for  more details.\n",
            ">1.000\n",
            ">1.000\n",
            ">0.857\n",
            ">1.000\n",
            ">1.000\n",
            ">1.000\n",
            ">1.000\n",
            ">1.000\n",
            ">1.000\n",
            ">1.000\n",
            ">1.000\n",
            ">1.000\n",
            ">1.000\n",
            ">0.857\n",
            ">1.000\n",
            ">0.714\n",
            ">1.000\n",
            ">1.000\n",
            ">1.000\n",
            ">1.000\n",
            ">0.857\n",
            ">1.000\n",
            ">1.000\n",
            ">1.000\n",
            ">1.000\n",
            "Train Accuracy: 0.971 (0.068)\n",
            "1/1 - 0s - loss: 0.0365 - accuracy: 0.8889\n",
            "Test Accuracy: 0.889 loss : 0.037\n"
          ]
        }
      ]
    },
    {
      "cell_type": "code",
      "metadata": {
        "colab": {
          "base_uri": "https://localhost:8080/"
        },
        "id": "iX1aNGIbgzuH",
        "outputId": "799d1a05-368f-4a4e-cb9e-e94873ee490e"
      },
      "source": [
        "# Scores\n",
        "average=\"macro\"\n",
        "metric = Metric(average)\n",
        "y_test_pred = model.predict(X_test_prepared)\n",
        "inverse_y = inverse_trans(Y_test)\n",
        "inverse_y_pred = inverse_trans(y_test_pred)\n",
        "metric.confusion_metric(inverse_y, inverse_y_pred)\n",
        "metric.metric(inverse_y, inverse_y_pred)"
      ],
      "execution_count": 29,
      "outputs": [
        {
          "output_type": "stream",
          "name": "stdout",
          "text": [
            "# model result...\n",
            "\n",
            "confustion_matrix : \n",
            " [[7 0 2]\n",
            " [0 5 0]\n",
            " [0 0 4]] \n",
            "\n",
            "accuracy  : 0.8888888888888888 \n",
            " \bprecision : 0.8888888888888888 \n",
            " \brecall    : 0.9259259259259259 \n",
            "\n",
            " \bf1_score  : 0.8916666666666666 \n",
            "\n"
          ]
        }
      ]
    },
    {
      "cell_type": "markdown",
      "metadata": {
        "id": "s7vBeyBSgV9K"
      },
      "source": [
        "◆ Bootstrapping : n = 500"
      ]
    },
    {
      "cell_type": "code",
      "metadata": {
        "colab": {
          "base_uri": "https://localhost:8080/"
        },
        "id": "XZZq0tH2gUwN",
        "outputId": "4c45da0f-598c-4608-fc9a-601e0b9b4811"
      },
      "source": [
        "if __name__ == '__main__':\n",
        "\n",
        "    # load data\n",
        "    facial = load_facial_data(data_path)\n",
        "    facial = resample(facial,n_samples=500) #bootstrap\n",
        "    # spilt train/test & onehot y\n",
        "    X_train, Y_train, X_test, Y_test = make_train_test(facial,0.2)\n",
        "    print(X_train.shape, Y_train.shape,X_test.shape,Y_test.shape)\n",
        "    # starndadization\n",
        "    std = StandardScaler()\n",
        "    X_train_prepared = std.fit_transform(X_train)\n",
        "    X_test_prepared = std.fit_transform(X_test)\n",
        "    # evaluate model - cross validation for train data\n",
        "    model, results = evaluate_model_cv(X_train_prepared, Y_train)\n",
        "    # evaluate model - test data\n",
        "    model, history = evaluate_model(model, X_train_prepared, Y_train, X_test_prepared, Y_test)\n",
        "    # get model\n",
        "    #model=get_model(X_test_prepared.shape[1], Y_test.shape[1])\n",
        "\n",
        "    # summarize performance\n",
        "    print('Train Accuracy: %.3f (%.3f)' % (np.mean(results), np.std(results)))\n",
        "\n",
        "    loss, acc = model.evaluate(X_test_prepared,  Y_test, verbose=2)\n",
        "    print('Test Accuracy: %.3f loss : %.3f' % (acc, loss))"
      ],
      "execution_count": 30,
      "outputs": [
        {
          "output_type": "stream",
          "name": "stdout",
          "text": [
            "(400, 22) (400, 3) (100, 22) (100, 3)\n",
            ">1.000\n",
            ">1.000\n",
            ">1.000\n",
            ">1.000\n",
            ">1.000\n",
            ">1.000\n",
            ">1.000\n",
            ">1.000\n",
            ">1.000\n",
            ">1.000\n",
            ">1.000\n",
            ">1.000\n",
            ">1.000\n",
            ">1.000\n",
            ">1.000\n",
            ">1.000\n",
            ">1.000\n",
            ">1.000\n",
            ">1.000\n",
            ">1.000\n",
            ">1.000\n",
            ">1.000\n",
            ">1.000\n",
            ">1.000\n",
            ">1.000\n",
            ">1.000\n",
            ">1.000\n",
            ">1.000\n",
            ">1.000\n",
            ">1.000\n",
            "Train Accuracy: 1.000 (0.000)\n",
            "4/4 - 0s - loss: 3.3947e-04 - accuracy: 1.0000\n",
            "Test Accuracy: 1.000 loss : 0.000\n"
          ]
        }
      ]
    },
    {
      "cell_type": "markdown",
      "metadata": {
        "id": "3nPt8pHFM-KY"
      },
      "source": [
        "##### (2) Display model loss"
      ]
    },
    {
      "cell_type": "code",
      "metadata": {
        "colab": {
          "base_uri": "https://localhost:8080/",
          "height": 457
        },
        "id": "uPNAK9NLrKMZ",
        "outputId": "b385411f-c723-4c7a-fa08-d204e88603e8"
      },
      "source": [
        "import matplotlib.pyplot as plt\n",
        "plt.figure(figsize=(15,7))\n",
        "\n",
        "# 학습 손실 값과 검증 손실 값을 플롯팅 합니다.\n",
        "plt.subplot(122)\n",
        "plt.plot(history.history['loss'])\n",
        "plt.plot(history.history['val_loss'])\n",
        "plt.title('Model loss')\n",
        "plt.ylabel('Loss')\n",
        "plt.xlabel('Epoch')\n",
        "#plt.ylim(0,1.4)\n",
        "plt.legend(['Train', 'Test'], loc='upper right')\n",
        "plt.show()"
      ],
      "execution_count": 31,
      "outputs": [
        {
          "output_type": "display_data",
          "data": {
            "image/png": "[encoded data removed]",
            "text/plain": [
              "<Figure size 1080x504 with 1 Axes>"
            ]
          },
          "metadata": {
            "needs_background": "light"
          }
        }
      ]
    },
    {
      "cell_type": "markdown",
      "metadata": {
        "id": "pYjTRakyNR4j"
      },
      "source": [
        "##### (3) Scores(CF, ACC, PRE, REC, F1)"
      ]
    },
    {
      "cell_type": "code",
      "metadata": {
        "colab": {
          "base_uri": "https://localhost:8080/"
        },
        "id": "w96EYyVI1oyJ",
        "outputId": "7a8a6bfc-cf39-4733-ad57-4267fe51c5da"
      },
      "source": [
        "# Scores\n",
        "average=\"macro\"\n",
        "metric = Metric(average)\n",
        "\n",
        "y_test_pred = model.predict(X_test_prepared)\n",
        "inverse_y = inverse_trans(Y_test)\n",
        "inverse_y_pred = inverse_trans(y_test_pred)\n",
        "metric.confusion_metric(inverse_y, inverse_y_pred)\n",
        "metric.metric(inverse_y, inverse_y_pred)"
      ],
      "execution_count": 32,
      "outputs": [
        {
          "output_type": "stream",
          "name": "stdout",
          "text": [
            "# model result...\n",
            "\n",
            "confustion_matrix : \n",
            " [[24  0  0]\n",
            " [ 0 37  0]\n",
            " [ 0  0 39]] \n",
            "\n",
            "accuracy  : 1.0 \n",
            " \bprecision : 1.0 \n",
            " \brecall    : 1.0 \n",
            "\n",
            " \bf1_score  : 1.0 \n",
            "\n"
          ]
        }
      ]
    },
    {
      "cell_type": "code",
      "metadata": {
        "colab": {
          "base_uri": "https://localhost:8080/"
        },
        "id": "iN_Zv317rKnj",
        "outputId": "ff3150f9-b8e8-4503-e1d8-422342eee6e0"
      },
      "source": [
        "np.sqrt(min(history.history['val_loss']))"
      ],
      "execution_count": 33,
      "outputs": [
        {
          "output_type": "execute_result",
          "data": {
            "text/plain": [
              "0.01842476112115721"
            ]
          },
          "metadata": {},
          "execution_count": 33
        }
      ]
    },
    {
      "cell_type": "code",
      "metadata": {
        "id": "TfbJjsiG5gx4"
      },
      "source": [
        "# final model save\n",
        "model.save('my_model.h5')"
      ],
      "execution_count": 34,
      "outputs": []
    },
    {
      "cell_type": "markdown",
      "metadata": {
        "id": "-48XjnEap4CA"
      },
      "source": [
        "## 3.Result"
      ]
    },
    {
      "cell_type": "markdown",
      "metadata": {
        "id": "2waSzQ2Fp7uF"
      },
      "source": [
        "\n",
        "★ 딥러닝이 가장 좋은 결과를 나타냈음\n",
        "\n",
        "★ 다양한 모델 구성 및 hyper parameters 조합으로 테스트하였으나, \n",
        "- f1 score 를 0.9 이상 올리기가 불가능하였고 결국 데이터량이 적다고 판단되었음.<br>\n",
        "- bootsrapping(n=500) 을 사용함<br>\n",
        "- 최종적으로 <br>\n",
        "loss(rmse) =0.02 , Confusion matrix, accuracy, precision, recall, f1 score = 1 을 얻게됨"
      ]
    },
    {
      "cell_type": "markdown",
      "metadata": {
        "id": "Knir_kHRCZNC"
      },
      "source": [
        "## 4.Launch Model"
      ]
    },
    {
      "cell_type": "markdown",
      "metadata": {
        "id": "DwZc2y5WEIfS"
      },
      "source": [
        "Main function 에 eval_path 에 New data(csv) 를  에 넣으면 아래단계가 자동 수행되도록 코딩<br>\n",
        " 1) loading > 2) preprocessing > 3) model loadding > 4) Prediction > 5) Metric <br>"
      ]
    },
    {
      "cell_type": "code",
      "metadata": {
        "colab": {
          "base_uri": "https://localhost:8080/"
        },
        "id": "MpqCHiIOA5Fb",
        "outputId": "3543105a-6e75-491e-eaef-8f4639aa15e4"
      },
      "source": [
        "import time\n",
        "import urllib.request\n",
        "import zipfile\n",
        "\n",
        "def get_model():\n",
        "    '''\n",
        "    : 모델 download to /content/.. from Github\n",
        "    '''\n",
        "    url = 'https://raw.githubusercontent.com/kiakass/share/master/my_model.zip'\n",
        "    savename = \"/content/my_model.zip\"\n",
        "\n",
        "    mem = urllib.request.urlopen(url).read()\n",
        "    with open(savename, 'wb') as f:\n",
        "        f.write(mem)\n",
        "    urllib.request.urlretrieve(url,savename)\n",
        "\n",
        "    path_to_zip_file = \"/content/my_model.zip\"\n",
        "    directory_to_extract_to = '/content/'\n",
        "    with zipfile.ZipFile(path_to_zip_file, 'r') as zip_ref:\n",
        "        zip_ref.extractall(directory_to_extract_to)\n",
        "\n",
        "    saved_model = load_model(\"/content/my_model.h5\")\n",
        "\n",
        "    return saved_model\n",
        "\n",
        "def evaluation_test(model, eval_path):\n",
        "\n",
        "    \n",
        "    #load data\n",
        "    df = load_facial_data(eval_path)\n",
        "    print('data loadiing...')\n",
        "    # split : X, y \n",
        "    x_test, y_test = make_test(df)\n",
        "    print('data preprocessing...')\n",
        "    # standardization\n",
        "    x_test_prepared = std.fit_transform(x_test)\n",
        "\n",
        "    # predict y\n",
        "    print('model prediction...\\n')\n",
        "    y_pred = np.round(model.predict(x_test_prepared, verbose=0))\n",
        "    # inverse onehot to y_labels\n",
        "    inverse_y = inverse_trans(y_test)\n",
        "    inverse_y_pred = inverse_trans(y_pred)\n",
        "    \n",
        "    # Metric\n",
        "    ## confusion matrix\n",
        "    metric = Metric()\n",
        "    metric.confusion_metric(inverse_y, inverse_y_pred)\n",
        "    ## precision, recall, f1 scores\n",
        "    metric.metric(inverse_y, inverse_y_pred)\n",
        "\n",
        "if __name__ == '__main__':\n",
        "\n",
        "    # input new data : download path 만 바꿔주면 됩니다.\n",
        "    eval_path = 'https://raw.githubusercontent.com/kiakass/share/master/facial_test.csv'\n",
        "\n",
        "    # get model : save된 모델 download\n",
        "    saved_model = get_model()\n",
        "\n",
        "    # evaluation new data\n",
        "    evaluation_test(saved_model, eval_path)"
      ],
      "execution_count": 35,
      "outputs": [
        {
          "output_type": "stream",
          "name": "stdout",
          "text": [
            "data loadiing...\n",
            "data preprocessing...\n",
            "model prediction...\n",
            "\n",
            "# model result...\n",
            "\n",
            "confustion_matrix : \n",
            " [[10  0  0]\n",
            " [ 0  8  0]\n",
            " [ 0  0  9]] \n",
            "\n",
            "accuracy  : 1.0 \n",
            " \bprecision : 1.0 \n",
            " \brecall    : 1.0 \n",
            "\n",
            " \bf1_score  : 1.0 \n",
            "\n"
          ]
        }
      ]
    },
    {
      "cell_type": "code",
      "metadata": {
        "id": "3ORGJ_RMp_UF"
      },
      "source": [
        ""
      ],
      "execution_count": 35,
      "outputs": []
    }
  ]
}