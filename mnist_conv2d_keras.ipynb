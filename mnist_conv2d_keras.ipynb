{
  "nbformat": 4,
  "nbformat_minor": 0,
  "metadata": {
    "colab": {
      "name": "mnist_conv2d_keras.ipynb",
      "provenance": [],
      "machine_shape": "hm",
      "authorship_tag": "ABX9TyNAZxbmxX8aAFfvxTz6AW0J",
      "include_colab_link": true
    },
    "kernelspec": {
      "name": "python3",
      "display_name": "Python 3"
    },
    "accelerator": "GPU"
  },
  "cells": [
    {
      "cell_type": "markdown",
      "metadata": {
        "id": "view-in-github",
        "colab_type": "text"
      },
      "source": [
        "<a href=\"https://colab.research.google.com/github/kiakass/DeepLearning/blob/master/mnist_conv2d_keras.ipynb\" target=\"_parent\"><img src=\"https://colab.research.google.com/assets/colab-badge.svg\" alt=\"Open In Colab\"/></a>"
      ]
    },
    {
      "cell_type": "code",
      "metadata": {
        "id": "edp3VWtVTemO"
      },
      "source": [
        "import numpy as np\n",
        "import tensorflow as tf\n",
        "\n",
        "from tensorflow import keras\n",
        "from tensorflow.keras import layers\n",
        "from keras.models import Sequential\n",
        "\n",
        "from keras.datasets import mnist\n",
        "\n",
        "from keras.utils import np_utils"
      ],
      "execution_count": 7,
      "outputs": []
    },
    {
      "cell_type": "code",
      "metadata": {
        "id": "PmU9j-uWTZnW"
      },
      "source": [
        "mnist = tf.keras.datasets.mnist\n",
        "\n",
        "\n",
        "(x_train, y_train), (x_test, y_test) = mnist.load_data()\n",
        "x_train, x_test = x_train / 255.0, x_test / 255.0"
      ],
      "execution_count": 8,
      "outputs": []
    },
    {
      "cell_type": "code",
      "metadata": {
        "id": "SjmKbPNeIF6q"
      },
      "source": [
        "num_classes = 10\n",
        "input_shape = (28, 28, 1)"
      ],
      "execution_count": 9,
      "outputs": []
    },
    {
      "cell_type": "code",
      "metadata": {
        "id": "fNC8WHuUIvXp",
        "outputId": "8bb46b6e-5bfe-44a1-f34a-96dfd127cdd0",
        "colab": {
          "base_uri": "https://localhost:8080/",
          "height": 66
        }
      },
      "source": [
        "# the data, split between train and test sets\n",
        "(x_train, y_train), (x_test, y_test) = keras.datasets.mnist.load_data()\n",
        "\n",
        "# Scale images to the [0, 1] range\n",
        "x_train = x_train.astype(\"float32\") / 255\n",
        "x_test = x_test.astype(\"float32\") / 255\n",
        "# Make sure images have shape (28, 28, 1)\n",
        "x_train = np.expand_dims(x_train, -1)\n",
        "x_test = np.expand_dims(x_test, -1)\n",
        "print(\"x_train shape:\", x_train.shape)\n",
        "print(x_train.shape[0], \"train samples\")\n",
        "print(x_test.shape[0], \"test samples\")\n",
        "\n",
        "\n",
        "# convert class vectors to binary class matrices, onehot-encoding\n",
        "y_train = keras.utils.to_categorical(y_train, num_classes)\n",
        "y_test = keras.utils.to_categorical(y_test, num_classes)"
      ],
      "execution_count": 10,
      "outputs": [
        {
          "output_type": "stream",
          "text": [
            "x_train shape: (60000, 28, 28, 1)\n",
            "60000 train samples\n",
            "10000 test samples\n"
          ],
          "name": "stdout"
        }
      ]
    },
    {
      "cell_type": "code",
      "metadata": {
        "id": "tzE3H6-IG7gt",
        "outputId": "8cf47fce-8c65-4a54-98ca-c7953efbdc7e",
        "colab": {
          "base_uri": "https://localhost:8080/",
          "height": 133
        }
      },
      "source": [
        "y_train"
      ],
      "execution_count": 11,
      "outputs": [
        {
          "output_type": "execute_result",
          "data": {
            "text/plain": [
              "array([[0., 0., 0., ..., 0., 0., 0.],\n",
              "       [1., 0., 0., ..., 0., 0., 0.],\n",
              "       [0., 0., 0., ..., 0., 0., 0.],\n",
              "       ...,\n",
              "       [0., 0., 0., ..., 0., 0., 0.],\n",
              "       [0., 0., 0., ..., 0., 0., 0.],\n",
              "       [0., 0., 0., ..., 0., 1., 0.]], dtype=float32)"
            ]
          },
          "metadata": {
            "tags": []
          },
          "execution_count": 11
        }
      ]
    },
    {
      "cell_type": "code",
      "metadata": {
        "id": "ps8_PCug2exK",
        "outputId": "e3e5f357-a577-4b17-ba73-4f89c9ce1c72",
        "colab": {
          "base_uri": "https://localhost:8080/",
          "height": 216
        }
      },
      "source": [
        "help(mnist)"
      ],
      "execution_count": 12,
      "outputs": [
        {
          "output_type": "stream",
          "text": [
            "Help on package tensorflow.keras.datasets.mnist in tensorflow.keras.datasets:\n",
            "\n",
            "NAME\n",
            "    tensorflow.keras.datasets.mnist - MNIST handwritten digits dataset.\n",
            "\n",
            "PACKAGE CONTENTS\n",
            "\n",
            "\n",
            "FILE\n",
            "    /usr/local/lib/python3.6/dist-packages/tensorflow/keras/datasets/mnist/__init__.py\n",
            "\n",
            "\n"
          ],
          "name": "stdout"
        }
      ]
    },
    {
      "cell_type": "code",
      "metadata": {
        "id": "IqyXLozJDsYA"
      },
      "source": [
        "model = Sequential()"
      ],
      "execution_count": 13,
      "outputs": []
    },
    {
      "cell_type": "markdown",
      "metadata": {
        "id": "xJcP7-kQQi2A"
      },
      "source": [
        "## 학습자동중단 : EarlyStopping"
      ]
    },
    {
      "cell_type": "code",
      "metadata": {
        "id": "0mktcyD8QWsM"
      },
      "source": [
        "from keras.callbacks import EarlyStopping"
      ],
      "execution_count": 14,
      "outputs": []
    },
    {
      "cell_type": "code",
      "metadata": {
        "id": "pXwZkAUHHXiw",
        "outputId": "18dfe3c9-0da7-4bc7-fa6c-34ecb83d44a9",
        "colab": {
          "base_uri": "https://localhost:8080/",
          "height": 550
        }
      },
      "source": [
        "model = keras.Sequential(\n",
        "    [\n",
        "        keras.Input(shape=input_shape),\n",
        "        layers.Conv2D(32, kernel_size=(3, 3), activation=\"relu\"),\n",
        "        layers.BatchNormalization(),\n",
        "        layers.Conv2D(256, kernel_size=(3, 3), activation=\"relu\"),\n",
        "        layers.MaxPooling2D(pool_size=(2, 2)),\n",
        "        layers.Conv2D(128, kernel_size=(3, 3), activation=\"relu\"),\n",
        "        layers.MaxPooling2D(pool_size=(2, 2)),\n",
        "        layers.Conv2D(64, kernel_size=(3, 3), activation=\"relu\"),\n",
        "        layers.MaxPooling2D(pool_size=(2, 2)),\n",
        "        layers.Flatten(),\n",
        "        layers.Dropout(0.5),\n",
        "        layers.Dense(50, activation = 'relu', kernel_initializer='he_normal'),\n",
        "        layers.Dense(num_classes, activation=\"softmax\"),\n",
        "    ]\n",
        ")\n",
        "\n",
        "model.summary()"
      ],
      "execution_count": 61,
      "outputs": [
        {
          "output_type": "stream",
          "text": [
            "Model: \"sequential_9\"\n",
            "_________________________________________________________________\n",
            "Layer (type)                 Output Shape              Param #   \n",
            "=================================================================\n",
            "conv2d_26 (Conv2D)           (None, 26, 26, 32)        320       \n",
            "_________________________________________________________________\n",
            "batch_normalization_1 (Batch (None, 26, 26, 32)        128       \n",
            "_________________________________________________________________\n",
            "conv2d_27 (Conv2D)           (None, 24, 24, 256)       73984     \n",
            "_________________________________________________________________\n",
            "max_pooling2d_24 (MaxPooling (None, 12, 12, 256)       0         \n",
            "_________________________________________________________________\n",
            "conv2d_28 (Conv2D)           (None, 10, 10, 128)       295040    \n",
            "_________________________________________________________________\n",
            "max_pooling2d_25 (MaxPooling (None, 5, 5, 128)         0         \n",
            "_________________________________________________________________\n",
            "conv2d_29 (Conv2D)           (None, 3, 3, 64)          73792     \n",
            "_________________________________________________________________\n",
            "max_pooling2d_26 (MaxPooling (None, 1, 1, 64)          0         \n",
            "_________________________________________________________________\n",
            "flatten_8 (Flatten)          (None, 64)                0         \n",
            "_________________________________________________________________\n",
            "dropout_8 (Dropout)          (None, 64)                0         \n",
            "_________________________________________________________________\n",
            "dense_16 (Dense)             (None, 50)                3250      \n",
            "_________________________________________________________________\n",
            "dense_17 (Dense)             (None, 10)                510       \n",
            "=================================================================\n",
            "Total params: 447,024\n",
            "Trainable params: 446,960\n",
            "Non-trainable params: 64\n",
            "_________________________________________________________________\n"
          ],
          "name": "stdout"
        }
      ]
    },
    {
      "cell_type": "code",
      "metadata": {
        "id": "i2Bt2GMPIgi6",
        "outputId": "0849fa3b-793f-425b-c5f2-21822d00589d",
        "colab": {
          "base_uri": "https://localhost:8080/",
          "height": 1000
        }
      },
      "source": [
        "import time\n",
        "start = time.time()  # 시작 시간 저장\n",
        "\n",
        "batch_size = 128\n",
        "epochs = 100\n",
        "\n",
        "# model compile\n",
        "model.compile(loss=\"categorical_crossentropy\", optimizer=\"adam\", metrics=[\"accuracy\"])\n",
        "\n",
        "# Early Stop : patience #n 회 이상 val_loss 가 변화가 없으면 중단\n",
        "early_stopping_callback = EarlyStopping(monitor='val_loss',patience=20)\n",
        "\n",
        "# model fit\n",
        "history = model.fit(x_train, y_train, batch_size=batch_size, epochs=epochs, validation_split=0.1, callbacks=early_stopping_callback)\n",
        "model.evaluate(x_test,  y_test, verbose=2)\n",
        "\n",
        "print( \"Spend time : %.3f sec\" % (time.time() - start ))"
      ],
      "execution_count": 62,
      "outputs": [
        {
          "output_type": "stream",
          "text": [
            "Epoch 1/100\n",
            "422/422 [==============================] - 4s 9ms/step - loss: 0.6205 - accuracy: 0.7945 - val_loss: 0.1938 - val_accuracy: 0.9790\n",
            "Epoch 2/100\n",
            "422/422 [==============================] - 3s 8ms/step - loss: 0.2086 - accuracy: 0.9375 - val_loss: 0.0621 - val_accuracy: 0.9815\n",
            "Epoch 3/100\n",
            "422/422 [==============================] - 3s 8ms/step - loss: 0.1466 - accuracy: 0.9569 - val_loss: 0.0461 - val_accuracy: 0.9877\n",
            "Epoch 4/100\n",
            "422/422 [==============================] - 3s 8ms/step - loss: 0.1159 - accuracy: 0.9653 - val_loss: 0.0373 - val_accuracy: 0.9897\n",
            "Epoch 5/100\n",
            "422/422 [==============================] - 3s 8ms/step - loss: 0.1017 - accuracy: 0.9696 - val_loss: 0.0389 - val_accuracy: 0.9903\n",
            "Epoch 6/100\n",
            "422/422 [==============================] - 3s 8ms/step - loss: 0.0881 - accuracy: 0.9733 - val_loss: 0.0446 - val_accuracy: 0.9883\n",
            "Epoch 7/100\n",
            "422/422 [==============================] - 3s 8ms/step - loss: 0.0828 - accuracy: 0.9750 - val_loss: 0.0380 - val_accuracy: 0.9902\n",
            "Epoch 8/100\n",
            "422/422 [==============================] - 3s 8ms/step - loss: 0.0710 - accuracy: 0.9790 - val_loss: 0.0393 - val_accuracy: 0.9907\n",
            "Epoch 9/100\n",
            "422/422 [==============================] - 3s 8ms/step - loss: 0.0636 - accuracy: 0.9809 - val_loss: 0.0435 - val_accuracy: 0.9905\n",
            "Epoch 10/100\n",
            "422/422 [==============================] - 3s 8ms/step - loss: 0.0589 - accuracy: 0.9822 - val_loss: 0.0343 - val_accuracy: 0.9915\n",
            "Epoch 11/100\n",
            "422/422 [==============================] - 3s 8ms/step - loss: 0.0550 - accuracy: 0.9831 - val_loss: 0.0390 - val_accuracy: 0.9895\n",
            "Epoch 12/100\n",
            "422/422 [==============================] - 3s 8ms/step - loss: 0.0545 - accuracy: 0.9834 - val_loss: 0.0574 - val_accuracy: 0.9878\n",
            "Epoch 13/100\n",
            "422/422 [==============================] - 3s 8ms/step - loss: 0.0473 - accuracy: 0.9853 - val_loss: 0.0319 - val_accuracy: 0.9925\n",
            "Epoch 14/100\n",
            "422/422 [==============================] - 3s 8ms/step - loss: 0.0438 - accuracy: 0.9864 - val_loss: 0.0313 - val_accuracy: 0.9930\n",
            "Epoch 15/100\n",
            "422/422 [==============================] - 3s 8ms/step - loss: 0.0415 - accuracy: 0.9870 - val_loss: 0.0398 - val_accuracy: 0.9920\n",
            "Epoch 16/100\n",
            "422/422 [==============================] - 3s 8ms/step - loss: 0.0413 - accuracy: 0.9875 - val_loss: 0.0385 - val_accuracy: 0.9927\n",
            "Epoch 17/100\n",
            "422/422 [==============================] - 3s 8ms/step - loss: 0.0387 - accuracy: 0.9887 - val_loss: 0.0358 - val_accuracy: 0.9928\n",
            "Epoch 18/100\n",
            "422/422 [==============================] - 3s 8ms/step - loss: 0.0362 - accuracy: 0.9887 - val_loss: 0.0461 - val_accuracy: 0.9900\n",
            "Epoch 19/100\n",
            "422/422 [==============================] - 3s 8ms/step - loss: 0.0323 - accuracy: 0.9894 - val_loss: 0.0370 - val_accuracy: 0.9923\n",
            "Epoch 20/100\n",
            "422/422 [==============================] - 3s 8ms/step - loss: 0.0344 - accuracy: 0.9895 - val_loss: 0.0402 - val_accuracy: 0.9930\n",
            "Epoch 21/100\n",
            "422/422 [==============================] - 4s 8ms/step - loss: 0.0295 - accuracy: 0.9909 - val_loss: 0.0462 - val_accuracy: 0.9908\n",
            "Epoch 22/100\n",
            "422/422 [==============================] - 3s 8ms/step - loss: 0.0341 - accuracy: 0.9900 - val_loss: 0.0356 - val_accuracy: 0.9925\n",
            "Epoch 23/100\n",
            "422/422 [==============================] - 3s 8ms/step - loss: 0.0309 - accuracy: 0.9908 - val_loss: 0.0441 - val_accuracy: 0.9918\n",
            "Epoch 24/100\n",
            "422/422 [==============================] - 3s 8ms/step - loss: 0.0265 - accuracy: 0.9915 - val_loss: 0.0351 - val_accuracy: 0.9928\n",
            "Epoch 25/100\n",
            "422/422 [==============================] - 3s 8ms/step - loss: 0.0256 - accuracy: 0.9918 - val_loss: 0.0471 - val_accuracy: 0.9922\n",
            "Epoch 26/100\n",
            "422/422 [==============================] - 3s 8ms/step - loss: 0.0269 - accuracy: 0.9918 - val_loss: 0.0490 - val_accuracy: 0.9927\n",
            "Epoch 27/100\n",
            "422/422 [==============================] - 4s 9ms/step - loss: 0.0261 - accuracy: 0.9921 - val_loss: 0.0345 - val_accuracy: 0.9932\n",
            "Epoch 28/100\n",
            "422/422 [==============================] - 4s 9ms/step - loss: 0.0246 - accuracy: 0.9927 - val_loss: 0.0595 - val_accuracy: 0.9898\n",
            "Epoch 29/100\n",
            "422/422 [==============================] - 4s 9ms/step - loss: 0.0242 - accuracy: 0.9926 - val_loss: 0.0379 - val_accuracy: 0.9938\n",
            "Epoch 30/100\n",
            "422/422 [==============================] - 3s 8ms/step - loss: 0.0220 - accuracy: 0.9930 - val_loss: 0.0435 - val_accuracy: 0.9927\n",
            "Epoch 31/100\n",
            "422/422 [==============================] - 3s 8ms/step - loss: 0.0243 - accuracy: 0.9923 - val_loss: 0.0400 - val_accuracy: 0.9922\n",
            "Epoch 32/100\n",
            "422/422 [==============================] - 3s 8ms/step - loss: 0.0200 - accuracy: 0.9935 - val_loss: 0.0421 - val_accuracy: 0.9933\n",
            "Epoch 33/100\n",
            "422/422 [==============================] - 3s 8ms/step - loss: 0.0192 - accuracy: 0.9937 - val_loss: 0.0491 - val_accuracy: 0.9932\n",
            "Epoch 34/100\n",
            "422/422 [==============================] - 3s 8ms/step - loss: 0.0226 - accuracy: 0.9931 - val_loss: 0.0490 - val_accuracy: 0.9932\n",
            "313/313 - 1s - loss: 0.0468 - accuracy: 0.9921\n",
            "Spend time : 119.605 sec\n"
          ],
          "name": "stdout"
        }
      ]
    },
    {
      "cell_type": "code",
      "metadata": {
        "id": "nZED7mj6Tnae"
      },
      "source": [
        "#from keras.utils import plot_model\n",
        "#plot_model(model, to_file='model.png')"
      ],
      "execution_count": 63,
      "outputs": []
    },
    {
      "cell_type": "code",
      "metadata": {
        "id": "jI-U33bu3VZJ",
        "outputId": "00e2dd7c-d06e-49d5-e814-9f8c44f76837",
        "colab": {
          "base_uri": "https://localhost:8080/",
          "height": 33
        }
      },
      "source": [
        "history.history.keys()"
      ],
      "execution_count": 64,
      "outputs": [
        {
          "output_type": "execute_result",
          "data": {
            "text/plain": [
              "dict_keys(['loss', 'accuracy', 'val_loss', 'val_accuracy'])"
            ]
          },
          "metadata": {
            "tags": []
          },
          "execution_count": 64
        }
      ]
    },
    {
      "cell_type": "code",
      "metadata": {
        "id": "XMrjfIAlypy3",
        "outputId": "1a017c5f-64ea-41e5-fcf6-422f169492f1",
        "colab": {
          "base_uri": "https://localhost:8080/",
          "height": 457
        }
      },
      "source": [
        "import matplotlib.pyplot as plt\n",
        "#history = model.fit(x_train, y_train, validation_split=0.25, epochs=5, batch_size=100, verbose=1)\n",
        "#history.val = model.fit(x_test, y_test, validation_split=0.25, epochs=50, batch_size=16, verbose=1)\n",
        "plt.figure(figsize=(15,7))\n",
        "\n",
        "# 학습 정확성 값과 검증 정확성 값을 플롯팅 합니다. \n",
        "plt.subplot(121)\n",
        "plt.plot(history.history['accuracy'])\n",
        "plt.plot(history.history['val_accuracy'])\n",
        "plt.title('Model accuracy')\n",
        "plt.ylabel('Accuracy')\n",
        "plt.xlabel('Epoch')\n",
        "plt.ylim(0.90,1.01)\n",
        "plt.legend(['Train', 'Test'], loc='upper left')\n",
        "\n",
        "# 학습 손실 값과 검증 손실 값을 플롯팅 합니다.\n",
        "plt.subplot(122)\n",
        "plt.plot(history.history['loss'])\n",
        "plt.plot(history.history['val_loss'])\n",
        "plt.title('Model loss')\n",
        "plt.ylabel('Loss')\n",
        "plt.xlabel('Epoch')\n",
        "plt.ylim(0.0,0.3)\n",
        "plt.legend(['Train', 'Test'], loc='upper left')\n",
        "plt.show()"
      ],
      "execution_count": 65,
      "outputs": [
        {
          "output_type": "display_data",
          "data": {
            "image/png": "[encoded data removed]",
            "text/plain": [
              "<Figure size 1080x504 with 2 Axes>"
            ]
          },
          "metadata": {
            "tags": [],
            "needs_background": "light"
          }
        }
      ]
    },
    {
      "cell_type": "code",
      "metadata": {
        "id": "7V-uV-KHyvY_",
        "outputId": "b04050cd-1212-4d6a-9f83-06bb7d373348",
        "colab": {
          "base_uri": "https://localhost:8080/",
          "height": 33
        }
      },
      "source": [
        "print(history.history.keys())"
      ],
      "execution_count": 66,
      "outputs": [
        {
          "output_type": "stream",
          "text": [
            "dict_keys(['loss', 'accuracy', 'val_loss', 'val_accuracy'])\n"
          ],
          "name": "stdout"
        }
      ]
    },
    {
      "cell_type": "code",
      "metadata": {
        "id": "qbGEFLFu45kR"
      },
      "source": [
        ""
      ],
      "execution_count": 66,
      "outputs": []
    }
  ]
}