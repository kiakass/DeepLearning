{
  "nbformat": 4,
  "nbformat_minor": 0,
  "metadata": {
    "colab": {
      "name": "mnist_conv2d_keras.ipynb",
      "provenance": [],
      "machine_shape": "hm",
      "authorship_tag": "ABX9TyN6GS92McQgSLBM7zRy86JC",
      "include_colab_link": true
    },
    "kernelspec": {
      "name": "python3",
      "display_name": "Python 3"
    },
    "accelerator": "GPU"
  },
  "cells": [
    {
      "cell_type": "markdown",
      "metadata": {
        "id": "view-in-github",
        "colab_type": "text"
      },
      "source": [
        "<a href=\"https://colab.research.google.com/github/kiakass/DeepLearning/blob/master/mnist_conv2d_keras.ipynb\" target=\"_parent\"><img src=\"https://colab.research.google.com/assets/colab-badge.svg\" alt=\"Open In Colab\"/></a>"
      ]
    },
    {
      "cell_type": "code",
      "metadata": {
        "id": "edp3VWtVTemO"
      },
      "source": [
        "import tensorflow as tf\n",
        "from keras.utils import np_utils\n",
        "from keras.datasets import mnist\n",
        "from keras.models import Sequential\n",
        "from keras.layers import Dense, Activation\n",
        "from keras.layers import Flatten\n",
        "from keras.layers.convolutional import Conv2D\n",
        "from keras.layers.convolutional import MaxPooling2D\n",
        "from keras.utils import np_utils\n",
        "import numpy as np"
      ],
      "execution_count": 67,
      "outputs": []
    },
    {
      "cell_type": "code",
      "metadata": {
        "id": "PmU9j-uWTZnW",
        "outputId": "7c59020e-6dc5-4fcd-dcc3-4f471449a716",
        "colab": {
          "base_uri": "https://localhost:8080/",
          "height": 50
        }
      },
      "source": [
        "mnist = tf.keras.datasets.mnist\n",
        "\n",
        "\n",
        "(x_train, y_train), (x_test, y_test) = mnist.load_data()\n",
        "x_train, x_test = x_train / 255.0, x_test / 255.0"
      ],
      "execution_count": 2,
      "outputs": [
        {
          "output_type": "stream",
          "text": [
            "Downloading data from https://storage.googleapis.com/tensorflow/tf-keras-datasets/mnist.npz\n",
            "11493376/11490434 [==============================] - 0s 0us/step\n"
          ],
          "name": "stdout"
        }
      ]
    },
    {
      "cell_type": "code",
      "metadata": {
        "id": "fNC8WHuUIvXp",
        "outputId": "48d93847-6cc8-40a7-ccb9-715d535e13be",
        "colab": {
          "base_uri": "https://localhost:8080/",
          "height": 66
        }
      },
      "source": [
        "# the data, split between train and test sets\n",
        "(x_train, y_train), (x_test, y_test) = keras.datasets.mnist.load_data()\n",
        "\n",
        "# Scale images to the [0, 1] range\n",
        "x_train = x_train.astype(\"float32\") / 255\n",
        "x_test = x_test.astype(\"float32\") / 255\n",
        "# Make sure images have shape (28, 28, 1)\n",
        "x_train = np.expand_dims(x_train, -1)\n",
        "x_test = np.expand_dims(x_test, -1)\n",
        "print(\"x_train shape:\", x_train.shape)\n",
        "print(x_train.shape[0], \"train samples\")\n",
        "print(x_test.shape[0], \"test samples\")\n",
        "\n",
        "\n",
        "# convert class vectors to binary class matrices, onehot-encoding\n",
        "y_train = keras.utils.to_categorical(y_train, num_classes)\n",
        "y_test = keras.utils.to_categorical(y_test, num_classes)"
      ],
      "execution_count": 69,
      "outputs": [
        {
          "output_type": "stream",
          "text": [
            "x_train shape: (60000, 28, 28, 1)\n",
            "60000 train samples\n",
            "10000 test samples\n"
          ],
          "name": "stdout"
        }
      ]
    },
    {
      "cell_type": "code",
      "metadata": {
        "id": "tzE3H6-IG7gt",
        "outputId": "f3e53334-bd09-40b5-845f-50f376ffa347",
        "colab": {
          "base_uri": "https://localhost:8080/",
          "height": 133
        }
      },
      "source": [
        "y_train"
      ],
      "execution_count": 94,
      "outputs": [
        {
          "output_type": "execute_result",
          "data": {
            "text/plain": [
              "array([[0., 0., 0., ..., 0., 0., 0.],\n",
              "       [1., 0., 0., ..., 0., 0., 0.],\n",
              "       [0., 0., 0., ..., 0., 0., 0.],\n",
              "       ...,\n",
              "       [0., 0., 0., ..., 0., 0., 0.],\n",
              "       [0., 0., 0., ..., 0., 0., 0.],\n",
              "       [0., 0., 0., ..., 0., 1., 0.]], dtype=float32)"
            ]
          },
          "metadata": {
            "tags": []
          },
          "execution_count": 94
        }
      ]
    },
    {
      "cell_type": "code",
      "metadata": {
        "id": "ps8_PCug2exK",
        "outputId": "2664ecd8-bbe6-49ea-ec81-50758ca902b5",
        "colab": {
          "base_uri": "https://localhost:8080/",
          "height": 216
        }
      },
      "source": [
        "help(mnist)"
      ],
      "execution_count": 13,
      "outputs": [
        {
          "output_type": "stream",
          "text": [
            "Help on package tensorflow.keras.datasets.mnist in tensorflow.keras.datasets:\n",
            "\n",
            "NAME\n",
            "    tensorflow.keras.datasets.mnist - MNIST handwritten digits dataset.\n",
            "\n",
            "PACKAGE CONTENTS\n",
            "\n",
            "\n",
            "FILE\n",
            "    /usr/local/lib/python3.6/dist-packages/tensorflow/keras/datasets/mnist/__init__.py\n",
            "\n",
            "\n"
          ],
          "name": "stdout"
        }
      ]
    },
    {
      "cell_type": "code",
      "metadata": {
        "id": "IqyXLozJDsYA"
      },
      "source": [
        "model = Sequential()"
      ],
      "execution_count": 51,
      "outputs": []
    },
    {
      "cell_type": "code",
      "metadata": {
        "id": "SjmKbPNeIF6q"
      },
      "source": [
        "from tensorflow import keras\n",
        "from tensorflow.keras import layers\n",
        "num_classes = 10\n",
        "input_shape = (28, 28, 1)"
      ],
      "execution_count": 61,
      "outputs": []
    },
    {
      "cell_type": "code",
      "metadata": {
        "id": "pXwZkAUHHXiw",
        "outputId": "ae5b9972-6c5e-48b6-ec26-5d5ae2fa024e",
        "colab": {
          "base_uri": "https://localhost:8080/",
          "height": 483
        }
      },
      "source": [
        "model = keras.Sequential(\n",
        "    [\n",
        "        keras.Input(shape=input_shape),\n",
        "        layers.Conv2D(32, kernel_size=(3, 3), activation=\"relu\"),\n",
        "        layers.MaxPooling2D(pool_size=(2, 2)),\n",
        "        layers.Conv2D(128, kernel_size=(3, 3), activation=\"relu\"),\n",
        "        layers.MaxPooling2D(pool_size=(2, 2)),\n",
        "        layers.Conv2D(64, kernel_size=(3, 3), activation=\"relu\"),\n",
        "        layers.MaxPooling2D(pool_size=(2, 2)),\n",
        "        layers.Flatten(),\n",
        "        layers.Dropout(0.5),\n",
        "        layers.Dense(50, activation = 'relu', kernel_initializer='he_normal'),\n",
        "        layers.Dense(num_classes, activation=\"softmax\"),\n",
        "    ]\n",
        ")\n",
        "\n",
        "model.summary()"
      ],
      "execution_count": 91,
      "outputs": [
        {
          "output_type": "stream",
          "text": [
            "Model: \"sequential_4\"\n",
            "_________________________________________________________________\n",
            "Layer (type)                 Output Shape              Param #   \n",
            "=================================================================\n",
            "conv2d_8 (Conv2D)            (None, 26, 26, 32)        320       \n",
            "_________________________________________________________________\n",
            "max_pooling2d_7 (MaxPooling2 (None, 13, 13, 32)        0         \n",
            "_________________________________________________________________\n",
            "conv2d_9 (Conv2D)            (None, 11, 11, 128)       36992     \n",
            "_________________________________________________________________\n",
            "max_pooling2d_8 (MaxPooling2 (None, 5, 5, 128)         0         \n",
            "_________________________________________________________________\n",
            "conv2d_10 (Conv2D)           (None, 3, 3, 64)          73792     \n",
            "_________________________________________________________________\n",
            "max_pooling2d_9 (MaxPooling2 (None, 1, 1, 64)          0         \n",
            "_________________________________________________________________\n",
            "flatten_5 (Flatten)          (None, 64)                0         \n",
            "_________________________________________________________________\n",
            "dropout_3 (Dropout)          (None, 64)                0         \n",
            "_________________________________________________________________\n",
            "dense_7 (Dense)              (None, 50)                3250      \n",
            "_________________________________________________________________\n",
            "dense_8 (Dense)              (None, 10)                510       \n",
            "=================================================================\n",
            "Total params: 114,864\n",
            "Trainable params: 114,864\n",
            "Non-trainable params: 0\n",
            "_________________________________________________________________\n"
          ],
          "name": "stdout"
        }
      ]
    },
    {
      "cell_type": "code",
      "metadata": {
        "id": "i2Bt2GMPIgi6",
        "outputId": "adb98ee1-c63c-45da-a921-baa12126a395",
        "colab": {
          "base_uri": "https://localhost:8080/",
          "height": 1000
        }
      },
      "source": [
        "import time\n",
        "start = time.time()  # 시작 시간 저장\n",
        "\n",
        "batch_size = 128\n",
        "epochs = 50\n",
        "\n",
        "model.compile(loss=\"categorical_crossentropy\", optimizer=\"adam\", metrics=[\"accuracy\"])\n",
        "\n",
        "history = model.fit(x_train, y_train, batch_size=batch_size, epochs=epochs, validation_split=0.1)\n",
        "\n",
        "print( \"Spend time : %.3f sec\" % (time.time() - start ))"
      ],
      "execution_count": 92,
      "outputs": [
        {
          "output_type": "stream",
          "text": [
            "Epoch 1/50\n",
            "422/422 [==============================] - 2s 4ms/step - loss: 0.6203 - accuracy: 0.8007 - val_loss: 0.1182 - val_accuracy: 0.9677\n",
            "Epoch 2/50\n",
            "422/422 [==============================] - 2s 4ms/step - loss: 0.2339 - accuracy: 0.9300 - val_loss: 0.0695 - val_accuracy: 0.9793\n",
            "Epoch 3/50\n",
            "422/422 [==============================] - 2s 4ms/step - loss: 0.1761 - accuracy: 0.9472 - val_loss: 0.0557 - val_accuracy: 0.9847\n",
            "Epoch 4/50\n",
            "422/422 [==============================] - 2s 4ms/step - loss: 0.1469 - accuracy: 0.9567 - val_loss: 0.0517 - val_accuracy: 0.9853\n",
            "Epoch 5/50\n",
            "422/422 [==============================] - 2s 4ms/step - loss: 0.1234 - accuracy: 0.9634 - val_loss: 0.0458 - val_accuracy: 0.9870\n",
            "Epoch 6/50\n",
            "422/422 [==============================] - 2s 4ms/step - loss: 0.1052 - accuracy: 0.9688 - val_loss: 0.0478 - val_accuracy: 0.9883\n",
            "Epoch 7/50\n",
            "422/422 [==============================] - 2s 4ms/step - loss: 0.1005 - accuracy: 0.9703 - val_loss: 0.0420 - val_accuracy: 0.9878\n",
            "Epoch 8/50\n",
            "422/422 [==============================] - 2s 4ms/step - loss: 0.0900 - accuracy: 0.9723 - val_loss: 0.0442 - val_accuracy: 0.9892\n",
            "Epoch 9/50\n",
            "422/422 [==============================] - 2s 4ms/step - loss: 0.0838 - accuracy: 0.9752 - val_loss: 0.0430 - val_accuracy: 0.9888\n",
            "Epoch 10/50\n",
            "422/422 [==============================] - 2s 4ms/step - loss: 0.0745 - accuracy: 0.9771 - val_loss: 0.0441 - val_accuracy: 0.9883\n",
            "Epoch 11/50\n",
            "422/422 [==============================] - 2s 4ms/step - loss: 0.0683 - accuracy: 0.9798 - val_loss: 0.0388 - val_accuracy: 0.9895\n",
            "Epoch 12/50\n",
            "422/422 [==============================] - 2s 4ms/step - loss: 0.0647 - accuracy: 0.9804 - val_loss: 0.0393 - val_accuracy: 0.9905\n",
            "Epoch 13/50\n",
            "422/422 [==============================] - 2s 4ms/step - loss: 0.0622 - accuracy: 0.9810 - val_loss: 0.0385 - val_accuracy: 0.9898\n",
            "Epoch 14/50\n",
            "422/422 [==============================] - 2s 4ms/step - loss: 0.0579 - accuracy: 0.9819 - val_loss: 0.0400 - val_accuracy: 0.9898\n",
            "Epoch 15/50\n",
            "422/422 [==============================] - 2s 4ms/step - loss: 0.0525 - accuracy: 0.9838 - val_loss: 0.0393 - val_accuracy: 0.9913\n",
            "Epoch 16/50\n",
            "422/422 [==============================] - 2s 4ms/step - loss: 0.0514 - accuracy: 0.9841 - val_loss: 0.0416 - val_accuracy: 0.9900\n",
            "Epoch 17/50\n",
            "422/422 [==============================] - 2s 4ms/step - loss: 0.0486 - accuracy: 0.9849 - val_loss: 0.0469 - val_accuracy: 0.9897\n",
            "Epoch 18/50\n",
            "422/422 [==============================] - 2s 4ms/step - loss: 0.0454 - accuracy: 0.9855 - val_loss: 0.0392 - val_accuracy: 0.9910\n",
            "Epoch 19/50\n",
            "422/422 [==============================] - 2s 4ms/step - loss: 0.0437 - accuracy: 0.9861 - val_loss: 0.0413 - val_accuracy: 0.9922\n",
            "Epoch 20/50\n",
            "422/422 [==============================] - 2s 4ms/step - loss: 0.0406 - accuracy: 0.9864 - val_loss: 0.0432 - val_accuracy: 0.9907\n",
            "Epoch 21/50\n",
            "422/422 [==============================] - 2s 4ms/step - loss: 0.0417 - accuracy: 0.9871 - val_loss: 0.0439 - val_accuracy: 0.9910\n",
            "Epoch 22/50\n",
            "422/422 [==============================] - 2s 4ms/step - loss: 0.0382 - accuracy: 0.9873 - val_loss: 0.0403 - val_accuracy: 0.9913\n",
            "Epoch 23/50\n",
            "422/422 [==============================] - 2s 4ms/step - loss: 0.0359 - accuracy: 0.9884 - val_loss: 0.0433 - val_accuracy: 0.9910\n",
            "Epoch 24/50\n",
            "422/422 [==============================] - 2s 4ms/step - loss: 0.0365 - accuracy: 0.9886 - val_loss: 0.0423 - val_accuracy: 0.9910\n",
            "Epoch 25/50\n",
            "422/422 [==============================] - 2s 4ms/step - loss: 0.0329 - accuracy: 0.9893 - val_loss: 0.0438 - val_accuracy: 0.9912\n",
            "Epoch 26/50\n",
            "422/422 [==============================] - 2s 4ms/step - loss: 0.0354 - accuracy: 0.9887 - val_loss: 0.0448 - val_accuracy: 0.9917\n",
            "Epoch 27/50\n",
            "422/422 [==============================] - 2s 4ms/step - loss: 0.0313 - accuracy: 0.9893 - val_loss: 0.0428 - val_accuracy: 0.9923\n",
            "Epoch 28/50\n",
            "422/422 [==============================] - 2s 4ms/step - loss: 0.0305 - accuracy: 0.9901 - val_loss: 0.0419 - val_accuracy: 0.9923\n",
            "Epoch 29/50\n",
            "422/422 [==============================] - 2s 4ms/step - loss: 0.0312 - accuracy: 0.9897 - val_loss: 0.0428 - val_accuracy: 0.9922\n",
            "Epoch 30/50\n",
            "422/422 [==============================] - 2s 4ms/step - loss: 0.0297 - accuracy: 0.9902 - val_loss: 0.0410 - val_accuracy: 0.9917\n",
            "Epoch 31/50\n",
            "422/422 [==============================] - 2s 4ms/step - loss: 0.0278 - accuracy: 0.9908 - val_loss: 0.0413 - val_accuracy: 0.9920\n",
            "Epoch 32/50\n",
            "422/422 [==============================] - 2s 4ms/step - loss: 0.0270 - accuracy: 0.9909 - val_loss: 0.0430 - val_accuracy: 0.9923\n",
            "Epoch 33/50\n",
            "422/422 [==============================] - 2s 4ms/step - loss: 0.0285 - accuracy: 0.9904 - val_loss: 0.0414 - val_accuracy: 0.9912\n",
            "Epoch 34/50\n",
            "422/422 [==============================] - 2s 4ms/step - loss: 0.0282 - accuracy: 0.9903 - val_loss: 0.0405 - val_accuracy: 0.9923\n",
            "Epoch 35/50\n",
            "422/422 [==============================] - 2s 4ms/step - loss: 0.0242 - accuracy: 0.9917 - val_loss: 0.0427 - val_accuracy: 0.9907\n",
            "Epoch 36/50\n",
            "422/422 [==============================] - 2s 4ms/step - loss: 0.0241 - accuracy: 0.9921 - val_loss: 0.0477 - val_accuracy: 0.9910\n",
            "Epoch 37/50\n",
            "422/422 [==============================] - 2s 4ms/step - loss: 0.0240 - accuracy: 0.9920 - val_loss: 0.0463 - val_accuracy: 0.9920\n",
            "Epoch 38/50\n",
            "422/422 [==============================] - 2s 4ms/step - loss: 0.0231 - accuracy: 0.9924 - val_loss: 0.0508 - val_accuracy: 0.9903\n",
            "Epoch 39/50\n",
            "422/422 [==============================] - 2s 4ms/step - loss: 0.0252 - accuracy: 0.9919 - val_loss: 0.0556 - val_accuracy: 0.9907\n",
            "Epoch 40/50\n",
            "422/422 [==============================] - 2s 4ms/step - loss: 0.0249 - accuracy: 0.9917 - val_loss: 0.0488 - val_accuracy: 0.9910\n",
            "Epoch 41/50\n",
            "422/422 [==============================] - 2s 4ms/step - loss: 0.0223 - accuracy: 0.9930 - val_loss: 0.0467 - val_accuracy: 0.9908\n",
            "Epoch 42/50\n",
            "422/422 [==============================] - 2s 4ms/step - loss: 0.0221 - accuracy: 0.9926 - val_loss: 0.0487 - val_accuracy: 0.9910\n",
            "Epoch 43/50\n",
            "422/422 [==============================] - 2s 4ms/step - loss: 0.0205 - accuracy: 0.9932 - val_loss: 0.0570 - val_accuracy: 0.9893\n",
            "Epoch 44/50\n",
            "422/422 [==============================] - 2s 4ms/step - loss: 0.0242 - accuracy: 0.9919 - val_loss: 0.0514 - val_accuracy: 0.9912\n",
            "Epoch 45/50\n",
            "422/422 [==============================] - 2s 4ms/step - loss: 0.0221 - accuracy: 0.9926 - val_loss: 0.0470 - val_accuracy: 0.9915\n",
            "Epoch 46/50\n",
            "422/422 [==============================] - 2s 4ms/step - loss: 0.0215 - accuracy: 0.9931 - val_loss: 0.0486 - val_accuracy: 0.9917\n",
            "Epoch 47/50\n",
            "422/422 [==============================] - 2s 4ms/step - loss: 0.0208 - accuracy: 0.9932 - val_loss: 0.0478 - val_accuracy: 0.9913\n",
            "Epoch 48/50\n",
            "422/422 [==============================] - 2s 4ms/step - loss: 0.0213 - accuracy: 0.9934 - val_loss: 0.0511 - val_accuracy: 0.9918\n",
            "Epoch 49/50\n",
            "422/422 [==============================] - 2s 4ms/step - loss: 0.0192 - accuracy: 0.9933 - val_loss: 0.0542 - val_accuracy: 0.9888\n",
            "Epoch 50/50\n",
            "422/422 [==============================] - 2s 4ms/step - loss: 0.0205 - accuracy: 0.9930 - val_loss: 0.0479 - val_accuracy: 0.9913\n",
            "Spend time : 79.548 sec\n"
          ],
          "name": "stdout"
        }
      ]
    },
    {
      "cell_type": "code",
      "metadata": {
        "id": "nZED7mj6Tnae"
      },
      "source": [
        "#from keras.utils import plot_model\n",
        "#plot_model(model, to_file='model.png')"
      ],
      "execution_count": 86,
      "outputs": []
    },
    {
      "cell_type": "code",
      "metadata": {
        "id": "jI-U33bu3VZJ",
        "outputId": "b2da8d32-86ef-4052-9829-a0934d4f8379",
        "colab": {
          "base_uri": "https://localhost:8080/",
          "height": 33
        }
      },
      "source": [
        "history.history.keys()"
      ],
      "execution_count": 84,
      "outputs": [
        {
          "output_type": "execute_result",
          "data": {
            "text/plain": [
              "dict_keys(['loss', 'accuracy', 'val_loss', 'val_accuracy'])"
            ]
          },
          "metadata": {
            "tags": []
          },
          "execution_count": 84
        }
      ]
    },
    {
      "cell_type": "code",
      "metadata": {
        "id": "XMrjfIAlypy3",
        "outputId": "a51d23fb-3d75-458f-c44a-4efd0c42917c",
        "colab": {
          "base_uri": "https://localhost:8080/",
          "height": 474
        }
      },
      "source": [
        "import matplotlib.pyplot as plt\n",
        "#history = model.fit(x_train, y_train, validation_split=0.25, epochs=5, batch_size=100, verbose=1)\n",
        "#history.val = model.fit(x_test, y_test, validation_split=0.25, epochs=50, batch_size=16, verbose=1)\n",
        "plt.figure(figsize=(15,7))\n",
        "\n",
        "# 학습 정확성 값과 검증 정확성 값을 플롯팅 합니다. \n",
        "plt.subplot(121)\n",
        "plt.plot(history.history['accuracy'])\n",
        "plt.plot(history.history['val_accuracy'])\n",
        "plt.title('Model accuracy')\n",
        "plt.ylabel('Accuracy')\n",
        "plt.xlabel('Epoch')\n",
        "plt.ylim(0.90,1.01)\n",
        "plt.legend(['Train', 'Test'], loc='upper left')\n",
        "\n",
        "# 학습 손실 값과 검증 손실 값을 플롯팅 합니다.\n",
        "plt.subplot(122)\n",
        "plt.plot(history.history['loss'])\n",
        "plt.plot(history.history['val_loss'])\n",
        "plt.title('Model loss')\n",
        "plt.ylabel('Loss')\n",
        "plt.xlabel('Epoch')\n",
        "plt.ylim(0.0,0.3)\n",
        "plt.legend(['Train', 'Test'], loc='upper left')\n",
        "plt.show()\n",
        "\n",
        "history = model.evaluate(x_test,  y_test, verbose=2)"
      ],
      "execution_count": 93,
      "outputs": [
        {
          "output_type": "display_data",
          "data": {
            "image/png": "[encoded data removed]",
            "text/plain": [
              "<Figure size 1080x504 with 2 Axes>"
            ]
          },
          "metadata": {
            "tags": [],
            "needs_background": "light"
          }
        },
        {
          "output_type": "stream",
          "text": [
            "313/313 - 1s - loss: 0.0467 - accuracy: 0.9900\n"
          ],
          "name": "stdout"
        }
      ]
    },
    {
      "cell_type": "code",
      "metadata": {
        "id": "7V-uV-KHyvY_",
        "outputId": "dd8f9ce7-b1a2-4802-8417-3028e2ee715e",
        "colab": {
          "base_uri": "https://localhost:8080/",
          "height": 33
        }
      },
      "source": [
        "print(history.history.keys())"
      ],
      "execution_count": 23,
      "outputs": [
        {
          "output_type": "stream",
          "text": [
            "dict_keys(['loss', 'accuracy'])\n"
          ],
          "name": "stdout"
        }
      ]
    },
    {
      "cell_type": "code",
      "metadata": {
        "id": "qbGEFLFu45kR"
      },
      "source": [
        ""
      ],
      "execution_count": null,
      "outputs": []
    }
  ]
}