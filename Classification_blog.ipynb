{
  "nbformat": 4,
  "nbformat_minor": 0,
  "metadata": {
    "colab": {
      "name": "Classification_blog.ipynb",
      "provenance": [],
      "collapsed_sections": [],
      "toc_visible": true,
      "authorship_tag": "ABX9TyOrNou56EhKEo7tmXVUnsBK",
      "include_colab_link": true
    },
    "kernelspec": {
      "name": "python3",
      "display_name": "Python 3"
    },
    "language_info": {
      "name": "python"
    },
    "accelerator": "GPU"
  },
  "cells": [
    {
      "cell_type": "markdown",
      "metadata": {
        "id": "view-in-github",
        "colab_type": "text"
      },
      "source": [
        "<a href=\"https://colab.research.google.com/github/kiakass/DeepLearning/blob/master/Classification_blog.ipynb\" target=\"_parent\"><img src=\"https://colab.research.google.com/assets/colab-badge.svg\" alt=\"Open In Colab\"/></a>"
      ]
    },
    {
      "cell_type": "markdown",
      "metadata": {
        "id": "SuP4I6-JSB0t"
      },
      "source": [
        "##INTRODUCTION TO STATISTICS AND MACHINE LEARNING<br>\n",
        "\n",
        "> Given the samples of three facial expression classes, you are asked to build your own classfication model. <br>\n",
        "> To enhance performance, you need to explore various steps of data exploration, preprocessing, model selection, and model tuning. <br>\n",
        "> Your implementation should be concrete and complete.<br>\n",
        "> - 22 features: extracted from an image<br>\n",
        "> - 3 classes: angry, happy, and surprised<br><br>\n"
      ]
    },
    {
      "cell_type": "markdown",
      "metadata": {
        "id": "JWDSX87MUbXj"
      },
      "source": [
        "- For every step, you should make reasonable explanations and descriptions in\n",
        "markdown format.\n",
        "- Steps: data loading, data exploration, data cleaning/preprocessing, data split\n",
        "(train-validation-test), model training (selection, tuning), performance evalu-\n",
        "ation\n",
        "- The experimental results need to be reported in various metrics (accuracy,\n",
        "precision, recall, macro-F1).\n",
        "- The evaluation will be conducted on an independent test set in terms of the\n",
        "macro-F1 score.\n",
        "- You need to de\fne a method of \\accuracy, mF1 = test evaluation(test samples,\n",
        "test labels)\" that automatically processes every step in a test phase.\n",
        "> "
      ]
    },
    {
      "cell_type": "markdown",
      "metadata": {
        "id": "PUT-bEH5RPUv"
      },
      "source": [
        "# ■ Model Design"
      ]
    },
    {
      "cell_type": "markdown",
      "metadata": {
        "id": "S4H4iBkwReBz"
      },
      "source": [
        "> $ {\\color{royalblue} {1.\\, Data\\, Load}}$\n",
        ">> - facial_expression_train_dataset 을 github에 upload 하여 get 함 <br>\n",
        ">> - column 을 X#, Y 로 변경 <br>\n",
        "\n",
        "> $ {\\color{royalblue} {2.\\, EDA\\, : Exploratory\\, Data\\, Analysis}} $<br>\n",
        ">> - Data는 22개의 feature, Y label 1개(3개의 class) 로 구성되어 있음 <br>\n",
        ">> - Data는 numerical 하고, missing value 및 outlier 는 보이지 않음 <br>\n",
        "\n",
        "> $ {\\color{royalblue} {3.\\, 전처리}} $\n",
        ">> -  X data :  standardization <br>\n",
        ">> - Y label에 대해 onehot encoding 수행 <br>\n",
        "\n",
        "> $ {\\color{royalblue} {4.\\, Model}} $ - Classfication 처리를 위해 아래 3가지 모델을 사용함\n",
        ">> - SDGRegressor : 교재\n",
        ">> - RandomForest : 교재\n",
        ">> - Deel Learing : My_model\n",
        "\n",
        "> $ {\\color{royalblue} {5.\\, Launch\\, Model}} $ [모델 테스트 및 검증]\n",
        ">> - Deep Learning Model 에서 최종적으로 얻은 model 을 hdf5 로 저장\n",
        ">> - $ {\\color{salmon} {이\\, 위치에 \\,test할\\, file\\, or\\, url 을\\, 업로드하고\\, 저장한\\, 모델을\\, load 하여\\, 테스트하도록\\, 코딩하였음}}$"
      ]
    },
    {
      "cell_type": "markdown",
      "metadata": {
        "id": "T_Ov-Qe9SlRx"
      },
      "source": [
        "## 1.Data Prepration"
      ]
    },
    {
      "cell_type": "markdown",
      "metadata": {
        "id": "eOCiBLompQTG"
      },
      "source": [
        "### 1.Data loading"
      ]
    },
    {
      "cell_type": "code",
      "metadata": {
        "id": "KqbjyGWUOGu6"
      },
      "source": [
        "import pandas as pd\n",
        "import numpy as np\n",
        "import matplotlib.pyplot as plt\n",
        "from sklearn.utils import resample\n",
        "\n",
        "data_path = 'https://raw.githubusercontent.com/kiakass/share/master/facial_expression_train_dataset.csv'\n",
        "\n",
        "def load_facial_data(data_path):\n",
        "    ''' cloumn name 을 X#n, Y로 변경 '''    \n",
        "    return pd.read_csv(data_path,skiprows=[0],names=np.r_[['Y'],['X'+str(x) for x in range(0,22)]].tolist())\n",
        "\n",
        "facial = load_facial_data(data_path)"
      ],
      "execution_count": 93,
      "outputs": []
    },
    {
      "cell_type": "code",
      "metadata": {
        "colab": {
          "base_uri": "https://localhost:8080/",
          "height": 414
        },
        "id": "7gI1Z_QAYDPf",
        "outputId": "35767133-fd92-4e6e-c538-63714733c213"
      },
      "source": [
        "facial"
      ],
      "execution_count": 94,
      "outputs": [
        {
          "output_type": "execute_result",
          "data": {
            "text/html": [
              "<div>\n",
              "<style scoped>\n",
              "    .dataframe tbody tr th:only-of-type {\n",
              "        vertical-align: middle;\n",
              "    }\n",
              "\n",
              "    .dataframe tbody tr th {\n",
              "        vertical-align: top;\n",
              "    }\n",
              "\n",
              "    .dataframe thead th {\n",
              "        text-align: right;\n",
              "    }\n",
              "</style>\n",
              "<table border=\"1\" class=\"dataframe\">\n",
              "  <thead>\n",
              "    <tr style=\"text-align: right;\">\n",
              "      <th></th>\n",
              "      <th>Y</th>\n",
              "      <th>X0</th>\n",
              "      <th>X1</th>\n",
              "      <th>X2</th>\n",
              "      <th>X3</th>\n",
              "      <th>X4</th>\n",
              "      <th>X5</th>\n",
              "      <th>X6</th>\n",
              "      <th>X7</th>\n",
              "      <th>X8</th>\n",
              "      <th>X9</th>\n",
              "      <th>X10</th>\n",
              "      <th>X11</th>\n",
              "      <th>X12</th>\n",
              "      <th>X13</th>\n",
              "      <th>X14</th>\n",
              "      <th>X15</th>\n",
              "      <th>X16</th>\n",
              "      <th>X17</th>\n",
              "      <th>X18</th>\n",
              "      <th>X19</th>\n",
              "      <th>X20</th>\n",
              "      <th>X21</th>\n",
              "    </tr>\n",
              "  </thead>\n",
              "  <tbody>\n",
              "    <tr>\n",
              "      <th>0</th>\n",
              "      <td>1</td>\n",
              "      <td>4.1231</td>\n",
              "      <td>2.8284</td>\n",
              "      <td>6.0828</td>\n",
              "      <td>8.6023</td>\n",
              "      <td>5.0000</td>\n",
              "      <td>3.0000</td>\n",
              "      <td>5.0000</td>\n",
              "      <td>3.6056</td>\n",
              "      <td>8.6023</td>\n",
              "      <td>8.0000</td>\n",
              "      <td>9.2195</td>\n",
              "      <td>4.0000</td>\n",
              "      <td>9.0554</td>\n",
              "      <td>8.9443</td>\n",
              "      <td>5.0990</td>\n",
              "      <td>4.1231</td>\n",
              "      <td>11.0454</td>\n",
              "      <td>8.6023</td>\n",
              "      <td>4.1231</td>\n",
              "      <td>14.8661</td>\n",
              "      <td>14.0000</td>\n",
              "      <td>15.2315</td>\n",
              "    </tr>\n",
              "    <tr>\n",
              "      <th>1</th>\n",
              "      <td>1</td>\n",
              "      <td>6.3246</td>\n",
              "      <td>5.0000</td>\n",
              "      <td>7.6158</td>\n",
              "      <td>6.0828</td>\n",
              "      <td>4.2426</td>\n",
              "      <td>2.2361</td>\n",
              "      <td>6.4031</td>\n",
              "      <td>4.4721</td>\n",
              "      <td>8.9443</td>\n",
              "      <td>7.0711</td>\n",
              "      <td>10.4403</td>\n",
              "      <td>6.0828</td>\n",
              "      <td>12.0416</td>\n",
              "      <td>9.2195</td>\n",
              "      <td>3.6056</td>\n",
              "      <td>13.3417</td>\n",
              "      <td>12.1655</td>\n",
              "      <td>11.4018</td>\n",
              "      <td>4.1231</td>\n",
              "      <td>17.7200</td>\n",
              "      <td>16.0312</td>\n",
              "      <td>19.7231</td>\n",
              "    </tr>\n",
              "    <tr>\n",
              "      <th>2</th>\n",
              "      <td>1</td>\n",
              "      <td>5.6569</td>\n",
              "      <td>5.6569</td>\n",
              "      <td>8.5440</td>\n",
              "      <td>5.0000</td>\n",
              "      <td>3.1623</td>\n",
              "      <td>3.0000</td>\n",
              "      <td>10.0000</td>\n",
              "      <td>3.6056</td>\n",
              "      <td>10.2956</td>\n",
              "      <td>6.0828</td>\n",
              "      <td>11.0454</td>\n",
              "      <td>6.0000</td>\n",
              "      <td>11.0454</td>\n",
              "      <td>7.0711</td>\n",
              "      <td>7.6158</td>\n",
              "      <td>7.2111</td>\n",
              "      <td>14.3178</td>\n",
              "      <td>8.6023</td>\n",
              "      <td>6.3246</td>\n",
              "      <td>20.5913</td>\n",
              "      <td>17.4642</td>\n",
              "      <td>18.9737</td>\n",
              "    </tr>\n",
              "    <tr>\n",
              "      <th>3</th>\n",
              "      <td>1</td>\n",
              "      <td>12.0416</td>\n",
              "      <td>13.3417</td>\n",
              "      <td>8.9443</td>\n",
              "      <td>11.1803</td>\n",
              "      <td>8.4853</td>\n",
              "      <td>6.4031</td>\n",
              "      <td>4.0000</td>\n",
              "      <td>5.8310</td>\n",
              "      <td>6.0828</td>\n",
              "      <td>11.7047</td>\n",
              "      <td>9.2195</td>\n",
              "      <td>2.0000</td>\n",
              "      <td>13.3417</td>\n",
              "      <td>9.0000</td>\n",
              "      <td>6.0000</td>\n",
              "      <td>4.1231</td>\n",
              "      <td>1.4142</td>\n",
              "      <td>4.0000</td>\n",
              "      <td>8.9443</td>\n",
              "      <td>10.1980</td>\n",
              "      <td>7.6158</td>\n",
              "      <td>13.0384</td>\n",
              "    </tr>\n",
              "    <tr>\n",
              "      <th>4</th>\n",
              "      <td>1</td>\n",
              "      <td>10.0000</td>\n",
              "      <td>14.1421</td>\n",
              "      <td>13.6015</td>\n",
              "      <td>12.0830</td>\n",
              "      <td>9.8995</td>\n",
              "      <td>7.0711</td>\n",
              "      <td>4.4721</td>\n",
              "      <td>9.8489</td>\n",
              "      <td>5.0000</td>\n",
              "      <td>4.4721</td>\n",
              "      <td>4.1231</td>\n",
              "      <td>5.3852</td>\n",
              "      <td>8.0000</td>\n",
              "      <td>6.4031</td>\n",
              "      <td>6.0000</td>\n",
              "      <td>7.2801</td>\n",
              "      <td>7.8102</td>\n",
              "      <td>5.3852</td>\n",
              "      <td>8.6023</td>\n",
              "      <td>10.4403</td>\n",
              "      <td>9.2195</td>\n",
              "      <td>13.8924</td>\n",
              "    </tr>\n",
              "    <tr>\n",
              "      <th>...</th>\n",
              "      <td>...</td>\n",
              "      <td>...</td>\n",
              "      <td>...</td>\n",
              "      <td>...</td>\n",
              "      <td>...</td>\n",
              "      <td>...</td>\n",
              "      <td>...</td>\n",
              "      <td>...</td>\n",
              "      <td>...</td>\n",
              "      <td>...</td>\n",
              "      <td>...</td>\n",
              "      <td>...</td>\n",
              "      <td>...</td>\n",
              "      <td>...</td>\n",
              "      <td>...</td>\n",
              "      <td>...</td>\n",
              "      <td>...</td>\n",
              "      <td>...</td>\n",
              "      <td>...</td>\n",
              "      <td>...</td>\n",
              "      <td>...</td>\n",
              "      <td>...</td>\n",
              "      <td>...</td>\n",
              "    </tr>\n",
              "    <tr>\n",
              "      <th>82</th>\n",
              "      <td>3</td>\n",
              "      <td>2.2361</td>\n",
              "      <td>10.7703</td>\n",
              "      <td>9.2195</td>\n",
              "      <td>9.8995</td>\n",
              "      <td>12.0416</td>\n",
              "      <td>11.6619</td>\n",
              "      <td>12.7279</td>\n",
              "      <td>11.6619</td>\n",
              "      <td>14.4222</td>\n",
              "      <td>12.0830</td>\n",
              "      <td>12.6491</td>\n",
              "      <td>12.5300</td>\n",
              "      <td>15.2315</td>\n",
              "      <td>18.7883</td>\n",
              "      <td>30.2655</td>\n",
              "      <td>44.0114</td>\n",
              "      <td>55.0818</td>\n",
              "      <td>47.0956</td>\n",
              "      <td>29.0000</td>\n",
              "      <td>11.4018</td>\n",
              "      <td>11.1803</td>\n",
              "      <td>14.3178</td>\n",
              "    </tr>\n",
              "    <tr>\n",
              "      <th>83</th>\n",
              "      <td>3</td>\n",
              "      <td>9.8489</td>\n",
              "      <td>16.1555</td>\n",
              "      <td>13.4536</td>\n",
              "      <td>16.4012</td>\n",
              "      <td>13.0384</td>\n",
              "      <td>7.2111</td>\n",
              "      <td>6.3246</td>\n",
              "      <td>6.4031</td>\n",
              "      <td>7.0711</td>\n",
              "      <td>7.8102</td>\n",
              "      <td>6.4031</td>\n",
              "      <td>4.1231</td>\n",
              "      <td>11.3137</td>\n",
              "      <td>9.4340</td>\n",
              "      <td>23.7697</td>\n",
              "      <td>33.0000</td>\n",
              "      <td>46.0977</td>\n",
              "      <td>34.1321</td>\n",
              "      <td>20.0998</td>\n",
              "      <td>4.4721</td>\n",
              "      <td>7.8102</td>\n",
              "      <td>9.0000</td>\n",
              "    </tr>\n",
              "    <tr>\n",
              "      <th>84</th>\n",
              "      <td>3</td>\n",
              "      <td>5.3852</td>\n",
              "      <td>11.4018</td>\n",
              "      <td>12.2066</td>\n",
              "      <td>11.4018</td>\n",
              "      <td>6.4031</td>\n",
              "      <td>8.6023</td>\n",
              "      <td>12.2066</td>\n",
              "      <td>9.8995</td>\n",
              "      <td>12.0416</td>\n",
              "      <td>11.1803</td>\n",
              "      <td>12.0416</td>\n",
              "      <td>8.6023</td>\n",
              "      <td>16.5529</td>\n",
              "      <td>15.2315</td>\n",
              "      <td>26.6833</td>\n",
              "      <td>39.0128</td>\n",
              "      <td>52.0384</td>\n",
              "      <td>41.0122</td>\n",
              "      <td>27.0185</td>\n",
              "      <td>7.2801</td>\n",
              "      <td>10.0000</td>\n",
              "      <td>10.1980</td>\n",
              "    </tr>\n",
              "    <tr>\n",
              "      <th>85</th>\n",
              "      <td>3</td>\n",
              "      <td>10.0499</td>\n",
              "      <td>13.0000</td>\n",
              "      <td>13.3417</td>\n",
              "      <td>17.4642</td>\n",
              "      <td>7.8102</td>\n",
              "      <td>5.0000</td>\n",
              "      <td>3.1623</td>\n",
              "      <td>5.0990</td>\n",
              "      <td>3.6056</td>\n",
              "      <td>6.4031</td>\n",
              "      <td>5.8310</td>\n",
              "      <td>2.2361</td>\n",
              "      <td>7.2801</td>\n",
              "      <td>2.2361</td>\n",
              "      <td>8.2462</td>\n",
              "      <td>18.1108</td>\n",
              "      <td>24.0000</td>\n",
              "      <td>18.0278</td>\n",
              "      <td>6.3246</td>\n",
              "      <td>5.3852</td>\n",
              "      <td>5.0990</td>\n",
              "      <td>2.0000</td>\n",
              "    </tr>\n",
              "    <tr>\n",
              "      <th>86</th>\n",
              "      <td>3</td>\n",
              "      <td>12.0416</td>\n",
              "      <td>15.5242</td>\n",
              "      <td>13.9284</td>\n",
              "      <td>18.0278</td>\n",
              "      <td>6.7082</td>\n",
              "      <td>6.0828</td>\n",
              "      <td>3.1623</td>\n",
              "      <td>5.0990</td>\n",
              "      <td>3.1623</td>\n",
              "      <td>6.4031</td>\n",
              "      <td>6.4031</td>\n",
              "      <td>2.2361</td>\n",
              "      <td>6.0828</td>\n",
              "      <td>2.2361</td>\n",
              "      <td>8.9443</td>\n",
              "      <td>23.0217</td>\n",
              "      <td>32.0156</td>\n",
              "      <td>24.0208</td>\n",
              "      <td>8.9443</td>\n",
              "      <td>6.4031</td>\n",
              "      <td>5.0000</td>\n",
              "      <td>2.0000</td>\n",
              "    </tr>\n",
              "  </tbody>\n",
              "</table>\n",
              "<p>87 rows × 23 columns</p>\n",
              "</div>"
            ],
            "text/plain": [
              "    Y       X0       X1       X2  ...      X18      X19      X20      X21\n",
              "0   1   4.1231   2.8284   6.0828  ...   4.1231  14.8661  14.0000  15.2315\n",
              "1   1   6.3246   5.0000   7.6158  ...   4.1231  17.7200  16.0312  19.7231\n",
              "2   1   5.6569   5.6569   8.5440  ...   6.3246  20.5913  17.4642  18.9737\n",
              "3   1  12.0416  13.3417   8.9443  ...   8.9443  10.1980   7.6158  13.0384\n",
              "4   1  10.0000  14.1421  13.6015  ...   8.6023  10.4403   9.2195  13.8924\n",
              ".. ..      ...      ...      ...  ...      ...      ...      ...      ...\n",
              "82  3   2.2361  10.7703   9.2195  ...  29.0000  11.4018  11.1803  14.3178\n",
              "83  3   9.8489  16.1555  13.4536  ...  20.0998   4.4721   7.8102   9.0000\n",
              "84  3   5.3852  11.4018  12.2066  ...  27.0185   7.2801  10.0000  10.1980\n",
              "85  3  10.0499  13.0000  13.3417  ...   6.3246   5.3852   5.0990   2.0000\n",
              "86  3  12.0416  15.5242  13.9284  ...   8.9443   6.4031   5.0000   2.0000\n",
              "\n",
              "[87 rows x 23 columns]"
            ]
          },
          "metadata": {},
          "execution_count": 94
        }
      ]
    },
    {
      "cell_type": "markdown",
      "metadata": {
        "id": "eqKL3QQhTRsa"
      },
      "source": [
        "### 2.EDA"
      ]
    },
    {
      "cell_type": "code",
      "metadata": {
        "colab": {
          "base_uri": "https://localhost:8080/",
          "height": 314
        },
        "id": "e9LtECrbBauo",
        "outputId": "b2e2528a-7456-4259-e8de-24683dc0da5d"
      },
      "source": [
        "facial.describe()"
      ],
      "execution_count": 62,
      "outputs": [
        {
          "output_type": "execute_result",
          "data": {
            "text/html": [
              "<div>\n",
              "<style scoped>\n",
              "    .dataframe tbody tr th:only-of-type {\n",
              "        vertical-align: middle;\n",
              "    }\n",
              "\n",
              "    .dataframe tbody tr th {\n",
              "        vertical-align: top;\n",
              "    }\n",
              "\n",
              "    .dataframe thead th {\n",
              "        text-align: right;\n",
              "    }\n",
              "</style>\n",
              "<table border=\"1\" class=\"dataframe\">\n",
              "  <thead>\n",
              "    <tr style=\"text-align: right;\">\n",
              "      <th></th>\n",
              "      <th>Y</th>\n",
              "      <th>X0</th>\n",
              "      <th>X1</th>\n",
              "      <th>X2</th>\n",
              "      <th>X3</th>\n",
              "      <th>X4</th>\n",
              "      <th>X5</th>\n",
              "      <th>X6</th>\n",
              "      <th>X7</th>\n",
              "      <th>X8</th>\n",
              "      <th>X9</th>\n",
              "      <th>X10</th>\n",
              "      <th>X11</th>\n",
              "      <th>X12</th>\n",
              "      <th>X13</th>\n",
              "      <th>X14</th>\n",
              "      <th>X15</th>\n",
              "      <th>X16</th>\n",
              "      <th>X17</th>\n",
              "      <th>X18</th>\n",
              "      <th>X19</th>\n",
              "      <th>X20</th>\n",
              "      <th>X21</th>\n",
              "    </tr>\n",
              "  </thead>\n",
              "  <tbody>\n",
              "    <tr>\n",
              "      <th>count</th>\n",
              "      <td>87.00000</td>\n",
              "      <td>87.000000</td>\n",
              "      <td>87.000000</td>\n",
              "      <td>87.000000</td>\n",
              "      <td>87.000000</td>\n",
              "      <td>87.000000</td>\n",
              "      <td>87.000000</td>\n",
              "      <td>87.000000</td>\n",
              "      <td>87.000000</td>\n",
              "      <td>87.000000</td>\n",
              "      <td>87.000000</td>\n",
              "      <td>87.000000</td>\n",
              "      <td>87.000000</td>\n",
              "      <td>87.000000</td>\n",
              "      <td>87.000000</td>\n",
              "      <td>87.000000</td>\n",
              "      <td>87.000000</td>\n",
              "      <td>87.000000</td>\n",
              "      <td>87.000000</td>\n",
              "      <td>87.000000</td>\n",
              "      <td>87.000000</td>\n",
              "      <td>87.000000</td>\n",
              "      <td>87.000000</td>\n",
              "    </tr>\n",
              "    <tr>\n",
              "      <th>mean</th>\n",
              "      <td>2.00000</td>\n",
              "      <td>8.483087</td>\n",
              "      <td>10.247121</td>\n",
              "      <td>10.274905</td>\n",
              "      <td>10.636085</td>\n",
              "      <td>5.605470</td>\n",
              "      <td>4.713333</td>\n",
              "      <td>5.513524</td>\n",
              "      <td>5.141545</td>\n",
              "      <td>4.906726</td>\n",
              "      <td>5.160431</td>\n",
              "      <td>5.284410</td>\n",
              "      <td>5.538985</td>\n",
              "      <td>7.738580</td>\n",
              "      <td>7.626924</td>\n",
              "      <td>13.161087</td>\n",
              "      <td>17.266584</td>\n",
              "      <td>20.520015</td>\n",
              "      <td>17.246136</td>\n",
              "      <td>13.738169</td>\n",
              "      <td>9.934930</td>\n",
              "      <td>8.759992</td>\n",
              "      <td>10.173441</td>\n",
              "    </tr>\n",
              "    <tr>\n",
              "      <th>std</th>\n",
              "      <td>0.82123</td>\n",
              "      <td>6.938463</td>\n",
              "      <td>7.531868</td>\n",
              "      <td>7.968037</td>\n",
              "      <td>8.441328</td>\n",
              "      <td>3.660518</td>\n",
              "      <td>3.658772</td>\n",
              "      <td>3.912258</td>\n",
              "      <td>3.527501</td>\n",
              "      <td>4.012182</td>\n",
              "      <td>3.797473</td>\n",
              "      <td>3.866263</td>\n",
              "      <td>4.512017</td>\n",
              "      <td>4.428974</td>\n",
              "      <td>4.797308</td>\n",
              "      <td>7.096800</td>\n",
              "      <td>12.710225</td>\n",
              "      <td>18.933429</td>\n",
              "      <td>13.425790</td>\n",
              "      <td>6.836856</td>\n",
              "      <td>5.156688</td>\n",
              "      <td>4.514630</td>\n",
              "      <td>5.129261</td>\n",
              "    </tr>\n",
              "    <tr>\n",
              "      <th>min</th>\n",
              "      <td>1.00000</td>\n",
              "      <td>0.000000</td>\n",
              "      <td>0.000000</td>\n",
              "      <td>1.000000</td>\n",
              "      <td>1.000000</td>\n",
              "      <td>1.000000</td>\n",
              "      <td>0.000000</td>\n",
              "      <td>1.000000</td>\n",
              "      <td>0.000000</td>\n",
              "      <td>0.000000</td>\n",
              "      <td>1.000000</td>\n",
              "      <td>0.000000</td>\n",
              "      <td>0.000000</td>\n",
              "      <td>0.000000</td>\n",
              "      <td>1.000000</td>\n",
              "      <td>1.414200</td>\n",
              "      <td>0.000000</td>\n",
              "      <td>0.000000</td>\n",
              "      <td>2.000000</td>\n",
              "      <td>4.123100</td>\n",
              "      <td>1.414200</td>\n",
              "      <td>1.000000</td>\n",
              "      <td>2.000000</td>\n",
              "    </tr>\n",
              "    <tr>\n",
              "      <th>25%</th>\n",
              "      <td>1.00000</td>\n",
              "      <td>3.605600</td>\n",
              "      <td>4.736050</td>\n",
              "      <td>5.000000</td>\n",
              "      <td>4.736050</td>\n",
              "      <td>3.000000</td>\n",
              "      <td>2.236100</td>\n",
              "      <td>3.162300</td>\n",
              "      <td>3.000000</td>\n",
              "      <td>2.236100</td>\n",
              "      <td>2.914200</td>\n",
              "      <td>2.236100</td>\n",
              "      <td>2.236100</td>\n",
              "      <td>4.357350</td>\n",
              "      <td>3.162300</td>\n",
              "      <td>7.615800</td>\n",
              "      <td>8.543800</td>\n",
              "      <td>7.440650</td>\n",
              "      <td>8.573150</td>\n",
              "      <td>7.839050</td>\n",
              "      <td>6.082800</td>\n",
              "      <td>5.099000</td>\n",
              "      <td>5.956900</td>\n",
              "    </tr>\n",
              "    <tr>\n",
              "      <th>50%</th>\n",
              "      <td>2.00000</td>\n",
              "      <td>7.071100</td>\n",
              "      <td>7.810200</td>\n",
              "      <td>8.062300</td>\n",
              "      <td>7.615800</td>\n",
              "      <td>5.000000</td>\n",
              "      <td>4.123100</td>\n",
              "      <td>5.000000</td>\n",
              "      <td>4.242600</td>\n",
              "      <td>4.123100</td>\n",
              "      <td>4.242600</td>\n",
              "      <td>4.242600</td>\n",
              "      <td>4.123100</td>\n",
              "      <td>7.071100</td>\n",
              "      <td>7.071100</td>\n",
              "      <td>12.165500</td>\n",
              "      <td>13.601500</td>\n",
              "      <td>12.165500</td>\n",
              "      <td>11.704700</td>\n",
              "      <td>12.206600</td>\n",
              "      <td>9.219500</td>\n",
              "      <td>7.810200</td>\n",
              "      <td>9.486800</td>\n",
              "    </tr>\n",
              "    <tr>\n",
              "      <th>75%</th>\n",
              "      <td>3.00000</td>\n",
              "      <td>12.041600</td>\n",
              "      <td>14.229950</td>\n",
              "      <td>13.379050</td>\n",
              "      <td>15.264300</td>\n",
              "      <td>7.071100</td>\n",
              "      <td>5.385200</td>\n",
              "      <td>6.708200</td>\n",
              "      <td>6.082800</td>\n",
              "      <td>5.521050</td>\n",
              "      <td>6.082800</td>\n",
              "      <td>7.071100</td>\n",
              "      <td>7.413450</td>\n",
              "      <td>10.408350</td>\n",
              "      <td>9.667850</td>\n",
              "      <td>15.967950</td>\n",
              "      <td>21.861450</td>\n",
              "      <td>28.547750</td>\n",
              "      <td>21.628100</td>\n",
              "      <td>19.170200</td>\n",
              "      <td>13.800750</td>\n",
              "      <td>12.287950</td>\n",
              "      <td>14.017250</td>\n",
              "    </tr>\n",
              "    <tr>\n",
              "      <th>max</th>\n",
              "      <td>3.00000</td>\n",
              "      <td>35.128300</td>\n",
              "      <td>36.013900</td>\n",
              "      <td>40.162200</td>\n",
              "      <td>40.025000</td>\n",
              "      <td>18.439100</td>\n",
              "      <td>18.439100</td>\n",
              "      <td>20.396100</td>\n",
              "      <td>19.924900</td>\n",
              "      <td>19.646900</td>\n",
              "      <td>20.099800</td>\n",
              "      <td>18.110800</td>\n",
              "      <td>24.515300</td>\n",
              "      <td>18.439100</td>\n",
              "      <td>20.248500</td>\n",
              "      <td>30.265500</td>\n",
              "      <td>53.084800</td>\n",
              "      <td>64.124900</td>\n",
              "      <td>51.088200</td>\n",
              "      <td>29.000000</td>\n",
              "      <td>20.591300</td>\n",
              "      <td>21.587000</td>\n",
              "      <td>21.587000</td>\n",
              "    </tr>\n",
              "  </tbody>\n",
              "</table>\n",
              "</div>"
            ],
            "text/plain": [
              "              Y         X0         X1  ...        X19        X20        X21\n",
              "count  87.00000  87.000000  87.000000  ...  87.000000  87.000000  87.000000\n",
              "mean    2.00000   8.483087  10.247121  ...   9.934930   8.759992  10.173441\n",
              "std     0.82123   6.938463   7.531868  ...   5.156688   4.514630   5.129261\n",
              "min     1.00000   0.000000   0.000000  ...   1.414200   1.000000   2.000000\n",
              "25%     1.00000   3.605600   4.736050  ...   6.082800   5.099000   5.956900\n",
              "50%     2.00000   7.071100   7.810200  ...   9.219500   7.810200   9.486800\n",
              "75%     3.00000  12.041600  14.229950  ...  13.800750  12.287950  14.017250\n",
              "max     3.00000  35.128300  36.013900  ...  20.591300  21.587000  21.587000\n",
              "\n",
              "[8 rows x 23 columns]"
            ]
          },
          "metadata": {},
          "execution_count": 62
        }
      ]
    },
    {
      "cell_type": "code",
      "metadata": {
        "colab": {
          "base_uri": "https://localhost:8080/"
        },
        "id": "jUpc5zlTVF9D",
        "outputId": "4da13395-9051-4cf9-b72e-4a58b5908f2a"
      },
      "source": [
        "facial.info()  #결측치 확인"
      ],
      "execution_count": 96,
      "outputs": [
        {
          "output_type": "stream",
          "name": "stdout",
          "text": [
            "<class 'pandas.core.frame.DataFrame'>\n",
            "RangeIndex: 87 entries, 0 to 86\n",
            "Data columns (total 23 columns):\n",
            " #   Column  Non-Null Count  Dtype  \n",
            "---  ------  --------------  -----  \n",
            " 0   Y       87 non-null     int64  \n",
            " 1   X0      87 non-null     float64\n",
            " 2   X1      87 non-null     float64\n",
            " 3   X2      87 non-null     float64\n",
            " 4   X3      87 non-null     float64\n",
            " 5   X4      87 non-null     float64\n",
            " 6   X5      87 non-null     float64\n",
            " 7   X6      87 non-null     float64\n",
            " 8   X7      87 non-null     float64\n",
            " 9   X8      87 non-null     float64\n",
            " 10  X9      87 non-null     float64\n",
            " 11  X10     87 non-null     float64\n",
            " 12  X11     87 non-null     float64\n",
            " 13  X12     87 non-null     float64\n",
            " 14  X13     87 non-null     float64\n",
            " 15  X14     87 non-null     float64\n",
            " 16  X15     87 non-null     float64\n",
            " 17  X16     87 non-null     float64\n",
            " 18  X17     87 non-null     float64\n",
            " 19  X18     87 non-null     float64\n",
            " 20  X19     87 non-null     float64\n",
            " 21  X20     87 non-null     float64\n",
            " 22  X21     87 non-null     float64\n",
            "dtypes: float64(22), int64(1)\n",
            "memory usage: 15.8 KB\n"
          ]
        }
      ]
    },
    {
      "cell_type": "code",
      "metadata": {
        "colab": {
          "base_uri": "https://localhost:8080/"
        },
        "id": "ACToSy55LdMO",
        "outputId": "773cfbcb-59ba-4351-b409-ca2d2c9c1281"
      },
      "source": [
        "facial.Y.value_counts() # 값의 범위 확인"
      ],
      "execution_count": 60,
      "outputs": [
        {
          "output_type": "execute_result",
          "data": {
            "text/plain": [
              "3    29\n",
              "2    29\n",
              "1    29\n",
              "Name: Y, dtype: int64"
            ]
          },
          "metadata": {},
          "execution_count": 60
        }
      ]
    },
    {
      "cell_type": "markdown",
      "metadata": {
        "id": "dnFL4QpZhXhO"
      },
      "source": [
        "> Data를 확인한 결과 결측치, Outlier등 데이터에 특이 사항은 없어 보임"
      ]
    },
    {
      "cell_type": "code",
      "metadata": {
        "colab": {
          "base_uri": "https://localhost:8080/",
          "height": 878
        },
        "id": "sy45kt3NVgZg",
        "outputId": "0717f98a-951f-45c0-8e5e-a7f3f57f0e94"
      },
      "source": [
        "_=facial.hist(bins=50, figsize=(20,15))"
      ],
      "execution_count": 63,
      "outputs": [
        {
          "output_type": "display_data",
          "data": {
            "image/png": "[encoded data removed]",
            "text/plain": [
              "<Figure size 1440x1080 with 25 Axes>"
            ]
          },
          "metadata": {
            "needs_background": "light"
          }
        }
      ]
    },
    {
      "cell_type": "markdown",
      "metadata": {
        "id": "rV1neqW4CSE3"
      },
      "source": [
        "### 3.Preprocessing"
      ]
    },
    {
      "cell_type": "markdown",
      "metadata": {
        "id": "jhvrabQsB7P4"
      },
      "source": [
        "#### 1) Split train/test"
      ]
    },
    {
      "cell_type": "code",
      "metadata": {
        "id": "pFyB5EWnVdXn"
      },
      "source": [
        "from sklearn.model_selection import train_test_split\n",
        "from keras.utils import np_utils\n",
        "from sklearn.preprocessing import StandardScaler\n",
        "from sklearn.preprocessing import OneHotEncoder"
      ],
      "execution_count": 64,
      "outputs": []
    },
    {
      "cell_type": "code",
      "metadata": {
        "id": "-U7VtuZ4WOPM"
      },
      "source": [
        "facial = load_facial_data(data_path)\n",
        "train_set, test_set = train_test_split(facial, test_size=0.2, random_state=2)\n",
        "X_train = train_set.drop(['Y'], axis=1)\n",
        "Y_train = np.array(train_set.Y.copy())\n",
        "X_test = test_set.drop(['Y'], axis=1)\n",
        "Y_test = np.array(test_set.Y.copy())"
      ],
      "execution_count": 65,
      "outputs": []
    },
    {
      "cell_type": "markdown",
      "metadata": {
        "id": "Ps5TXlhjB68w"
      },
      "source": [
        "#### 2) Y label Onehot Encoding"
      ]
    },
    {
      "cell_type": "code",
      "metadata": {
        "id": "D2qpmUC6YI0-"
      },
      "source": [
        "oe=OneHotEncoder(sparse=False)\n",
        "Y_train = oe.fit_transform(np.array(Y_train).reshape(-1,1))\n",
        "Y_test = oe.fit_transform(np.array(Y_test).reshape(-1,1))"
      ],
      "execution_count": 66,
      "outputs": []
    },
    {
      "cell_type": "code",
      "metadata": {
        "colab": {
          "base_uri": "https://localhost:8080/"
        },
        "id": "fArEjqbOV4X-",
        "outputId": "a7205039-be8c-4eeb-be12-439822871147"
      },
      "source": [
        "np.c_[Y_test[:10],Y_test_oe[:10]]"
      ],
      "execution_count": 67,
      "outputs": [
        {
          "output_type": "execute_result",
          "data": {
            "text/plain": [
              "array([[2., 0., 1., 0.],\n",
              "       [2., 0., 1., 0.],\n",
              "       [3., 0., 0., 1.],\n",
              "       [1., 1., 0., 0.],\n",
              "       [1., 1., 0., 0.],\n",
              "       [1., 1., 0., 0.],\n",
              "       [2., 0., 1., 0.],\n",
              "       [3., 0., 0., 1.],\n",
              "       [2., 0., 1., 0.],\n",
              "       [3., 0., 0., 1.]])"
            ]
          },
          "metadata": {},
          "execution_count": 67
        }
      ]
    },
    {
      "cell_type": "code",
      "metadata": {
        "colab": {
          "base_uri": "https://localhost:8080/"
        },
        "id": "JiarqO3zlMGE",
        "outputId": "625ec0de-6fbc-48a3-bce0-a084e1f79db7"
      },
      "source": [
        "# inverse value 확인\n",
        "oe.inverse_transform(Y_train_oe).reshape(-1)"
      ],
      "execution_count": 68,
      "outputs": [
        {
          "output_type": "execute_result",
          "data": {
            "text/plain": [
              "array([3, 1, 1, 3, 3, 3, 2, 3, 3, 3, 2, 3, 1, 2, 2, 3, 3, 2, 2, 2, 2, 1,\n",
              "       3, 1, 2, 2, 3, 1, 3, 3, 1, 3, 1, 3, 1, 1, 2, 1, 3, 1, 2, 3, 1, 1,\n",
              "       1, 3, 3, 2, 2, 2, 2, 1, 3, 2, 2, 1, 2, 3, 2, 3, 2, 2, 1, 3, 2, 1,\n",
              "       3, 1, 2])"
            ]
          },
          "metadata": {},
          "execution_count": 68
        }
      ]
    },
    {
      "cell_type": "markdown",
      "metadata": {
        "id": "XWw_DyTkCb-5"
      },
      "source": [
        "#### 3) Standardization"
      ]
    },
    {
      "cell_type": "code",
      "metadata": {
        "id": "CX-XB8PgVZAR"
      },
      "source": [
        "from sklearn.preprocessing import StandardScaler\n",
        "\n",
        "std = StandardScaler()\n",
        "X_train_prepared = std.fit_transform(X_train)\n",
        "X_test_prepared = std.fit_transform(X_test)"
      ],
      "execution_count": 69,
      "outputs": []
    },
    {
      "cell_type": "markdown",
      "metadata": {
        "id": "dpWtrca8cJbn"
      },
      "source": [
        "## 2.Model"
      ]
    },
    {
      "cell_type": "code",
      "metadata": {
        "id": "M9M8cY92i4Kx"
      },
      "source": [
        "from sklearn.metrics import accuracy_score, confusion_matrix, mean_squared_error\n",
        "from sklearn.metrics import precision_score, recall_score, f1_score\n",
        "from sklearn.model_selection import cross_val_score\n",
        "\n",
        "class Metric():\n",
        "    def __init__(self,average=None):\n",
        "        print('# model result...\\n') \n",
        "        pass\n",
        "    \n",
        "    def confusion_metric(self, y, y_pred):\n",
        "        print('confustion_matrix : \\n',confusion_matrix(y, y_pred),'\\n')\n",
        "\n",
        "    def metric(self, y, y_pred):\n",
        "\n",
        "        a_score=accuracy_score(y, y_pred)\n",
        "        p_score=precision_score(y, y_pred, average=average)\n",
        "        r_score=recall_score(y, y_pred, average=average)\n",
        "        f_score=f1_score(y, y_pred, average=average)\n",
        "        print('accuracy  :', p_score,'\\n', \n",
        "              '\\bprecision :', p_score,'\\n', \n",
        "              '\\brecall    :', r_score,'\\n\\n',\n",
        "              '\\bf1_score  :', f_score,'\\n')\n",
        "        \n",
        "def mse(y,y_hat):\n",
        "  return np.sqrt(mean_squared_error(y,y_hat))\n",
        "\n",
        "def cross_val(model, y, y_hat):\n",
        "  return np.sqrt(-cross_val_score(model, y, y_hat, scoring=\"accuracy\", cv=5))\n",
        "\n",
        "def display_scores(scores):\n",
        "    print(\"Scores :\", scores)\n",
        "    print(\"Mean :\", scores.mean())\n",
        "    print(\"Standard deviation:\", scores.std())"
      ],
      "execution_count": 70,
      "outputs": []
    },
    {
      "cell_type": "code",
      "metadata": {
        "id": "DKcSvihXGanK"
      },
      "source": [
        "# Model package.module import\n",
        "from keras.optimizers import rmsprop_v2 \n",
        "from sklearn.model_selection import RepeatedKFold\n",
        "from sklearn.preprocessing import StandardScaler\n",
        "# bootstrap\n",
        "from sklearn.utils import resample\n",
        "# metrics\n",
        "from sklearn.metrics import accuracy_score, confusion_matrix\n",
        "\n",
        "\n",
        "# train/test split\n",
        "def make_train_test(df, sp_sizpe, type=None):\n",
        "    train_set, test_set = train_test_split(facial, test_size=sp_sizpe, random_state=2)\n",
        "    X_train = train_set.drop(['Y'], axis=1)\n",
        "    Y_train = train_set.Y.copy()\n",
        "    X_test = test_set.drop(['Y'], axis=1)\n",
        "    Y_test = test_set.Y.copy()\n",
        "\n",
        "    if type == None :\n",
        "\n",
        "      #onehot encoding\n",
        "      oe=OneHotEncoder(sparse=False)\n",
        "      Y_train = oe.fit_transform(np.array(Y_train).reshape(-1,1))\n",
        "      Y_test = oe.fit_transform(np.array(Y_test).reshape(-1,1))\n",
        "\n",
        "    return X_train, Y_train, X_test, Y_test\n",
        "\n",
        "def make_test(df):\n",
        "    X_test = df.drop(['Y'], axis=1)\n",
        "    Y_test = df.Y.copy()\n",
        "\n",
        "    #onehot encoding\n",
        "    oe=OneHotEncoder(sparse=False)\n",
        "    Y_test = oe.fit_transform(np.array(Y_test).reshape(-1,1))\n",
        "\n",
        "    return X_test, Y_test\n",
        "\n",
        "def standardization(X):\n",
        "\n",
        "    std = StandardScaler()\n",
        "    x_std = std.fit_transform(X)\n",
        "    return x_std\n",
        "\n",
        "def inverse_trans(y):\n",
        "    '''\n",
        "    : onehot covert to label\n",
        "    '''\n",
        "    return oe.inverse_transform(y).reshape(-1)"
      ],
      "execution_count": 71,
      "outputs": []
    },
    {
      "cell_type": "markdown",
      "metadata": {
        "id": "24LkggbZC6hA"
      },
      "source": [
        "### 1.SDGRegressor"
      ]
    },
    {
      "cell_type": "markdown",
      "metadata": {
        "id": "1mbWIh-eOQCS"
      },
      "source": [
        "##### (1) Model Training, Grid Search"
      ]
    },
    {
      "cell_type": "code",
      "metadata": {
        "colab": {
          "base_uri": "https://localhost:8080/"
        },
        "id": "YCUkcx3mZMO8",
        "outputId": "144acbed-470b-46b0-dff6-d71dd0a78708"
      },
      "source": [
        "from sklearn.linear_model import SGDClassifier\n",
        "\n",
        "# data load\n",
        "facial = load_facial_data(data_path)\n",
        "facial = resample(facial,n_samples=500).reset_index(drop=True) #bootstrap\n",
        "# spilt train/test & onehot y\n",
        "X_train, Y_train, X_test, Y_test = make_train_test(facial,0.2,1)\n",
        "print(X_train.shape, Y_train.shape,X_test.shape,Y_test.shape)\n",
        "# starndadization\n",
        "std = StandardScaler()\n",
        "X_train_prepared = std.fit_transform(X_train)\n",
        "X_test_prepared = std.fit_transform(X_test)\n",
        "\n",
        "#model run\n",
        "sgd_clf = SGDClassifier(max_iter=1000, tol=1e-3, random_state=42)\n",
        "sgd_clf.fit(X_train_prepared,Y_train)"
      ],
      "execution_count": 72,
      "outputs": [
        {
          "output_type": "stream",
          "name": "stdout",
          "text": [
            "(400, 22) (400,) (100, 22) (100,)\n"
          ]
        },
        {
          "output_type": "execute_result",
          "data": {
            "text/plain": [
              "SGDClassifier(alpha=0.0001, average=False, class_weight=None,\n",
              "              early_stopping=False, epsilon=0.1, eta0=0.0, fit_intercept=True,\n",
              "              l1_ratio=0.15, learning_rate='optimal', loss='hinge',\n",
              "              max_iter=1000, n_iter_no_change=5, n_jobs=None, penalty='l2',\n",
              "              power_t=0.5, random_state=42, shuffle=True, tol=0.001,\n",
              "              validation_fraction=0.1, verbose=0, warm_start=False)"
            ]
          },
          "metadata": {},
          "execution_count": 72
        }
      ]
    },
    {
      "cell_type": "code",
      "metadata": {
        "colab": {
          "base_uri": "https://localhost:8080/"
        },
        "id": "Xz1o2uRQbKtc",
        "outputId": "0fedc54e-5295-4125-f209-2a878e1b936f"
      },
      "source": [
        "# cross validataion\n",
        "from sklearn.model_selection import cross_val_score\n",
        "cross_val_score(sgd_clf,X_train_prepared,Y_train, cv=3, scoring=\"accuracy\")"
      ],
      "execution_count": 73,
      "outputs": [
        {
          "output_type": "execute_result",
          "data": {
            "text/plain": [
              "array([1., 1., 1.])"
            ]
          },
          "metadata": {},
          "execution_count": 73
        }
      ]
    },
    {
      "cell_type": "code",
      "metadata": {
        "id": "dDMlfS7KhaBv"
      },
      "source": [
        "# prediction\n",
        "from sklearn.model_selection import cross_val_predict\n",
        "y_train_pred = cross_val_predict(sgd_clf, X_train_prepared, Y_train, cv=3)"
      ],
      "execution_count": 74,
      "outputs": []
    },
    {
      "cell_type": "markdown",
      "metadata": {
        "id": "hu7CitCMObj5"
      },
      "source": [
        "##### (2) Scores(CF,ACC, PRE, REC, F1)"
      ]
    },
    {
      "cell_type": "code",
      "metadata": {
        "colab": {
          "base_uri": "https://localhost:8080/"
        },
        "id": "FPLQgRsThsBv",
        "outputId": "23d098eb-7ae3-4203-8ba5-e0884d7ab24c"
      },
      "source": [
        "# train\n",
        "average=\"macro\"\n",
        "metric = Metric(average)\n",
        "metric.confusion_metric(Y_train, y_train_pred)\n",
        "## precision, recall, f1 scores\n",
        "metric.metric(Y_train, y_train_pred)"
      ],
      "execution_count": 75,
      "outputs": [
        {
          "output_type": "stream",
          "name": "stdout",
          "text": [
            "# model result...\n",
            "\n",
            "confustion_matrix : \n",
            " [[158   0   0]\n",
            " [  0 126   0]\n",
            " [  0   0 116]] \n",
            "\n",
            "accuracy  : 1.0 \n",
            " \bprecision : 1.0 \n",
            " \brecall    : 1.0 \n",
            "\n",
            " \bf1_score  : 1.0 \n",
            "\n"
          ]
        }
      ]
    },
    {
      "cell_type": "code",
      "metadata": {
        "colab": {
          "base_uri": "https://localhost:8080/"
        },
        "id": "s6_lE6XYszzf",
        "outputId": "0120289d-b7a0-4cbd-f7a4-0598f7fbb76f"
      },
      "source": [
        "# Test set \n",
        "y_test_pred = sgd_clf.predict(X_test_prepared)\n",
        "metric.confusion_metric(Y_test, y_test_pred)\n",
        "metric.metric(Y_test, y_test_pred)"
      ],
      "execution_count": 76,
      "outputs": [
        {
          "output_type": "stream",
          "name": "stdout",
          "text": [
            "confustion_matrix : \n",
            " [[36  0  0]\n",
            " [ 0 36  0]\n",
            " [ 0  0 28]] \n",
            "\n",
            "accuracy  : 1.0 \n",
            " \bprecision : 1.0 \n",
            " \brecall    : 1.0 \n",
            "\n",
            " \bf1_score  : 1.0 \n",
            "\n"
          ]
        }
      ]
    },
    {
      "cell_type": "markdown",
      "metadata": {
        "id": "bP8AeUKCBKSf"
      },
      "source": [
        "### 2.Randomforest"
      ]
    },
    {
      "cell_type": "markdown",
      "metadata": {
        "id": "SbFz3OPMOBkI"
      },
      "source": [
        "##### (1) Model Training, Grid Search"
      ]
    },
    {
      "cell_type": "code",
      "metadata": {
        "colab": {
          "base_uri": "https://localhost:8080/"
        },
        "id": "3YODE62RBIZK",
        "outputId": "f552df40-3846-44f7-da72-e7113d66d42d"
      },
      "source": [
        "#Data loading, Bootstrapping\n",
        "facial = load_facial_data(data_path)\n",
        "facial = resample(facial,n_samples=500) \n",
        "# spilt train/test & onehot y\n",
        "X_train, Y_train, X_test, Y_test = make_train_test(facial,0.2)\n",
        "print(X_train.shape, Y_train.shape,X_test.shape,Y_test.shape)\n",
        "\n",
        "# starndadization\n",
        "std = StandardScaler()\n",
        "X_train_prepared = std.fit_transform(X_train)\n",
        "X_test_prepared = std.fit_transform(X_test)"
      ],
      "execution_count": 102,
      "outputs": [
        {
          "output_type": "stream",
          "name": "stdout",
          "text": [
            "(400, 22) (400, 3) (100, 22) (100, 3)\n"
          ]
        }
      ]
    },
    {
      "cell_type": "code",
      "metadata": {
        "colab": {
          "base_uri": "https://localhost:8080/"
        },
        "id": "o968PwdAEEBF",
        "outputId": "1e5a06fd-5f87-4c30-eb1e-0deb1da7b373"
      },
      "source": [
        "from sklearn.ensemble import RandomForestClassifier \n",
        "from sklearn.model_selection import GridSearchCV, RandomizedSearchCV\n",
        "\n",
        "param_grid = [\n",
        "              {'n_estimators':[3,10,30,35,40], 'max_features':[2,4,6,8,10,12]},\n",
        "              {'bootstrap':[False],'n_estimators':[3,5,10], 'max_features':[2,3,4]}\n",
        "]\n",
        "\n",
        "forest_reg = RandomForestClassifier()\n",
        "\n",
        "grid_search = GridSearchCV(forest_reg, param_grid, cv=5,\n",
        "                           scoring='accuracy',\n",
        "                           verbose=1,\n",
        "                           return_train_score=True)\n",
        "\n",
        "grid_search.fit(X_train_prepared, Y_train)"
      ],
      "execution_count": 103,
      "outputs": [
        {
          "output_type": "stream",
          "name": "stdout",
          "text": [
            "Fitting 5 folds for each of 39 candidates, totalling 195 fits\n"
          ]
        },
        {
          "output_type": "stream",
          "name": "stderr",
          "text": [
            "[Parallel(n_jobs=1)]: Using backend SequentialBackend with 1 concurrent workers.\n",
            "[Parallel(n_jobs=1)]: Done 195 out of 195 | elapsed:    7.1s finished\n"
          ]
        },
        {
          "output_type": "execute_result",
          "data": {
            "text/plain": [
              "GridSearchCV(cv=5, error_score=nan,\n",
              "             estimator=RandomForestClassifier(bootstrap=True, ccp_alpha=0.0,\n",
              "                                              class_weight=None,\n",
              "                                              criterion='gini', max_depth=None,\n",
              "                                              max_features='auto',\n",
              "                                              max_leaf_nodes=None,\n",
              "                                              max_samples=None,\n",
              "                                              min_impurity_decrease=0.0,\n",
              "                                              min_impurity_split=None,\n",
              "                                              min_samples_leaf=1,\n",
              "                                              min_samples_split=2,\n",
              "                                              min_weight_fraction_leaf=0.0,\n",
              "                                              n_estimators=100, n_jobs=None,\n",
              "                                              oob_score=False,\n",
              "                                              random_state=None, verbose=0,\n",
              "                                              warm_start=False),\n",
              "             iid='deprecated', n_jobs=None,\n",
              "             param_grid=[{'max_features': [2, 4, 6, 8, 10, 12],\n",
              "                          'n_estimators': [3, 10, 30, 35, 40]},\n",
              "                         {'bootstrap': [False], 'max_features': [2, 3, 4],\n",
              "                          'n_estimators': [3, 5, 10]}],\n",
              "             pre_dispatch='2*n_jobs', refit=True, return_train_score=True,\n",
              "             scoring='accuracy', verbose=1)"
            ]
          },
          "metadata": {},
          "execution_count": 103
        }
      ]
    },
    {
      "cell_type": "code",
      "metadata": {
        "colab": {
          "base_uri": "https://localhost:8080/"
        },
        "id": "npEa0nhZEPGE",
        "outputId": "ce323c24-7eb7-40d3-d701-14eab5595c60"
      },
      "source": [
        "for r, _ in enumerate(grid_search.cv_results_['mean_test_score']):\n",
        "    print(\"%0.3f +/- %0.3f %r\"\n",
        "          % (grid_search.cv_results_['mean_test_score'][r], \n",
        "             grid_search.cv_results_['std_test_score'][r] / 2.0, \n",
        "             grid_search.cv_results_['params'][r]))"
      ],
      "execution_count": 104,
      "outputs": [
        {
          "output_type": "stream",
          "name": "stdout",
          "text": [
            "0.997 +/- 0.002 {'max_features': 2, 'n_estimators': 3}\n",
            "1.000 +/- 0.000 {'max_features': 2, 'n_estimators': 10}\n",
            "1.000 +/- 0.000 {'max_features': 2, 'n_estimators': 30}\n",
            "1.000 +/- 0.000 {'max_features': 2, 'n_estimators': 35}\n",
            "1.000 +/- 0.000 {'max_features': 2, 'n_estimators': 40}\n",
            "1.000 +/- 0.000 {'max_features': 4, 'n_estimators': 3}\n",
            "1.000 +/- 0.000 {'max_features': 4, 'n_estimators': 10}\n",
            "1.000 +/- 0.000 {'max_features': 4, 'n_estimators': 30}\n",
            "1.000 +/- 0.000 {'max_features': 4, 'n_estimators': 35}\n",
            "1.000 +/- 0.000 {'max_features': 4, 'n_estimators': 40}\n",
            "0.993 +/- 0.007 {'max_features': 6, 'n_estimators': 3}\n",
            "1.000 +/- 0.000 {'max_features': 6, 'n_estimators': 10}\n",
            "1.000 +/- 0.000 {'max_features': 6, 'n_estimators': 30}\n",
            "1.000 +/- 0.000 {'max_features': 6, 'n_estimators': 35}\n",
            "1.000 +/- 0.000 {'max_features': 6, 'n_estimators': 40}\n",
            "0.990 +/- 0.006 {'max_features': 8, 'n_estimators': 3}\n",
            "1.000 +/- 0.000 {'max_features': 8, 'n_estimators': 10}\n",
            "1.000 +/- 0.000 {'max_features': 8, 'n_estimators': 30}\n",
            "1.000 +/- 0.000 {'max_features': 8, 'n_estimators': 35}\n",
            "1.000 +/- 0.000 {'max_features': 8, 'n_estimators': 40}\n",
            "1.000 +/- 0.000 {'max_features': 10, 'n_estimators': 3}\n",
            "1.000 +/- 0.000 {'max_features': 10, 'n_estimators': 10}\n",
            "1.000 +/- 0.000 {'max_features': 10, 'n_estimators': 30}\n",
            "1.000 +/- 0.000 {'max_features': 10, 'n_estimators': 35}\n",
            "1.000 +/- 0.000 {'max_features': 10, 'n_estimators': 40}\n",
            "1.000 +/- 0.000 {'max_features': 12, 'n_estimators': 3}\n",
            "1.000 +/- 0.000 {'max_features': 12, 'n_estimators': 10}\n",
            "1.000 +/- 0.000 {'max_features': 12, 'n_estimators': 30}\n",
            "1.000 +/- 0.000 {'max_features': 12, 'n_estimators': 35}\n",
            "1.000 +/- 0.000 {'max_features': 12, 'n_estimators': 40}\n",
            "1.000 +/- 0.000 {'bootstrap': False, 'max_features': 2, 'n_estimators': 3}\n",
            "1.000 +/- 0.000 {'bootstrap': False, 'max_features': 2, 'n_estimators': 5}\n",
            "1.000 +/- 0.000 {'bootstrap': False, 'max_features': 2, 'n_estimators': 10}\n",
            "1.000 +/- 0.000 {'bootstrap': False, 'max_features': 3, 'n_estimators': 3}\n",
            "1.000 +/- 0.000 {'bootstrap': False, 'max_features': 3, 'n_estimators': 5}\n",
            "1.000 +/- 0.000 {'bootstrap': False, 'max_features': 3, 'n_estimators': 10}\n",
            "1.000 +/- 0.000 {'bootstrap': False, 'max_features': 4, 'n_estimators': 3}\n",
            "1.000 +/- 0.000 {'bootstrap': False, 'max_features': 4, 'n_estimators': 5}\n",
            "1.000 +/- 0.000 {'bootstrap': False, 'max_features': 4, 'n_estimators': 10}\n"
          ]
        }
      ]
    },
    {
      "cell_type": "code",
      "metadata": {
        "colab": {
          "base_uri": "https://localhost:8080/"
        },
        "id": "Hm2p2AsrFJqV",
        "outputId": "618f550d-69fb-4c84-9180-9bd89c00fe0c"
      },
      "source": [
        "print(grid_search.best_params_)\n",
        "final_model = grid_search.best_estimator_"
      ],
      "execution_count": 105,
      "outputs": [
        {
          "output_type": "stream",
          "name": "stdout",
          "text": [
            "{'max_features': 2, 'n_estimators': 10}\n"
          ]
        }
      ]
    },
    {
      "cell_type": "markdown",
      "metadata": {
        "id": "1rJIFtteNy3u"
      },
      "source": [
        "##### (2) Scores(CF, ACC, PRE, REC, F1)"
      ]
    },
    {
      "cell_type": "code",
      "metadata": {
        "colab": {
          "base_uri": "https://localhost:8080/"
        },
        "id": "0uU2wHXLpHGa",
        "outputId": "5de324ff-2c74-471f-a2a4-8db3cbddeff1"
      },
      "source": [
        "from sklearn.metrics import classification_report, confusion_matrix\n",
        "\n",
        "y_test_pred = final_model.predict(X_test_prepared)\n",
        "test_rmse=mse(Y_test, y_test_pred)\n",
        "print('test rmse :',test_rmse,'\\n')\n",
        "#print(classification_report(Y_test, y_test_pred))\n",
        "\n",
        "metric = Metric(\"macro\")\n",
        "inverse_y = inverse_trans(Y_test)\n",
        "inverse_y_pred = inverse_trans(y_test_pred)\n",
        "metric.confusion_metric(inverse_y, inverse_y_pred)\n",
        "metric.metric(inverse_y, inverse_y_pred)"
      ],
      "execution_count": 106,
      "outputs": [
        {
          "output_type": "stream",
          "name": "stdout",
          "text": [
            "test rmse : 0.0 \n",
            "\n",
            "# model result...\n",
            "\n",
            "confustion_matrix : \n",
            " [[31  0  0]\n",
            " [ 0 29  0]\n",
            " [ 0  0 40]] \n",
            "\n",
            "accuracy  : 1.0 \n",
            " \bprecision : 1.0 \n",
            " \brecall    : 1.0 \n",
            "\n",
            " \bf1_score  : 1.0 \n",
            "\n"
          ]
        }
      ]
    },
    {
      "cell_type": "markdown",
      "metadata": {
        "id": "aKDdmhZRm1CD"
      },
      "source": [
        "### 3.Deep Learning"
      ]
    },
    {
      "cell_type": "markdown",
      "metadata": {
        "id": "0kLwP0SeDFNK"
      },
      "source": [
        "##### (1) Model Traing, Evaluation"
      ]
    },
    {
      "cell_type": "markdown",
      "metadata": {
        "id": "z8BzuQjbiIeN"
      },
      "source": [
        "모델 및 파라미터 구성\n",
        "- keras Deep learning 모델을 구성하여 여러 depth layer 의 구성 및 hyper parameter 를 조정하여 테스트 하였음 <br>\n",
        "- layer 를 여러층으로 구성, dense output dim 의 값을 다양하게 변경<br>\n",
        "- overfitting을 막기위해 dropout을 사용하였고, rate 를 0.1~0.5 변경 <br>"
      ]
    },
    {
      "cell_type": "code",
      "metadata": {
        "id": "1N-RcL9ym7Mk"
      },
      "source": [
        "# Model package.module import\n",
        "import keras\n",
        "from keras.models import Sequential,load_model\n",
        "import keras.layers as layers\n",
        "from keras.layers import Dense, Activation, Dropout\n",
        "from keras.callbacks import EarlyStopping\n",
        "from keras.utils import np_utils\n",
        "from keras.optimizers import rmsprop_v2 \n",
        "from sklearn.model_selection import RepeatedKFold\n",
        "from sklearn.preprocessing import StandardScaler\n",
        "# bootstrap\n",
        "from sklearn.utils import resample\n",
        "# metrics\n",
        "from sklearn.metrics import accuracy_score, confusion_matrix\n",
        "\n",
        "# model 구성\n",
        "def get_model(n_inputs, n_outputs):\n",
        "    model = Sequential()\n",
        "    model.add(Dense(20,input_dim=n_inputs))\n",
        "    model.add(Dense(3))\n",
        "    model.add(Dropout(0.2))\n",
        "    model.add(Dense(10))\n",
        "    model.add(Dropout(0.1))\n",
        "    model.add(Dense(5))\n",
        "    model.add(Dense(n_outputs, activation='softmax'))\n",
        "\n",
        "    #model compile\n",
        "    model.compile(loss='mse', optimizer='adam',metrics=['accuracy']) # adam , rmsprop = RMSprop(lr=0.01)\n",
        "    return model\n",
        "\n",
        "# evaluate a model using repeated k-fold cross-validation\n",
        "def evaluate_model_cv(X, y):\n",
        "    results = list()\n",
        "    n_inputs, n_outputs = X.shape[1], y.shape[1]\n",
        "    # define evaluation procedure\n",
        "    cv = RepeatedKFold(n_splits=10, n_repeats=3, random_state=1)\n",
        "    # enumerate folds\n",
        "    for train_ix, test_ix in cv.split(X):\n",
        "      # prepare data\n",
        "      X_train, X_test = X[train_ix], X[test_ix]\n",
        "      y_train, y_test = y[train_ix], y[test_ix]\n",
        "      # define model\n",
        "      model = get_model(n_inputs, n_outputs)\n",
        "      # fit model\n",
        "      history=model.fit(X_train, y_train, verbose=0, epochs=100)\n",
        "      # make a prediction on the test set\n",
        "      yhat = model.predict(X_test)\n",
        "      yhat=inverse_trans(yhat)\n",
        "      y_test=inverse_trans(y_test)\n",
        "      # round probabilities to class labels\n",
        "      yhat = yhat.round()#;print(yhat,y_test)\n",
        "      # calculate accuracy\n",
        "      acc = accuracy_score(y_test, yhat)\n",
        "      # store result\n",
        "      print('>%.3f' % acc)\n",
        "      results.append(acc)\n",
        "    return model, results\n",
        "\n",
        "def evaluate_model(model, X_train_prepared, Y_train, X_test_prepared, Y_test):\n",
        "\n",
        "    n_inputs, n_outputs = X_train_prepared.shape[1], Y_train.shape[1]\n",
        "    model=get_model(n_inputs, n_outputs)\n",
        "\n",
        "    # Early Stop : patience #n 회 이상 val_loss 가 변화가 없으면 중단\n",
        "    es = EarlyStopping(monitor='val_loss', patience=50, min_delta=0.01)\n",
        "    # model fit\n",
        "    history = model.fit(X_train_prepared, Y_train, batch_size=50, epochs=1000,verbose=0,\n",
        "                        validation_data=(X_test_prepared, Y_test), callbacks=[es])\n",
        "    return model, history"
      ],
      "execution_count": 82,
      "outputs": []
    },
    {
      "cell_type": "markdown",
      "metadata": {
        "id": "vUvPVq4kgHYU"
      },
      "source": [
        "◆ Original Data : n = 87"
      ]
    },
    {
      "cell_type": "code",
      "metadata": {
        "colab": {
          "base_uri": "https://localhost:8080/"
        },
        "id": "c77JmiwYgBQa",
        "outputId": "bb5dddd6-8f3f-429a-caae-79fb8d9041f6"
      },
      "source": [
        "if __name__ == '__main__':\n",
        "\n",
        "    # load data\n",
        "    facial = load_facial_data(data_path)\n",
        "    #facial = resample(facial,n_samples=500) #bootstrap\n",
        "    # spilt train/test & onehot y\n",
        "    X_train, Y_train, X_test, Y_test = make_train_test(facial,0.2)\n",
        "    print(X_train.shape, Y_train.shape,X_test.shape,Y_test.shape)\n",
        "    # starndadization\n",
        "    std = StandardScaler()\n",
        "    X_train_prepared = std.fit_transform(X_train)\n",
        "    X_test_prepared = std.fit_transform(X_test)\n",
        "    # evaluate model - cross validation for train data\n",
        "    model, results = evaluate_model_cv(X_train_prepared, Y_train)\n",
        "    # evaluate model - test data\n",
        "    model, history = evaluate_model(model, X_train_prepared, Y_train, X_test_prepared, Y_test)\n",
        "    # get model\n",
        "    #model=get_model(X_test_prepared.shape[1], Y_test.shape[1])\n",
        "\n",
        "    # summarize performance\n",
        "    print('Train Accuracy: %.3f (%.3f)' % (np.mean(results), np.std(results)))\n",
        "\n",
        "    loss, acc = model.evaluate(X_test_prepared,  Y_test, verbose=2)\n",
        "    print('Test Accuracy: %.3f loss : %.3f' % (acc, loss))"
      ],
      "execution_count": 83,
      "outputs": [
        {
          "output_type": "stream",
          "name": "stdout",
          "text": [
            "(69, 22) (69, 3) (18, 22) (18, 3)\n",
            ">0.857\n",
            ">1.000\n",
            ">0.857\n",
            ">1.000\n",
            ">1.000\n",
            ">1.000\n",
            ">0.857\n",
            ">1.000\n",
            ">1.000\n",
            ">1.000\n",
            ">1.000\n",
            ">1.000\n",
            ">1.000\n",
            ">0.857\n",
            ">1.000\n",
            ">1.000\n",
            ">1.000\n",
            ">1.000\n",
            ">1.000\n",
            ">1.000\n",
            ">1.000\n",
            ">0.857\n",
            ">1.000\n",
            ">1.000\n",
            ">1.000\n",
            ">1.000\n",
            ">1.000\n",
            ">1.000\n",
            ">1.000\n",
            ">0.667\n",
            "Train Accuracy: 0.965 (0.077)\n",
            "1/1 - 0s - loss: 0.0582 - accuracy: 0.8333\n",
            "Test Accuracy: 0.833 loss : 0.058\n"
          ]
        }
      ]
    },
    {
      "cell_type": "code",
      "metadata": {
        "colab": {
          "base_uri": "https://localhost:8080/"
        },
        "id": "iX1aNGIbgzuH",
        "outputId": "a4c25c1c-dbc5-4396-f656-f00c5e6efdd0"
      },
      "source": [
        "# Scores\n",
        "average=\"macro\"\n",
        "metric = Metric(average)\n",
        "y_test_pred = model.predict(X_test_prepared)\n",
        "inverse_y = inverse_trans(Y_test)\n",
        "inverse_y_pred = inverse_trans(y_test_pred)\n",
        "metric.confusion_metric(inverse_y, inverse_y_pred)\n",
        "metric.metric(inverse_y, inverse_y_pred)"
      ],
      "execution_count": 84,
      "outputs": [
        {
          "output_type": "stream",
          "name": "stdout",
          "text": [
            "# model result...\n",
            "\n",
            "confustion_matrix : \n",
            " [[6 1 2]\n",
            " [0 5 0]\n",
            " [0 0 4]] \n",
            "\n",
            "accuracy  : 0.8333333333333334 \n",
            " \bprecision : 0.8333333333333334 \n",
            " \brecall    : 0.8888888888888888 \n",
            "\n",
            " \bf1_score  : 0.8363636363636363 \n",
            "\n"
          ]
        }
      ]
    },
    {
      "cell_type": "markdown",
      "metadata": {
        "id": "s7vBeyBSgV9K"
      },
      "source": [
        "◆ Bootstrapping : n = 500"
      ]
    },
    {
      "cell_type": "code",
      "metadata": {
        "colab": {
          "base_uri": "https://localhost:8080/"
        },
        "id": "XZZq0tH2gUwN",
        "outputId": "deab0406-c7ae-41d7-b162-416e387a7ca4"
      },
      "source": [
        "if __name__ == '__main__':\n",
        "\n",
        "    # load data\n",
        "    facial = load_facial_data(data_path)\n",
        "    facial = resample(facial,n_samples=500) #bootstrap\n",
        "    # spilt train/test & onehot y\n",
        "    X_train, Y_train, X_test, Y_test = make_train_test(facial,0.2)\n",
        "    print(X_train.shape, Y_train.shape,X_test.shape,Y_test.shape)\n",
        "    # starndadization\n",
        "    std = StandardScaler()\n",
        "    X_train_prepared = std.fit_transform(X_train)\n",
        "    X_test_prepared = std.fit_transform(X_test)\n",
        "    # evaluate model - cross validation for train data\n",
        "    model, results = evaluate_model_cv(X_train_prepared, Y_train)\n",
        "    # evaluate model - test data\n",
        "    model, history = evaluate_model(model, X_train_prepared, Y_train, X_test_prepared, Y_test)\n",
        "    # get model\n",
        "    #model=get_model(X_test_prepared.shape[1], Y_test.shape[1])\n",
        "\n",
        "    # summarize performance\n",
        "    print('Train Accuracy: %.3f (%.3f)' % (np.mean(results), np.std(results)))\n",
        "\n",
        "    loss, acc = model.evaluate(X_test_prepared,  Y_test, verbose=2)\n",
        "    print('Test Accuracy: %.3f loss : %.3f' % (acc, loss))"
      ],
      "execution_count": 85,
      "outputs": [
        {
          "output_type": "stream",
          "name": "stdout",
          "text": [
            "(400, 22) (400, 3) (100, 22) (100, 3)\n",
            ">1.000\n",
            ">1.000\n",
            ">1.000\n",
            ">1.000\n",
            ">1.000\n",
            ">1.000\n",
            ">1.000\n",
            ">1.000\n",
            ">1.000\n",
            ">1.000\n",
            ">1.000\n",
            ">1.000\n",
            ">1.000\n",
            ">1.000\n",
            ">1.000\n",
            ">1.000\n",
            ">1.000\n",
            ">1.000\n",
            ">1.000\n",
            ">1.000\n",
            ">1.000\n",
            ">1.000\n",
            ">1.000\n",
            ">1.000\n",
            ">1.000\n",
            ">1.000\n",
            ">1.000\n",
            ">1.000\n",
            ">1.000\n",
            ">1.000\n",
            "Train Accuracy: 1.000 (0.000)\n",
            "4/4 - 0s - loss: 5.9365e-04 - accuracy: 1.0000\n",
            "Test Accuracy: 1.000 loss : 0.001\n"
          ]
        }
      ]
    },
    {
      "cell_type": "markdown",
      "metadata": {
        "id": "3nPt8pHFM-KY"
      },
      "source": [
        "##### (2) Display model loss"
      ]
    },
    {
      "cell_type": "code",
      "metadata": {
        "colab": {
          "base_uri": "https://localhost:8080/",
          "height": 457
        },
        "id": "uPNAK9NLrKMZ",
        "outputId": "feffa9bb-ab7f-4790-bb18-5130e4fde937"
      },
      "source": [
        "import matplotlib.pyplot as plt\n",
        "plt.figure(figsize=(15,7))\n",
        "\n",
        "# 학습 손실 값과 검증 손실 값을 플롯팅 합니다.\n",
        "plt.subplot(122)\n",
        "plt.plot(history.history['loss'])\n",
        "plt.plot(history.history['val_loss'])\n",
        "plt.title('Model loss')\n",
        "plt.ylabel('Loss')\n",
        "plt.xlabel('Epoch')\n",
        "#plt.ylim(0,1.4)\n",
        "plt.legend(['Train', 'Test'], loc='upper right')\n",
        "plt.show()"
      ],
      "execution_count": 86,
      "outputs": [
        {
          "output_type": "display_data",
          "data": {
            "image/png": "[encoded data removed]",
            "text/plain": [
              "<Figure size 1080x504 with 1 Axes>"
            ]
          },
          "metadata": {
            "needs_background": "light"
          }
        }
      ]
    },
    {
      "cell_type": "markdown",
      "metadata": {
        "id": "pYjTRakyNR4j"
      },
      "source": [
        "##### (3) Scores(CF, ACC, PRE, REC, F1)"
      ]
    },
    {
      "cell_type": "code",
      "metadata": {
        "colab": {
          "base_uri": "https://localhost:8080/"
        },
        "id": "w96EYyVI1oyJ",
        "outputId": "dd23de7a-ebbc-4b0d-ce58-8638dd3aaff8"
      },
      "source": [
        "# Scores\n",
        "average=\"macro\"\n",
        "metric = Metric(average)\n",
        "y_test_pred = model.predict(X_test_prepared)\n",
        "inverse_y = inverse_trans(Y_test)\n",
        "inverse_y_pred = inverse_trans(y_test_pred)\n",
        "metric.confusion_metric(inverse_y, inverse_y_pred)\n",
        "metric.metric(inverse_y, inverse_y_pred)"
      ],
      "execution_count": 87,
      "outputs": [
        {
          "output_type": "stream",
          "name": "stdout",
          "text": [
            "# model result...\n",
            "\n",
            "confustion_matrix : \n",
            " [[37  0  0]\n",
            " [ 0 37  0]\n",
            " [ 0  0 26]] \n",
            "\n",
            "accuracy  : 1.0 \n",
            " \bprecision : 1.0 \n",
            " \brecall    : 1.0 \n",
            "\n",
            " \bf1_score  : 1.0 \n",
            "\n"
          ]
        }
      ]
    },
    {
      "cell_type": "code",
      "metadata": {
        "colab": {
          "base_uri": "https://localhost:8080/"
        },
        "id": "iN_Zv317rKnj",
        "outputId": "2974e09a-e24e-4ec9-e5b5-d2642072c83d"
      },
      "source": [
        "np.sqrt(min(history.history['val_loss']))"
      ],
      "execution_count": 88,
      "outputs": [
        {
          "output_type": "execute_result",
          "data": {
            "text/plain": [
              "0.02225869937944435"
            ]
          },
          "metadata": {},
          "execution_count": 88
        }
      ]
    },
    {
      "cell_type": "code",
      "metadata": {
        "id": "TfbJjsiG5gx4"
      },
      "source": [
        "# final model save\n",
        "model.save('my_model.h5')"
      ],
      "execution_count": 89,
      "outputs": []
    },
    {
      "cell_type": "markdown",
      "metadata": {
        "id": "-48XjnEap4CA"
      },
      "source": [
        "## 3.Result"
      ]
    },
    {
      "cell_type": "markdown",
      "metadata": {
        "id": "2waSzQ2Fp7uF"
      },
      "source": [
        "\n",
        "★ 딥러닝이 가장 좋은 결과를 나타냈음\n",
        "\n",
        "★ 다양한 모델 구성 및 hyper parameters 조합으로 테스트하였으나, \n",
        "- f1 score 를 0.9 이상 올리기가 불가능하였고 결국 데이터량이 적다고 판단되었음.<br>\n",
        "- bootsrapping(n=500) 을 사용함<br>\n",
        "- 최종적으로 <br>\n",
        "loss(rmse) =0.02 , Confusion matrix, accuracy, precision, recall, f1 score = 1 을 얻게됨"
      ]
    },
    {
      "cell_type": "markdown",
      "metadata": {
        "id": "Knir_kHRCZNC"
      },
      "source": [
        "## 4.Launch Model"
      ]
    },
    {
      "cell_type": "markdown",
      "metadata": {
        "id": "DwZc2y5WEIfS"
      },
      "source": [
        "Main function 에 eval_path 에 New data(csv) 를  에 넣으면 아래단계가 자동 수행되도록 코딩<br>\n",
        " 1) loading > 2) preprocessing > 3) model loadding > 4) Prediction > 5) Metric <br>"
      ]
    },
    {
      "cell_type": "code",
      "metadata": {
        "colab": {
          "base_uri": "https://localhost:8080/"
        },
        "id": "MpqCHiIOA5Fb",
        "outputId": "5232c76c-c6d1-4d70-9661-2ffa8ff5dbcb"
      },
      "source": [
        "import time\n",
        "import urllib.request\n",
        "import zipfile\n",
        "\n",
        "def get_model():\n",
        "    '''\n",
        "    : 모델 download to /content/.. from Github\n",
        "    '''\n",
        "    url = 'https://raw.githubusercontent.com/kiakass/share/master/my_model.zip'\n",
        "    savename = \"/content/my_model.zip\"\n",
        "\n",
        "    mem = urllib.request.urlopen(url).read()\n",
        "    with open(savename, 'wb') as f:\n",
        "        f.write(mem)\n",
        "    urllib.request.urlretrieve(url,savename)\n",
        "\n",
        "    path_to_zip_file = \"/content/my_model.zip\"\n",
        "    directory_to_extract_to = '/content/'\n",
        "    with zipfile.ZipFile(path_to_zip_file, 'r') as zip_ref:\n",
        "        zip_ref.extractall(directory_to_extract_to)\n",
        "\n",
        "    saved_model = load_model(\"/content/my_model.h5\")\n",
        "\n",
        "    return saved_model\n",
        "\n",
        "def evaluation_test(model, eval_path):\n",
        "\n",
        "    \n",
        "    #load data\n",
        "    df = load_facial_data(eval_path)\n",
        "    print('data loadiing...')\n",
        "    # split : X, y \n",
        "    x_test, y_test = make_test(df)\n",
        "    print('data preprocessing...')\n",
        "    # standardization\n",
        "    x_test_prepared = std.fit_transform(x_test)\n",
        "\n",
        "    # predict y\n",
        "    print('model prediction...\\n')\n",
        "    y_pred = np.round(model.predict(x_test_prepared, verbose=0))\n",
        "    # inverse onehot to y_labels\n",
        "    inverse_y = inverse_trans(y_test)\n",
        "    inverse_y_pred = inverse_trans(y_pred)\n",
        "    \n",
        "    # Metric\n",
        "    ## confusion matrix\n",
        "    metric = Metric()\n",
        "    metric.confusion_metric(inverse_y, inverse_y_pred)\n",
        "    ## precision, recall, f1 scores\n",
        "    metric.metric(inverse_y, inverse_y_pred)\n",
        "\n",
        "if __name__ == '__main__':\n",
        "\n",
        "    # input new data : download path 만 바꿔주면 됩니다.\n",
        "    eval_path = 'https://raw.githubusercontent.com/kiakass/share/master/facial_test.csv'\n",
        "\n",
        "    # get model : save된 모델 download\n",
        "    saved_model = get_model()\n",
        "\n",
        "    # evaluation new data\n",
        "    evaluation_test(saved_model, eval_path)"
      ],
      "execution_count": 90,
      "outputs": [
        {
          "output_type": "stream",
          "name": "stdout",
          "text": [
            "data loadiing...\n",
            "data preprocessing...\n",
            "model prediction...\n",
            "\n",
            "# model result...\n",
            "\n",
            "confustion_matrix : \n",
            " [[10  0  0]\n",
            " [ 0  8  0]\n",
            " [ 0  0  9]] \n",
            "\n",
            "accuracy  : 1.0 \n",
            " \bprecision : 1.0 \n",
            " \brecall    : 1.0 \n",
            "\n",
            " \bf1_score  : 1.0 \n",
            "\n"
          ]
        }
      ]
    },
    {
      "cell_type": "code",
      "metadata": {
        "id": "3ORGJ_RMp_UF"
      },
      "source": [
        ""
      ],
      "execution_count": 90,
      "outputs": []
    }
  ]
}